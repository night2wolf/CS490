{
  "nbformat": 4,
  "nbformat_minor": 0,
  "metadata": {
    "colab": {
      "name": "Membership Attack - ICP66-TKLINKENBERG.ipynb",
      "version": "0.3.2",
      "provenance": [],
      "collapsed_sections": [],
      "include_colab_link": true
    },
    "kernelspec": {
      "name": "python3",
      "display_name": "Python 3"
    },
    "accelerator": "GPU"
  },
  "cells": [
    {
      "cell_type": "markdown",
      "metadata": {
        "id": "view-in-github",
        "colab_type": "text"
      },
      "source": [
        "<a href=\"https://colab.research.google.com/github/night2wolf/CS490/blob/master/Assignment2/Membership_Attack_Whitebox_TKLINKENBERG.ipynb\" target=\"_parent\"><img src=\"https://colab.research.google.com/assets/colab-badge.svg\" alt=\"Open In Colab\"/></a>"
      ]
    },
    {
      "cell_type": "code",
      "metadata": {
        "id": "OvK6LaVhrfZ8",
        "colab_type": "code",
        "colab": {}
      },
      "source": [
        "# required imports\n",
        "import sys \n",
        "import numpy as np \n",
        "import matplotlib.pyplot as plt\n",
        "%matplotlib inline  \n",
        "\n",
        "\n",
        "import torch\n",
        "import torchvision \n",
        "import torchvision.transforms as transforms\n",
        "import torch.optim as optim\n",
        "import torch.nn as nn\n",
        "import torch.nn.functional as F\n",
        "from torch.utils.data.sampler import SubsetRandomSampler"
      ],
      "execution_count": 0,
      "outputs": []
    },
    {
      "cell_type": "code",
      "metadata": {
        "id": "O05dkTKAsEh-",
        "colab_type": "code",
        "outputId": "3d4a246e-2203-4216-fc57-17ee3aa799dc",
        "colab": {
          "base_uri": "https://localhost:8080/",
          "height": 35
        }
      },
      "source": [
        "# mount the google drive to download the datasets\n",
        "from google.colab import drive\n",
        "drive.mount('/content/drive')\n",
        "project_path = '/CS490/ICP9'"
      ],
      "execution_count": 0,
      "outputs": [
        {
          "output_type": "stream",
          "text": [
            "Drive already mounted at /content/drive; to attempt to forcibly remount, call drive.mount(\"/content/drive\", force_remount=True).\n"
          ],
          "name": "stdout"
        }
      ]
    },
    {
      "cell_type": "code",
      "metadata": {
        "id": "pEW1mLverl7l",
        "colab_type": "code",
        "colab": {}
      },
      "source": [
        "# create transforms to load the images, nothing much is needed here. \n",
        "transform = transforms.Compose([transforms.ToTensor(),transforms.Normalize((0.5,),(0.5,))])\n"
      ],
      "execution_count": 0,
      "outputs": []
    },
    {
      "cell_type": "code",
      "metadata": {
        "id": "sjsFJTFwr1wV",
        "colab_type": "code",
        "outputId": "40c7133c-81bd-419e-b120-16e6f044ce89",
        "colab": {
          "base_uri": "https://localhost:8080/",
          "height": 54
        }
      },
      "source": [
        "# download CIFAR 10 training set\n",
        "trainset = torchvision.datasets.CIFAR10(root= project_path+'/data', train=True, download=True, transform=transform)\n",
        "\n",
        "# load the trainning set\n",
        "trainloader = torch.utils.data.DataLoader(trainset, batch_size=4, shuffle=True)\n",
        "\n",
        "# download the test data\n",
        "testset = torchvision.datasets.CIFAR10(root= project_path+'/data', train=False, download=True, transform=transform)\n",
        "\n",
        "# load the test data\n",
        "testloader = torch.utils.data.DataLoader(testset, batch_size=4, shuffle=True)\n",
        "\n",
        "classes = ('plane', 'car', 'bird', 'cat', 'deer', 'dog', 'frog', 'horse', 'ship', 'truck')\n",
        "# check those manually on the dataset site: https://www.cs.toronto.edu/~kriz/cifar.html "
      ],
      "execution_count": 0,
      "outputs": [
        {
          "output_type": "stream",
          "text": [
            "Files already downloaded and verified\n",
            "Files already downloaded and verified\n"
          ],
          "name": "stdout"
        }
      ]
    },
    {
      "cell_type": "code",
      "metadata": {
        "id": "itY7G_y3tDnC",
        "colab_type": "code",
        "outputId": "70f09f5a-ac70-475f-bf8f-be85e133832b",
        "colab": {
          "base_uri": "https://localhost:8080/",
          "height": 157
        }
      },
      "source": [
        "# helper function to unnormalize and plot image \n",
        "def imshow(img):\n",
        "    img = np.array(img)\n",
        "    img = img / 2 + 0.5\n",
        "    img = np.moveaxis(img, 0, -1)\n",
        "    plt.imshow(img)\n",
        "    \n",
        "# display sample from dataset \n",
        "imgs, labels = iter(trainloader).next()\n",
        "imshow(torchvision.utils.make_grid(imgs)) \n",
        "\n",
        "# notice who we converted the class idx to labels\n",
        "print(' '.join('%5s' % classes[labels[j]] for j in range(4)))\n",
        "\n",
        "# run this cell multiple times and notice diff images"
      ],
      "execution_count": 0,
      "outputs": [
        {
          "output_type": "stream",
          "text": [
            " ship  deer  frog plane\n"
          ],
          "name": "stdout"
        },
        {
          "output_type": "display_data",
          "data": {
            "image/png": "[encoded data removed]",
            "text/plain": [
              "<Figure size 432x288 with 1 Axes>"
            ]
          },
          "metadata": {
            "tags": []
          }
        }
      ]
    },
    {
      "cell_type": "code",
      "metadata": {
        "id": "AJK32k42gbEK",
        "colab_type": "code",
        "outputId": "200a76c6-24ed-42c9-c1ec-85361ee1be35",
        "colab": {
          "base_uri": "https://localhost:8080/",
          "height": 35
        }
      },
      "source": [
        "# divide the training dataset into the required groups Make sure they are balanced\n",
        "# original trainset is made of 50k images\n",
        "\n",
        "total_size = len(trainset)\n",
        "split1 = total_size // 4\n",
        "split2 = split1 * 2\n",
        "split3 = split1 * 3\n",
        "\n",
        "print(total_size, split1, split2, split3)\n",
        "\n",
        "indices = list(range(total_size))\n",
        "\n",
        "# two groups to train the shadow (in and out)\n",
        "shadow_train_idx = indices[:split1]\n",
        "shadow_out_idx = indices[split1:split2]\n",
        "\n",
        "# two groups to train the Target (in and out)\n",
        "target_train_idx = indices[split2:split3]\n",
        "target_out_idx = indices[split3:]"
      ],
      "execution_count": 0,
      "outputs": [
        {
          "output_type": "stream",
          "text": [
            "50000 12500 25000 37500\n"
          ],
          "name": "stdout"
        }
      ]
    },
    {
      "cell_type": "code",
      "metadata": {
        "id": "W4wJ_0lkhp76",
        "colab_type": "code",
        "colab": {}
      },
      "source": [
        "batch_size = 64 # pick your own\n",
        "\n",
        "# divide and load shadow train in and out\n",
        "shadow_train_sampler = SubsetRandomSampler(shadow_train_idx) # Pytorch function\n",
        "shadow_train_loader = torch.utils.data.DataLoader(trainset, batch_size=batch_size, sampler=shadow_train_sampler)\n",
        "\n",
        "shadow_out_sampler = SubsetRandomSampler(shadow_out_idx)\n",
        "shadow_out_loader = torch.utils.data.DataLoader(trainset, batch_size=batch_size, sampler=shadow_out_sampler)\n",
        "\n",
        "# divide and load Target in and out\n",
        "target_train_sampler = SubsetRandomSampler(target_train_idx)\n",
        "target_train_loader = torch.utils.data.DataLoader(trainset, batch_size=batch_size, sampler=target_train_sampler)\n",
        "\n",
        "target_out_sampler = SubsetRandomSampler(target_out_idx)\n",
        "target_out_loader = torch.utils.data.DataLoader(trainset, batch_size=batch_size, sampler=target_out_sampler)\n"
      ],
      "execution_count": 0,
      "outputs": []
    },
    {
      "cell_type": "code",
      "metadata": {
        "id": "Kj9LuQJNuCXC",
        "colab_type": "code",
        "colab": {}
      },
      "source": [
        "# create a CNN\n",
        "# Input shape (3, 32, 32) \n",
        "# architecture: simple. 2 conv and 2 Max pool, followed by 2 fc (120, 84) \n",
        "# output of fc is 10 because we have 10 classes!\n",
        "\n",
        "#Create Models\n",
        "\n",
        "class Net(nn.Module):\n",
        "    def __init__(self):\n",
        "        super(Net, self).__init__()\n",
        "        self.conv1 = nn.Conv2d(3,6,5)\n",
        "        self.pool = nn.MaxPool2d(2,2)\n",
        "        self.conv2 = nn.Conv2d(6,16,5)\n",
        "      \n",
        "        self.fc1 = nn.Linear(16*5*5,120)\n",
        "        self.fc2 = nn.Linear(120,84)\n",
        "        self.fc3 = nn.Linear(84,10)\n",
        "        \n",
        "    def forward(self, x):\n",
        "        x = self.pool(F.relu(self.conv1(x)))\n",
        "        x = self.pool(F.relu(self.conv2(x)))\n",
        "        x = x.view(-1,16*5*5)\n",
        "        x = F.relu(self.fc1(x))\n",
        "        x = F.relu(self.fc2(x))\n",
        "        x = self.fc3(x)\n",
        "        return x\n",
        "      \n",
        "\n",
        "      \n"
      ],
      "execution_count": 0,
      "outputs": []
    },
    {
      "cell_type": "code",
      "metadata": {
        "id": "Db8HF9hnChYG",
        "colab_type": "code",
        "colab": {}
      },
      "source": [
        "class Attack_Model(nn.Module):\n",
        "    def __init__(self):\n",
        "        super(Attack_Model,self).__init__()\n",
        "        self.fc1 = nn.Linear(10, 32)\n",
        "        self.fc2 = nn.Linear(32,1)\n",
        "    def forward(self,x):\n",
        "        x = F.relu(self.fc1(x))\n",
        "        x = self.fc2(x) \n",
        "        return x"
      ],
      "execution_count": 0,
      "outputs": []
    },
    {
      "cell_type": "code",
      "metadata": {
        "id": "Y-kplEQ2-DrL",
        "colab_type": "code",
        "colab": {}
      },
      "source": [
        "class Shadow_Model(nn.Module):\n",
        "    def __init__(self):\n",
        "        super(Shadow_Model, self).__init__()\n",
        "        self.conv1 = nn.Conv2d(3,6,5)\n",
        "        self.pool = nn.MaxPool2d(2,2)\n",
        "        self.conv2 = nn.Conv2d(6,16,5)\n",
        "      \n",
        "        self.fc1 = nn.Linear(16*5*5,120)\n",
        "        self.fc2 = nn.Linear(120,84)\n",
        "        self.fc3 = nn.Linear(84,36)\n",
        "        self.fc4 = nn.Linear(36,10)\n",
        "        \n",
        "    def forward(self, x):\n",
        "        x = self.pool(F.relu(self.conv1(x)))\n",
        "        x = self.pool(F.relu(self.conv2(x)))\n",
        "        x = x.view(-1,16*5*5)\n",
        "        x = F.relu(self.fc1(x))\n",
        "        x = F.relu(self.fc2(x))\n",
        "        x = F.relu(self.fc3(x))\n",
        "        x = self.fc4(x)\n",
        "        return x\n",
        "      "
      ],
      "execution_count": 0,
      "outputs": []
    },
    {
      "cell_type": "code",
      "metadata": {
        "id": "ER_B4V8YjKyU",
        "colab_type": "code",
        "colab": {}
      },
      "source": [
        "# initalize a target model and train it\n",
        "def train(model,criterion,epochs,training_set,learning_rate):\n",
        "    optimizer = optim.Adam(model.parameters(), lr = learning_rate) \n",
        "    e = epochs\n",
        "    losses = []\n",
        "    for epoch in range(e):  \n",
        "        model.train()\n",
        "        \n",
        "    \n",
        "        for i, data in enumerate(training_set, 0):\n",
        "            # get the inputs; data is a list of [inputs, labels]\n",
        "            inputs, labels = data\n",
        "            \n",
        "            # zero the parameter gradients\n",
        "            optimizer.zero_grad()\n",
        "            # forward + backward + optimize  \n",
        "        \n",
        "        \n",
        "            # make a prediction: forward prop\n",
        "        \n",
        "            # calculate the loss\n",
        "            outputs = model(inputs)\n",
        "            loss = criterion(outputs,labels)        \n",
        "            # calculate gradients\n",
        "            loss.backward()\n",
        "            # updaate weights in backprop\n",
        "\n",
        "            optimizer.step()\n",
        "            # print statistics\n",
        "            losses.append(loss.item())\n",
        "            \n",
        "\n",
        "    print('Finished Training the model...')"
      ],
      "execution_count": 0,
      "outputs": []
    },
    {
      "cell_type": "code",
      "metadata": {
        "id": "BKrloe67QZP1",
        "colab_type": "code",
        "colab": {}
      },
      "source": [
        "def train_attacker(attack_model,shadow_model,shadow_in,shadow_out,criterion,epochs,learning_rate,k):\n",
        "    attack_m = attack_model\n",
        "    shadow_m = shadow_model\n",
        "    # Freeze Shadow Model for evaluation\n",
        "    shadow_m.eval()\n",
        "    criterion = criterion\n",
        "    optimizer = optim.Adam(attack_m.parameters(), lr = learning_rate)\n",
        "    e = epochs\n",
        "    # Initialize predictions as empty arrays\n",
        "    in_predicts = []\n",
        "    out_predicts = []\n",
        "    losses = []                \n",
        "    attack_data_in = np.empty((0,2))\n",
        "    attack_data_out = np.empty((0,2))\n",
        "    for e in range(epochs):\n",
        "    # Enumerate shadow data and merge it\n",
        "        for i, ((in_data,_),(out_data,_)) in enumerate(zip(shadow_in,shadow_out)):\n",
        "            #Flatten data and get the model probabilities\n",
        "            label_tensor = in_data.shape[0]\n",
        "            inputs = in_data.view(in_data.shape[0],-1)\n",
        "            outputs = out_data.view(out_data.shape[0],-1)\n",
        "            #in_data = shadow_m.predict_proba(inputs)\n",
        "            #out_data = shadow_m.predict_proba(outputs)\n",
        "            in_predictions = F.softmax(shadow_m(in_data.detach()), dim=1)\n",
        "            out_predictions = F.softmax(shadow_m(out_data.detach()), dim=1)\n",
        "            in_sort, _ = torch.sort(in_predictions, descending = True)\n",
        "            in_sort_k = in_sort[:,:k].clone()\n",
        "            # Create labels for prediction data\n",
        "            in_lbl = torch.ones(label_tensor)\n",
        "            out_lbl = torch.zeros(label_tensor)\n",
        "            for data in in_sort_k:\n",
        "                in_predicts.append((data.max()).item())\n",
        "        \n",
        "            out_sort, _ = torch.sort(out_predictions, descending = True)\n",
        "            out_sort_k = out_sort[:,:k].clone()\n",
        "            for data in out_sort_k:\n",
        "                out_predicts.append((data.max()).item())\n",
        "\n",
        "    \n",
        "            running_loss = 0.0\n",
        "            optimizer.zero_grad()\n",
        "            in_p = torch.squeeze(attack_model(in_sort_k))\n",
        "            out_p = torch.squeeze(attack_model(out_sort_k))\n",
        "            loss_train = criterion(in_p,in_lbl)\n",
        "            loss_out = criterion(out_p,out_lbl)\n",
        "            loss = (loss_train + loss_out) / 2\n",
        "            loss.backward()\n",
        "            optimizer.step()\n",
        "            running_loss += loss.item()\n",
        "    print('Finished Training Attack Model.')\n",
        "            "
      ],
      "execution_count": 0,
      "outputs": []
    },
    {
      "cell_type": "code",
      "metadata": {
        "id": "205TBFEZotJK",
        "colab_type": "code",
        "colab": {}
      },
      "source": [
        "def eval_model(model,load_data):\n",
        "  # calculate the accuracy of the Target Model\n",
        "    correct = 0\n",
        "    total = 0\n",
        "    test_model = model\n",
        "    with torch.no_grad():\n",
        "        for data in load_data:\n",
        "            images, labels = data\n",
        "            outputs = test_model(images)\n",
        "            _, predicted = torch.max(outputs.data, 1)\n",
        "            total += labels.size(0)\n",
        "            correct += (predicted == labels).sum().item()\n",
        "\n",
        "    print('Accuracy of the network on the 10000 test images in target out: %d %%' % (100 * correct / total))"
      ],
      "execution_count": 0,
      "outputs": []
    },
    {
      "cell_type": "code",
      "metadata": {
        "id": "j5E2vdL05AqR",
        "colab_type": "code",
        "colab": {}
      },
      "source": [
        "def eval_attack_net(attack_net, target, target_train, target_out, k):\n",
        "    # https://github.com/Lab41/cyphercat/blob/master/Utils/metrics.py\n",
        "    \n",
        "    in_predicts=[]\n",
        "    out_predicts=[]\n",
        "    losses = []\n",
        "    target_net = target\n",
        "    target_net.eval()\n",
        "    attack_net.eval()\n",
        "\n",
        "    \n",
        "    precisions = []\n",
        "    recalls = []\n",
        "    accuracies = []\n",
        "\n",
        "    #for threshold in np.arange(0.5, 1, 0.005):\n",
        "    thresholds = np.arange(0.5, 1, 0.005)\n",
        "\n",
        "    total = np.zeros(len(thresholds))\n",
        "    correct = np.zeros(len(thresholds))\n",
        "\n",
        "    true_positives = np.zeros(len(thresholds))\n",
        "    false_positives = np.zeros(len(thresholds))\n",
        "    false_negatives = np.zeros(len(thresholds))   \n",
        " \n",
        "    train_top = np.empty((0,2))\n",
        "    out_top = np.empty((0,2))\n",
        "    \n",
        "    for i, ((train_imgs, _), (out_imgs, _)) in enumerate(zip(target_train, target_out)):\n",
        "\n",
        "\n",
        "        mini_batch_size = train_imgs.shape[0]\n",
        "        train_imgs, out_imgs = train_imgs, out_imgs\n",
        "        \n",
        "        #[mini_batch_size x num_classes] tensors, (0,1) probabilities for each class for each sample)\n",
        "        train_posteriors = F.softmax(target_net(train_imgs.detach()), dim=1)\n",
        "        out_posteriors = F.softmax(target_net(out_imgs.detach()), dim=1)\n",
        "        \n",
        "\n",
        "        #[k x mini_batch_size] tensors, (0,1) probabilities for top k probable classes\n",
        "        train_sort, _ = torch.sort(train_posteriors, descending=True)\n",
        "        train_top_k = train_sort[:,:k].clone()\n",
        "        out_sort, _ = torch.sort(out_posteriors, descending=True)\n",
        "        out_top_k = out_sort[:,:k].clone()\n",
        "        \n",
        "        #Collects probabilities for predicted class.\n",
        "        for p in train_top_k:\n",
        "            in_predicts.append((p.max()).item())\n",
        "        for p in out_top_k:\n",
        "            out_predicts.append((p.max()).item())\n",
        "        #print(\"train_top_k = \",train_top_k)\n",
        "        #print(\"out_top_k = \",out_top_k)\n",
        "        \n",
        "        #print(train_top.shape)\n",
        "        \n",
        "        train_lbl = torch.ones(mini_batch_size)\n",
        "        out_lbl = torch.zeros(mini_batch_size)\n",
        "        \n",
        "        #Takes in probabilities for top k most likely classes, outputs ~1 (in training set) or ~0 (out of training set)\n",
        "        train_predictions = F.sigmoid(torch.squeeze(attack_net(train_top_k)))\n",
        "        out_predictions = F.sigmoid(torch.squeeze(attack_net(out_top_k)))\n",
        "\n",
        "\n",
        "        for j, t in enumerate(thresholds):\n",
        "            true_positives[j] += (train_predictions >= t).sum().item()\n",
        "            false_positives[j] += (out_predictions >= t).sum().item()\n",
        "            false_negatives[j] += (train_predictions < t).sum().item()\n",
        "            #print(train_top >= threshold)\n",
        "\n",
        "\n",
        "            #print((train_top >= threshold).sum().item(),',',(out_top >= threshold).sum().item())\n",
        "\n",
        "            correct[j] += (train_predictions >= t).sum().item()\n",
        "            correct[j] += (out_predictions < t).sum().item()\n",
        "            total[j] += train_predictions.size(0) + out_predictions.size(0)\n",
        "\n",
        "    #print(true_positives,',',false_positives,',',false_negatives)\n",
        "\n",
        "    for j, t in enumerate(thresholds):\n",
        "        accuracy = 100 * correct[j] / total[j]\n",
        "        precision = true_positives[j] / (true_positives[j] + false_positives[j]) if true_positives[j] + false_positives[j] != 0 else 0\n",
        "        recall = true_positives[j] / (true_positives[j] + false_negatives[j]) if true_positives[j] + false_negatives[j] !=0 else 0\n",
        "        accuracies.append(accuracy)\n",
        "        precisions.append(precision)\n",
        "        recalls.append(recall)\n",
        "\n",
        "    print(\"threshold = %.4f, accuracy = %.2f, precision = %.2f, recall = %.2f\" % (t, accuracy, precision, recall))\n",
        "        \n",
        "\n",
        "        \n",
        "    plt.plot(recalls, precisions)\n",
        "    plt.xlabel(\"Recall\")\n",
        "    plt.ylabel(\"Precision\")\n",
        "    plt.show()\n",
        " "
      ],
      "execution_count": 0,
      "outputs": []
    },
    {
      "cell_type": "code",
      "metadata": {
        "id": "oIq5vi2Sj6Nk",
        "colab_type": "code",
        "outputId": "b0a91c72-5d0b-457c-8872-f59f96dd208e",
        "colab": {
          "base_uri": "https://localhost:8080/",
          "height": 54
        }
      },
      "source": [
        "#Train the regular model\n",
        "model = Net()\n",
        "criterion = nn.CrossEntropyLoss()\n",
        "train_data = target_train_loader\n",
        "epochs = 25\n",
        "lr = .001\n",
        "train(model,criterion,epochs,train_data,lr)\n",
        "eval_model(model,target_out_loader)"
      ],
      "execution_count": 0,
      "outputs": [
        {
          "output_type": "stream",
          "text": [
            "Finished Training the model...\n",
            "Accuracy of the network on the 10000 test images in target out: 52 %\n"
          ],
          "name": "stdout"
        }
      ]
    },
    {
      "cell_type": "code",
      "metadata": {
        "id": "7Z-RLGh6_bq2",
        "colab_type": "code",
        "outputId": "ad21e0ec-b4dc-448d-dbf3-1e314a4b993c",
        "colab": {
          "base_uri": "https://localhost:8080/",
          "height": 54
        }
      },
      "source": [
        "#Train the shadow model\n",
        "\n",
        "shadow_model = Net()\n",
        "shadow_criterion = nn.CrossEntropyLoss()\n",
        "shadow_train_data = shadow_train_loader\n",
        "shadow_epochs = 25\n",
        "shadow_lr = .001\n",
        "train(shadow_model,shadow_criterion,shadow_epochs,shadow_train_data,shadow_lr)\n",
        "eval_model(shadow_model,shadow_out_loader)\n"
      ],
      "execution_count": 0,
      "outputs": [
        {
          "output_type": "stream",
          "text": [
            "Finished Training the model...\n",
            "Accuracy of the network on the 10000 test images in target out: 53 %\n"
          ],
          "name": "stdout"
        }
      ]
    },
    {
      "cell_type": "code",
      "metadata": {
        "id": "7_orwSpOtiQr",
        "colab_type": "code",
        "outputId": "7031bfd3-f64f-4fa1-f006-c3fadf2f4f5a",
        "colab": {
          "base_uri": "https://localhost:8080/",
          "height": 356
        }
      },
      "source": [
        "#Train the attack model\n",
        "attack_model = Attack_Model()\n",
        "shadow_model = shadow_model\n",
        "attack_criterion = nn.MSELoss()\n",
        "shadow_in = shadow_train_loader\n",
        "shadow_out = shadow_out_loader\n",
        "attack_epochs = 25\n",
        "attack_lr = .001\n",
        "k =10\n",
        "train_attacker(attack_model,shadow_model,shadow_in,shadow_out,attack_criterion,attack_epochs,attack_lr,k)\n",
        "eval_attack_net(attack_model,model,train_data,target_out_loader,k)"
      ],
      "execution_count": 0,
      "outputs": [
        {
          "output_type": "stream",
          "text": [
            "Finished Training Attack Model.\n"
          ],
          "name": "stdout"
        },
        {
          "output_type": "stream",
          "text": [
            "/usr/local/lib/python3.6/dist-packages/torch/nn/functional.py:1386: UserWarning: nn.functional.sigmoid is deprecated. Use torch.sigmoid instead.\n",
            "  warnings.warn(\"nn.functional.sigmoid is deprecated. Use torch.sigmoid instead.\")\n"
          ],
          "name": "stderr"
        },
        {
          "output_type": "stream",
          "text": [
            "threshold = 0.9950, accuracy = 50.00, precision = 0.00, recall = 0.00\n"
          ],
          "name": "stdout"
        },
        {
          "output_type": "display_data",
          "data": {
            "image/png": "[encoded data removed]",
            "text/plain": [
              "<Figure size 432x288 with 1 Axes>"
            ]
          },
          "metadata": {
            "tags": []
          }
        }
      ]
    },
    {
      "cell_type": "markdown",
      "metadata": {
        "id": "IEClKFqikmUl",
        "colab_type": "text"
      },
      "source": [
        "\n",
        "\n",
        "---\n",
        "\n"
      ]
    },
    {
      "cell_type": "code",
      "metadata": {
        "id": "Ha_VqRVVkoCm",
        "colab_type": "code",
        "colab": {}
      },
      "source": [
        "\n",
        "# initalize a Shadow Model and Train it\n",
        "# for the first ICP, your shadow model can have the same CNN architecture and hyperparameters"
      ],
      "execution_count": 0,
      "outputs": []
    },
    {
      "cell_type": "code",
      "metadata": {
        "id": "_ymKnj7QpdDG",
        "colab_type": "code",
        "colab": {}
      },
      "source": [
        "# create the Attack Model: A NN binary classifier {0, 1}\n",
        "# the input to this model is the propability distribution vector of size 10\n",
        "# and the output is either 0 (input was not included in training) or 1"
      ],
      "execution_count": 0,
      "outputs": []
    },
    {
      "cell_type": "code",
      "metadata": {
        "id": "0J1B1OhMp6er",
        "colab_type": "code",
        "colab": {}
      },
      "source": [
        "# calculate the recall and precision of your attack network using the Target_out and Target_in datasets\n",
        "# to do so, take a random numer of datapoints, run them throw the target model,\n",
        "# and then input the output of the target model to your attack network \n",
        "# you already know the target_in and target_out samples, so use that info to evaluate the attack model \n"
      ],
      "execution_count": 0,
      "outputs": []
    },
    {
      "cell_type": "markdown",
      "metadata": {
        "id": "XMsyCgziqeaa",
        "colab_type": "text"
      },
      "source": [
        "Great! At this point, you must have created a succesfful attack model that can detect whether a datapoint was used in training a target mode or not. \n",
        "* A successful attack model is one with a precision/recall higher than 85% -- you are using same architecture and are aware of the data classes\n",
        "\n",
        " \n",
        " Can you suggest any defense mechanism? If yes, Apply them to your solution and re-evaluate your attack model. How did your defense mecanism affect the accuracy of the target model? How did it affect the recall and precision of the Attack model?"
      ]
    }
  ]
}