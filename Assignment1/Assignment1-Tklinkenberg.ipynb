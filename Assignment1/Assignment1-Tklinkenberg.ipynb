{
 "cells": [
  {
   "cell_type": "markdown",
   "metadata": {},
   "source": [
    "# Assignment: Varying Amounts of Noise\n",
    "\n",
    "In this project, I want you to augment the randomized response query (the one we just wrote) to allow for varying amounts of randomness to be added. Specifically, I want you to bias the coin flip to be higher or lower and then run the same experiment. \n",
    "\n",
    "Note - this one is a bit tricker than you might expect. You need to both adjust the likelihood of the first coin flip AND the de-skewing at the end (where we create the \"augmented_result\" variable)."
   ]
  },
  {
   "cell_type": "code",
   "execution_count": 4,
   "metadata": {},
   "outputs": [],
   "source": [
    "import torch\n",
    "def create_db(entries):\n",
    "  return torch.rand(entries) > 0.5"
   ]
  },
  {
   "cell_type": "code",
   "execution_count": 11,
   "metadata": {},
   "outputs": [],
   "source": [
    "def create_noisy_db(db,variance):\n",
    "    # Check that variance is less then 1\n",
    "    if (variance > 1):\n",
    "         raise ValueError(\"Variance must be less then 1\")\n",
    "    #TODO: Compress the below statements\n",
    "    condb = db.type(torch.LongTensor)\n",
    "    flip1 = torch.rand(len(db)) > variance\n",
    "    flip2 = torch.rand(len(db)) > variance\n",
    "    flip1con = flip1.type(torch.LongTensor)\n",
    "    flip2con = flip2.type(torch.LongTensor)\n",
    "    # manipulate the original DB tensor based upon the results of coin flips\n",
    "    for i in range(len(condb)):\n",
    "        if (flip1.data[i] == 0):\n",
    "            condb.data[i] = flip2con.data[i]\n",
    "        else:\n",
    "            condb.data[i] == condb.data[i]\n",
    "    \n",
    "    return condb"
   ]
  },
  {
   "cell_type": "code",
   "execution_count": 13,
   "metadata": {},
   "outputs": [
    {
     "name": "stdout",
     "output_type": "stream",
     "text": [
      "tensor(0.4700)\n",
      "tensor(0.1200)\n"
     ]
    }
   ],
   "source": [
    "db = create_db(100)\n",
    "noisy = create_noisy_db(db,.9)\n",
    "floatdb = db.type(torch.FloatTensor)\n",
    "noisyfloat = noisy.type(torch.FloatTensor)\n",
    "print(torch.mean(floatdb.data))\n",
    "print(torch.mean(noisyfloat.data))"
   ]
  }
 ],
 "metadata": {
  "kernelspec": {
   "display_name": "Python 3",
   "language": "python",
   "name": "python3"
  },
  "language_info": {
   "codemirror_mode": {
    "name": "ipython",
    "version": 3
   },
   "file_extension": ".py",
   "mimetype": "text/x-python",
   "name": "python",
   "nbconvert_exporter": "python",
   "pygments_lexer": "ipython3",
   "version": "3.7.3"
  }
 },
 "nbformat": 4,
 "nbformat_minor": 2
}
