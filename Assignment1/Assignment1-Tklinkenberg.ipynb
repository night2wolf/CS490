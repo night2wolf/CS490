{
 "cells": [
  {
   "cell_type": "markdown",
   "metadata": {},
   "source": [
    "# Assignment: Varying Amounts of Noise\n",
    "\n",
    "In this project, I want you to augment the randomized response query (the one we just wrote) to allow for varying amounts of randomness to be added. Specifically, I want you to bias the coin flip to be higher or lower and then run the same experiment. \n",
    "\n",
    "Note - this one is a bit tricker than you might expect. You need to both adjust the likelihood of the first coin flip AND the de-skewing at the end (where we create the \"augmented_result\" variable)."
   ]
  },
  {
   "cell_type": "code",
   "execution_count": 1,
   "metadata": {},
   "outputs": [],
   "source": [
    "import torch\n",
    "def create_db(entries):\n",
    "  return torch.rand(entries) > 0.5"
   ]
  },
  {
   "cell_type": "code",
   "execution_count": 2,
   "metadata": {},
   "outputs": [],
   "source": [
    "def create_noisy_db(db,variance):\n",
    "    # Check that variance is less then 1\n",
    "    if (variance > 1):\n",
    "         raise ValueError(\"Variance must be less then 1\")\n",
    "    condb = db.type(torch.LongTensor)\n",
    "    flip1 = torch.rand(len(db)) > variance\n",
    "    flip2 = torch.rand(len(db)) > variance\n",
    "    flip1con = flip1.type(torch.LongTensor)\n",
    "    flip2con = flip2.type(torch.LongTensor)\n",
    "    # manipulate the original DB tensor based upon the results of coin flips\n",
    "    for i in range(len(condb)):\n",
    "        if (flip1.data[i] == 0):\n",
    "            condb.data[i] = flip2con.data[i]\n",
    "        else:\n",
    "            condb.data[i] == condb.data[i]\n",
    "    \n",
    "    return condb"
   ]
  },
  {
   "cell_type": "code",
   "execution_count": 14,
   "metadata": {},
   "outputs": [
    {
     "name": "stdout",
     "output_type": "stream",
     "text": [
      "tensor(0.4600)\n",
      "tensor(0.3267)\n",
      "tensor(0.3400)\n"
     ]
    }
   ],
   "source": [
    "# Alter this to change the weight of the coin flips\n",
    "variance = .6\n",
    "# Create databases and convert\n",
    "db = create_db(100)\n",
    "noisy = create_noisy_db(db,variance)\n",
    "floatdb = db.type(torch.FloatTensor)\n",
    "noisyfloat = noisy.type(torch.FloatTensor)\n",
    "# True estimation of the query\n",
    "truth = (noisyfloat / variance) - variance*(1-variance)\n",
    "# print the query without noise, the estimation of the query, and the query with noise.\n",
    "print(torch.mean(floatdb.data))\n",
    "print(torch.mean(truth.data))\n",
    "print(torch.mean(noisyfloat.data))"
   ]
  },
  {
   "cell_type": "code",
   "execution_count": null,
   "metadata": {},
   "outputs": [],
   "source": [
    "\"\"\"\n",
    "reverse engineer the statistics calculate the truth-> P(yes) == P(yes|head) * P(head) + P(yes|tail) * P(tail)\n",
    "\n",
    "P(noise) = .5 truth + .25 \n",
    "^^^ this is with a even weighted coin\n",
    "\"\"\"\n",
    "noisyfloat = Variance * truth + variance * (1-variance)\n",
    "truth = ((noisyfloat - variance*(1-variance)) / variance"
   ]
  }
 ],
 "metadata": {
  "kernelspec": {
   "display_name": "Python 3",
   "language": "python",
   "name": "python3"
  },
  "language_info": {
   "codemirror_mode": {
    "name": "ipython",
    "version": 3
   },
   "file_extension": ".py",
   "mimetype": "text/x-python",
   "name": "python",
   "nbconvert_exporter": "python",
   "pygments_lexer": "ipython3",
   "version": "3.7.3"
  }
 },
 "nbformat": 4,
 "nbformat_minor": 2
}
