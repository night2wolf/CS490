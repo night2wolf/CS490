{
 "cells": [
  {
   "cell_type": "markdown",
   "metadata": {
    "colab_type": "text",
    "id": "ZU0JgNTD5BJK"
   },
   "source": [
    "## Toy Differential Privacy - Simple Database Queries"
   ]
  },
  {
   "cell_type": "markdown",
   "metadata": {
    "colab_type": "text",
    "id": "wbKYWRrD5BJK"
   },
   "source": [
    "In the context of Deep Learning, Differential Privacy ensures that the DL algorithms learns only what is is supposed to learn from the data while ignoring what it is not supposed to learn from the data. This is called Differential Privacy (DP). But what is DP?\n",
    "\n",
    "\n",
    "\n",
    "\n",
    "\n",
    "**Differential Privacy (DP):** \n",
    "The main goal is to ensure that statistical analysis techniques does not compromise the privacy of any particular individual in the dataset. \n",
    "\n",
    "*  Classical privacy defination: privacy is preserved if after the analysis is done, the analyzer does not know anything about the people in the dataset. (No information leak from the data.)\n",
    "\n",
    "- The Netflix Prize (anonymized simply! Attacked using the Linkage Attack)\n",
    "- Anonymization is not enough to protect our privacy\n",
    "\n",
    "A modern definition by Cynthia Dwork:\n",
    "DP describes a promise made by the data holder to a data subject that:  \"you will not be affected by allowing your data to be used in any study or analysis , no matter what other studies, datasets, or information sources are available\".\n",
    "\n",
    "\n",
    "**DP** is a mathematical definition of privacy. In the simplest setting, consider an algorithm that analyzes a dataset and computes statistics about it (such as the data's mean, variance, median, mode, etc.). Such an algorithm is said to be differentially private if by looking at the output, one cannot tell whether any individual's data was included in the original dataset or not. \n"
   ]
  },
  {
   "cell_type": "markdown",
   "metadata": {
    "colab_type": "text",
    "id": "tlqpsupNwzdd"
   },
   "source": [
    "\n",
    "\n",
    "---\n",
    "\n",
    "\n",
    "In this section we're going to play around with Differential Privacy in the context of a database query. The database is going to be a VERY simple database with only one boolean vector. Each row corresponds to a person. Each value corresponds to whether or not that person has a certain private attribute (such as whether they have a certain disease, or whether they are above/below a certain age). \n",
    "\n",
    "We are then going to learn how to know whether a database query over such a small database is differentially private or not - and more importantly - what techniques are at our disposal to ensure various levels of privacy\n",
    "\n",
    "\n",
    "### First We Create a Simple Database\n",
    "\n",
    "Step one is to create our database - we're going to do this by initializing a random list of 1s and 0s (which are the entries in our database). Note - the number of entries directly corresponds to the number of people in our database."
   ]
  },
  {
   "cell_type": "code",
   "execution_count": null,
   "metadata": {
    "colab": {},
    "colab_type": "code",
    "id": "jzGB2H925BJL",
    "outputId": "723b3e5c-88f3-4fe1-837c-ce777c1811b6"
   },
   "outputs": [],
   "source": [
    "import torch\n",
    "\n",
    "# the number of entries in our database\n",
    "num_entries = 5000\n",
    "\n",
    "db = torch.rand(num_entries) > 0.5 # returns a new Boolean tensor with each value > 0.5 set to 1 otherwise set to 0\n",
    "db"
   ]
  },
  {
   "cell_type": "markdown",
   "metadata": {
    "colab_type": "text",
    "id": "08nxGBFT5BJQ"
   },
   "source": [
    "## Project: Generate Parallel Databases\n",
    "\n",
    "Key to the definition of differenital privacy is the ability to ask the question \"When querying a database, if I removed someone from the database, would the output of the query be any different?\". Thus, in order to check this, we must construct what we term \"parallel databases\" which are simply databases with one entry removed. \n",
    "\n",
    "In this first project, I want you to create a list of every parallel database to the one currently contained in the \"db\" variable. Then, I want you to create a function which both:\n",
    "\n",
    "- creates the initial database (db)\n",
    "- creates all parallel databases"
   ]
  },
  {
   "cell_type": "code",
   "execution_count": null,
   "metadata": {
    "colab": {},
    "colab_type": "code",
    "id": "WpWkwFBh5BJQ"
   },
   "outputs": [],
   "source": [
    "import torch"
   ]
  },
  {
   "cell_type": "code",
   "execution_count": null,
   "metadata": {
    "colab": {
     "base_uri": "https://localhost:8080/",
     "height": 35
    },
    "colab_type": "code",
    "executionInfo": {
     "elapsed": 806,
     "status": "ok",
     "timestamp": 1560462538900,
     "user": {
      "displayName": "Gharib Gharibi",
      "photoUrl": "https://lh3.googleusercontent.com/-jKnQDkmhZKk/AAAAAAAAAAI/AAAAAAAAAPw/6ddzRde_d0Q/s64/photo.jpg",
      "userId": "12269101840630561007"
     },
     "user_tz": 300
    },
    "id": "NNvnoh1B5BJS",
    "outputId": "0c6a945f-6525-4a0a-a7b3-cbaec48eacb5"
   },
   "outputs": [],
   "source": [
    "def create_db(entries):\n",
    "  return torch.rand(entries) > 0.5\n",
    "db = create_db(5000)\n",
    "db"
   ]
  },
  {
   "cell_type": "code",
   "execution_count": null,
   "metadata": {
    "colab": {},
    "colab_type": "code",
    "id": "QmtQw-R15BJU"
   },
   "outputs": [],
   "source": [
    "# create a function to create paraller db\n",
    "def get_parallel_dbs(db):\n",
    "\n",
    "    parallel_dbs = list()\n",
    "\n",
    "    for i in range(len(db)):\n",
    "        pdb = torch.cat((db[0:i], db[i+1:]))\n",
    "        parallel_dbs.append(pdb)\n",
    "    #print(f'A databse of size {db.shape} was created')\n",
    "    return parallel_dbs\n",
    "\n",
    "pdb = get_parallel_dbs(db)\n"
   ]
  },
  {
   "cell_type": "code",
   "execution_count": null,
   "metadata": {
    "colab": {},
    "colab_type": "code",
    "id": "zGnmz4Os5BJV"
   },
   "outputs": [],
   "source": [
    "# a helper function for the future\n",
    "def get_db_and_parallel(num_entries):\n",
    "  db = torch.rand(num_entries) > 0.5\n",
    "  pdb = get_parallel_dbs(db)\n",
    "  return db, pdb"
   ]
  },
  {
   "cell_type": "code",
   "execution_count": null,
   "metadata": {
    "colab": {},
    "colab_type": "code",
    "id": "QjboW-h95BJX"
   },
   "outputs": [],
   "source": [
    "def create_all_dbs(entries):\n",
    "    db = create_db(entries)\n",
    "    pdb = get_parallel_dbs(db)\n",
    "    get_db_and_parallel(entries)\n",
    "    return db, pdb \n",
    "\n",
    "# print(pdb)\n",
    "# print(db)"
   ]
  },
  {
   "cell_type": "code",
   "execution_count": null,
   "metadata": {},
   "outputs": [],
   "source": [
    "a, b = create_all_dbs(5000)\n",
    "print(a)\n",
    "print('break point')\n",
    "print(b)"
   ]
  },
  {
   "cell_type": "markdown",
   "metadata": {
    "colab_type": "text",
    "id": "FDztwe045BJZ"
   },
   "source": [
    "# Lesson: Towards Evaluating The Differential Privacy of a Function\n",
    "\n",
    "Intuitively, we want to be able to query our database and evaluate whether or not the result of the query is leaking \"private\" information. As mentioned previously, this is about evaluating whether the output of a query changes when we remove someone from the database. Specifically, we want to evaluate the *maximum* amount the query changes when someone is removed (maximum over all possible people who could be removed). So, in order to evaluate how much privacy is leaked, we're going to iterate over each person in the database and measure the difference in the output of the query relative to when we query the entire database. \n",
    "\n",
    "Just for the sake of argument, let's make our first \"database query\" a simple sum. Aka, we're going to count the number of 1s in the database."
   ]
  },
  {
   "cell_type": "code",
   "execution_count": null,
   "metadata": {
    "colab": {},
    "colab_type": "code",
    "id": "_ChVS5xE5BJZ"
   },
   "outputs": [],
   "source": [
    "db,pdb = create_all_dbs(5000)\n",
    "torch.sum(db.data)\n"
   ]
  },
  {
   "cell_type": "code",
   "execution_count": null,
   "metadata": {
    "colab": {},
    "colab_type": "code",
    "id": "j3jrqjMI5BJh"
   },
   "outputs": [],
   "source": [
    "sensitivity = 0  # maximum difference between query(db) and each query(pdb)\n",
    "  # return the value of sensitivity\n",
    "  # loop on each pdb in the pdbs and calculate its distance\n",
    "db,pbd = create_all_dbs(5000)\n",
    "sensitivity = torch.sum(db.data)\n",
    "for a in pdb:\n",
    "    b = torch.sum(a.data)\n",
    "    pdbsensitivity = sensitivity - b\n",
    "    print(pdbsensitivity)\n",
    "    if b > b:\n",
    "        b = b\n",
    "sensitivity = sensitivity - b\n",
    "  # find the maximum distance <-- that's your sensitivity\n",
    "print(sensitivity)"
   ]
  },
  {
   "cell_type": "code",
   "execution_count": null,
   "metadata": {
    "colab": {
     "base_uri": "https://localhost:8080/",
     "height": 35
    },
    "colab_type": "code",
    "executionInfo": {
     "elapsed": 683,
     "status": "ok",
     "timestamp": 1560454024320,
     "user": {
      "displayName": "Gharib Gharibi",
      "photoUrl": "https://lh3.googleusercontent.com/-jKnQDkmhZKk/AAAAAAAAAAI/AAAAAAAAAPw/6ddzRde_d0Q/s64/photo.jpg",
      "userId": "12269101840630561007"
     },
     "user_tz": 300
    },
    "id": "KvRJWrqK5BJj",
    "outputId": "d8894b61-fca1-4a8b-f40a-e07a2b938f9e"
   },
   "outputs": [],
   "source": [
    "sensitivity"
   ]
  },
  {
   "cell_type": "markdown",
   "metadata": {
    "colab_type": "text",
    "id": "30nCWZaG5BJl"
   },
   "source": [
    "# Exercise - Evaluating the Privacy of a Function\n",
    "\n",
    "In the last section, we measured the difference between each parallel db's query result and the query result for the entire database and then calculated the max value (which was 1). This value is called \"sensitivity\", and it corresponds to the function we chose for the query. Namely, the \"sum\" query will always have a sensitivity of exactly 1. However, we can also calculate sensitivity for other functions as well.\n",
    "\n",
    "First, create a function that will accept (1) a query function and (2) a num_items to generate the db and the pdb: \n",
    "\n",
    "**Hint:** def sensitivity(query, num_items)"
   ]
  },
  {
   "cell_type": "code",
   "execution_count": null,
   "metadata": {
    "colab": {},
    "colab_type": "code",
    "id": "1horUInX5BJm"
   },
   "outputs": [],
   "source": [
    "# define a function to calculate the sensitivity of a query\n",
    "def sensitivity(query, num_items):\n",
    "    sensitivity = 0\n",
    "  # generate the db and the pdbs\n",
    "    db,pdb = create_all_dbs(num_items)\n",
    "  \n",
    "  # query the db\n",
    "  \n",
    "  \n",
    "  # return the value of sensitivity\n",
    "    \n",
    "  # loop on each pdb in the pdbs and calculate its distance\n",
    "  # find the maximum distance <-- that's your sensitivity\n",
    "    sensitivity = torch.sum(db.data)\n",
    "    for a in pdb:\n",
    "        b = torch.sum(a.data)\n",
    "        #pdbsensitivity = sensitivity - b    \n",
    "        if b > b:\n",
    "            b = b\n",
    "  # find the maximum distance <-- that's your sensitivity\n",
    "    sensitivity = sensitivity - b\n",
    "\n",
    "    \n",
    "    return sensitivity  \n",
    "  "
   ]
  },
  {
   "cell_type": "code",
   "execution_count": null,
   "metadata": {
    "colab": {},
    "colab_type": "code",
    "id": "oDIqo7Jj5BJn"
   },
   "outputs": [],
   "source": [
    "# recreate the sum query we created earlier\n",
    "torch.sum(db.data)"
   ]
  },
  {
   "cell_type": "code",
   "execution_count": null,
   "metadata": {
    "colab": {},
    "colab_type": "code",
    "id": "RrIqncaK5BJo"
   },
   "outputs": [],
   "source": [
    "# test your sensitivity function with the sum query\n",
    "test = sensitivity(torch.sum(db.data),5000)\n",
    "print(test)"
   ]
  },
  {
   "cell_type": "code",
   "execution_count": null,
   "metadata": {
    "colab": {},
    "colab_type": "code",
    "id": "Q1x-ei2s5BJq"
   },
   "outputs": [],
   "source": [
    "# create a new query function, which finds the mean rather than the sum\n",
    "def sensitivity(query, num_items):\n",
    "    sensitivity = 0\n",
    "  # generate the db and the pdbs\n",
    "    db,pdb = create_all_dbs(num_items)\n",
    "  \n",
    "  # query the db\n",
    "      \n",
    "  \n",
    "  # return the value of sensitivity\n",
    "    \n",
    "  # loop on each pdb in the pdbs and calculate its distance\n",
    "  # find the maximum distance <-- that's your sensitivity\n",
    "    floattensor = db.type(torch.FloatTensor)\n",
    "    sensitivity = torch.mean(floattensor)\n",
    "    for a in pdb:\n",
    "        tensorf = a.type(torch.FloatTensor)\n",
    "        b = torch.mean(tensorf)\n",
    "        #pdbsensitivity = sensitivity - b    \n",
    "        if b > b:\n",
    "            b = b\n",
    "  # find the maximum distance <-- that's your sensitivity\n",
    "    sensitivity = sensitivity - b\n",
    "\n",
    "    \n",
    "    return sensitivity  \n",
    " "
   ]
  },
  {
   "cell_type": "code",
   "execution_count": null,
   "metadata": {
    "colab": {},
    "colab_type": "code",
    "id": "Lu9z_WHA5BJr"
   },
   "outputs": [],
   "source": [
    "# test your sensitivity function of the Mean query\n",
    "# how much the output value (query) is using informaiton from each of the participating observations\n",
    "sensitivity(torch.sum(db.data), 1000)"
   ]
  },
  {
   "cell_type": "code",
   "execution_count": null,
   "metadata": {
    "colab": {},
    "colab_type": "code",
    "id": "ep7ZWONu5BJw"
   },
   "outputs": [],
   "source": []
  },
  {
   "cell_type": "markdown",
   "metadata": {
    "colab_type": "text",
    "id": "BFQfOp2Z5BJy"
   },
   "source": [
    "Wow! That sensitivity is WAY lower. Note the intuition here. \"Sensitivity\" is measuring how sensitive the output of the query is to a person being removed from the database. For a simple sum, this is always 1, but for the mean, removing a person is going to change the result of the query by rougly 1 divided by the size of the database (which is much smaller). Thus, \"mean\" is a VASTLY less \"sensitive\" function (query) than SUM."
   ]
  },
  {
   "cell_type": "markdown",
   "metadata": {
    "colab_type": "text",
    "id": "VE1uK8YW5BJz"
   },
   "source": [
    "# Exercise: Calculate L1 Sensitivity For Threshold\n",
    "\n",
    "In this exercise, you need to calculate the sensitivty for the \"threshold\" function. \n",
    "\n",
    "- First compute the sum over the database (i.e. sum(db)) and return whether that sum is greater than a certain threshold.\n",
    "\n",
    "- Then, create databases of size 10 and threshold of 5 and calculate the sensitivity of the function. \n",
    "\n",
    "- Finally, re-initialize the database 10 times and calculate the sensitivity each time."
   ]
  },
  {
   "cell_type": "code",
   "execution_count": null,
   "metadata": {
    "colab": {},
    "colab_type": "code",
    "id": "WWjqHplZ5BJz"
   },
   "outputs": [],
   "source": [
    "# define a function to query the sum and return wethere the sum is greater or less than a threshold\n"
   ]
  },
  {
   "cell_type": "code",
   "execution_count": null,
   "metadata": {
    "colab": {},
    "colab_type": "code",
    "id": "twbkT1cO5BJ1"
   },
   "outputs": [],
   "source": [
    "# the sensitivity with db of size 10 and threshold of 5\n"
   ]
  },
  {
   "cell_type": "code",
   "execution_count": null,
   "metadata": {
    "colab": {},
    "colab_type": "code",
    "id": "rQdXh4pX5BJ3"
   },
   "outputs": [],
   "source": [
    "# repeat for 10 times\n"
   ]
  },
  {
   "cell_type": "code",
   "execution_count": null,
   "metadata": {
    "colab": {},
    "colab_type": "code",
    "id": "939aUgmb5BJ5"
   },
   "outputs": [],
   "source": []
  },
  {
   "cell_type": "markdown",
   "metadata": {
    "colab_type": "text",
    "id": "uSpX8dIj5BKB"
   },
   "source": [
    "# A Basic Differencing Attack\n",
    "\n",
    "Sadly none of the functions we've looked at so far are differentially private (despite them having varying levels of sensitivity). The most basic type of attack can be done as follows.\n",
    "\n",
    "Let's say we wanted to figure out a specific person's value in the database. All we would have to do is query for the sum of the entire database and then the sum of the entire database without that person!\n",
    "\n",
    "# Exercise:  Perform a Differencing Attack on Row 10\n",
    "\n",
    "In this project, construct a database and then demonstrate how you can use  different queries (sum, threshold, and mean) to explose the value of the person represented by row 10 in the database (note, you'll need to use a database with at least 10 rows)"
   ]
  },
  {
   "cell_type": "code",
   "execution_count": null,
   "metadata": {
    "colab": {},
    "colab_type": "code",
    "id": "V3fQ-5Yr5BKC"
   },
   "outputs": [],
   "source": [
    "# Perform a differencing attack using the sum query on row 10\n"
   ]
  },
  {
   "cell_type": "code",
   "execution_count": null,
   "metadata": {
    "colab": {},
    "colab_type": "code",
    "id": "j9iG9DHRaRfH"
   },
   "outputs": [],
   "source": []
  },
  {
   "cell_type": "code",
   "execution_count": null,
   "metadata": {
    "colab": {},
    "colab_type": "code",
    "id": "3BpMubXO5BKD"
   },
   "outputs": [],
   "source": [
    "# Perform a differencing attack using the mean query on row 10\n"
   ]
  },
  {
   "cell_type": "code",
   "execution_count": null,
   "metadata": {
    "colab": {},
    "colab_type": "code",
    "id": "302S0ZEr5BKF"
   },
   "outputs": [],
   "source": [
    "# Perform a differencing attack using the threshold query on row 10\n"
   ]
  },
  {
   "cell_type": "markdown",
   "metadata": {
    "colab_type": "text",
    "id": "768QSDSa5BKP"
   },
   "source": [
    "# Project: Local Differential Privacy\n",
    "\n",
    "As you can see, the basic sum query is not differentially private at all! In truth, differential privacy always requires a form of randomness added to the query. Let me show you what I mean.\n",
    "\n",
    "### Randomized Response (Local Differential Privacy)\n",
    "\n",
    "Let's say I have a group of people I wish to survey about a very taboo behavior which I think they will lie about (say, I want to know if they have ever committed a certain kind of crime). I'm not a policeman, I'm just trying to collect statistics to understand the higher level trend in society. So, how do we do this? One technique is to add randomness to each person's response by giving each person the following instructions (assuming I'm asking a simple yes/no question):\n",
    "\n",
    "- Flip a coin 2 times.\n",
    "- If the first coin flip is heads, answer honestly\n",
    "- If the first coin flip is tails, answer according to the second coin flip (heads for yes, tails for no)!\n",
    "\n",
    "Thus, each person is now protected with \"plausible deniability\". If they answer \"Yes\" to the question \"have you committed X crime?\", then it might becasue they actually did, or it might be becasue they are answering according to a random coin flip. Each person has a high degree of protection. Furthermore, we can recover the underlying statistics with some accuracy, as the \"true statistics\" are simply averaged with a 50% probability. Thus, if we collect a bunch of samples and it turns out that 60% of people answer yes, then we know that the TRUE distribution is actually centered around 70%, because 70% averaged wtih 50% (a coin flip) is 60% which is the result we obtained. \n",
    "\n",
    "However, it should be noted that, especially when we only have a few samples, the this comes at the cost of accuracy. This tradeoff exists across all of Differential Privacy. The greater the privacy protection (plausible deniability) the less accurate the results. \n",
    "\n",
    "Let's implement this local DP for our database before!"
   ]
  },
  {
   "cell_type": "code",
   "execution_count": 15,
   "metadata": {
    "colab": {},
    "colab_type": "code",
    "id": "jfZkjLYc5BKQ"
   },
   "outputs": [
    {
     "name": "stdout",
     "output_type": "stream",
     "text": [
      "tensor([1, 0, 0, 0, 1, 0, 0, 1, 1, 0], dtype=torch.uint8)\n",
      "tensor([0, 1, 0, 1, 1, 0, 0, 0, 0, 0], dtype=torch.uint8)\n",
      "tensor([1, 0, 0, 0, 1, 0, 0, 1, 1, 0])\n"
     ]
    }
   ],
   "source": [
    "# try this project here!\n",
    "import torch\n",
    "def create_db(entries):\n",
    "  return torch.rand(entries) > 0.5\n",
    "\"\"\"\n",
    "db = create_db(10)\n",
    "dupdb = create_db(10)\n",
    "print(db.data)\n",
    "print(dupdb.data)\n",
    "condb = db.type(torch.LongTensor)\n",
    "print(condb.data)\n",
    "\"\"\""
   ]
  },
  {
   "cell_type": "code",
   "execution_count": 40,
   "metadata": {
    "colab": {},
    "colab_type": "code",
    "id": "8Nlas8J25BKS"
   },
   "outputs": [],
   "source": [
    "# create a function to create paraller db\n",
    "def create_noisy_db(db,flip1,flip2):\n",
    "    condb = db.type(torch.LongTensor)\n",
    "    flip1con = flip1.type(torch.LongTensor)\n",
    "    flip2con = flip2.type(torch.LongTensor)\n",
    "    for i in range(len(condb)):\n",
    "        if (flip1.data[i] == 0):\n",
    "            condb.data[i] = flip2con.data[i]\n",
    "        else:\n",
    "            condb.data[i] == condb.data[i]\n",
    "    \n",
    "    return condb\n"
   ]
  },
  {
   "cell_type": "code",
   "execution_count": 44,
   "metadata": {
    "colab": {},
    "colab_type": "code",
    "id": "g57d11q75BKU"
   },
   "outputs": [
    {
     "name": "stdout",
     "output_type": "stream",
     "text": [
      "tensor(0.5600)\n",
      "tensor(0.5200)\n",
      "tensor(0.5100)\n"
     ]
    }
   ],
   "source": [
    "db = create_db(100)\n",
    "flip1 = create_db(100)\n",
    "flip2 = create_db(100)\n",
    "noisy = create_noisy_db(db,flip1,flip2)\n",
    "floatdb = db.type(torch.FloatTensor)\n",
    "noisyfloat = noisy.type(torch.FloatTensor)\n",
    "print(torch.mean(floatdb.data))\n",
    "#truthsum = torch.mean(noisyfloat.data)\n",
    "#truth = (truthsum - .25) *2\n",
    "#print(truth)\n",
    "print(torch.mean(noisyfloat.data))"
   ]
  },
  {
   "cell_type": "markdown",
   "metadata": {
    "colab_type": "text",
    "id": "C-SgDHTp5BKd"
   },
   "source": [
    "# Assignment: Varying Amounts of Noise\n",
    "\n",
    "In this project, I want you to augment the randomized response query (the one we just wrote) to allow for varying amounts of randomness to be added. Specifically, I want you to bias the coin flip to be higher or lower and then run the same experiment. \n",
    "\n",
    "Note - this one is a bit tricker than you might expect. You need to both adjust the likelihood of the first coin flip AND the de-skewing at the end (where we create the \"augmented_result\" variable)."
   ]
  },
  {
   "cell_type": "code",
   "execution_count": null,
   "metadata": {
    "colab": {},
    "colab_type": "code",
    "id": "py7xHeKE5BKe"
   },
   "outputs": [],
   "source": [
    "# try this project here!\n",
    "import Torch\n",
    "def create_db(entries):\n",
    "  return torch.rand(entries) > 0.5\n"
   ]
  },
  {
   "cell_type": "code",
   "execution_count": null,
   "metadata": {
    "colab": {},
    "colab_type": "code",
    "id": "bkXFuIXY5BKf"
   },
   "outputs": [],
   "source": [
    "def noisy_with_variance(db,flip1,flip2,variance):\n",
    "  return db"
   ]
  },
  {
   "cell_type": "code",
   "execution_count": null,
   "metadata": {
    "colab": {},
    "colab_type": "code",
    "id": "2Q5GcslJ5BKg"
   },
   "outputs": [],
   "source": []
  },
  {
   "cell_type": "code",
   "execution_count": null,
   "metadata": {
    "colab": {},
    "colab_type": "code",
    "id": "r7Q7_0wt5BKi"
   },
   "outputs": [],
   "source": []
  },
  {
   "cell_type": "code",
   "execution_count": null,
   "metadata": {
    "colab": {},
    "colab_type": "code",
    "id": "nW2yJSJl5BKn"
   },
   "outputs": [],
   "source": [
    "def noise(entries):\n",
    "    "
   ]
  },
  {
   "cell_type": "code",
   "execution_count": null,
   "metadata": {
    "colab": {},
    "colab_type": "code",
    "id": "1PW-E5fr5BKp"
   },
   "outputs": [],
   "source": []
  },
  {
   "cell_type": "code",
   "execution_count": null,
   "metadata": {
    "colab": {},
    "colab_type": "code",
    "id": "J3RkGQHB5BKq"
   },
   "outputs": [],
   "source": []
  },
  {
   "cell_type": "code",
   "execution_count": null,
   "metadata": {
    "colab": {},
    "colab_type": "code",
    "id": "wbL6I-o_5BKt"
   },
   "outputs": [],
   "source": []
  },
  {
   "cell_type": "code",
   "execution_count": null,
   "metadata": {
    "colab": {},
    "colab_type": "code",
    "id": "p4jnIgi65BKv"
   },
   "outputs": [],
   "source": []
  },
  {
   "cell_type": "markdown",
   "metadata": {
    "colab_type": "text",
    "id": "EuiU5Q4B5BKy"
   },
   "source": [
    "# Lesson: The Formal Definition of Differential Privacy\n",
    "\n",
    "The previous method of adding noise was called \"Local Differentail Privacy\" because we added noise to each datapoint individually. This is necessary for some situations wherein the data is SO sensitive that individuals do not trust noise to be added later. However, it comes at a very high cost in terms of accuracy. \n",
    "\n",
    "However, alternatively we can add noise AFTER data has been aggregated by a function. This kind of noise can allow for similar levels of protection with a lower affect on accuracy. However, participants must be able to trust that no-one looked at their datapoints _before_ the aggregation took place. In some situations this works out well, in others (such as an individual hand-surveying a group of people), this is less realistic.\n",
    "\n",
    "Nevertheless, global differential privacy is incredibly important because it allows us to perform differential privacy on smaller groups of individuals with lower amounts of noise. Let's revisit our sum functions."
   ]
  },
  {
   "cell_type": "code",
   "execution_count": null,
   "metadata": {
    "colab": {},
    "colab_type": "code",
    "id": "yNQs1VWV5BKz",
    "outputId": "eafaa853-9854-4592-b3a7-11beb62cf262"
   },
   "outputs": [],
   "source": [
    "db, pdbs = create_db_and_parallels(100)\n",
    "\n",
    "def query(db):\n",
    "    return torch.sum(db.float())\n",
    "\n",
    "def M(db):\n",
    "    query(db) + noise\n",
    "\n",
    "query(db)"
   ]
  },
  {
   "cell_type": "markdown",
   "metadata": {
    "colab_type": "text",
    "id": "spyNhiCd5BK0"
   },
   "source": [
    "So the idea here is that we want to add noise to the output of our function. We actually have two different kinds of noise we can add - Laplacian Noise or Gaussian Noise. However, before we do so at this point we need to dive into the formal definition of Differential Privacy.\n",
    "\n",
    "![alt text](dp_formula.png \"Title\")"
   ]
  },
  {
   "cell_type": "markdown",
   "metadata": {
    "colab_type": "text",
    "id": "wdNKR7f_5BK1"
   },
   "source": [
    "_Image From: \"The Algorithmic Foundations of Differential Privacy\" - Cynthia Dwork and Aaron Roth - https://www.cis.upenn.edu/~aaroth/Papers/privacybook.pdf_"
   ]
  },
  {
   "cell_type": "markdown",
   "metadata": {
    "colab_type": "text",
    "id": "K9h85ktU5BK1"
   },
   "source": [
    "This definition does not _create_ differential privacy, instead it is a measure of how much privacy is afforded by a query M. Specifically, it's a comparison between running the query M on a database (x) and a parallel database (y). As you remember, parallel databases are defined to be the same as a full database (x) with one entry/person removed.\n",
    "\n",
    "Thus, this definition says that FOR ALL parallel databases, the maximum distance between a query on database (x) and the same query on database (y) will be e^epsilon, but that occasionally this constraint won't hold with probability delta. Thus, this theorem is called \"epsilon delta\" differential privacy.\n",
    "\n",
    "# Epsilon\n",
    "\n",
    "Let's unpack the intuition of this for a moment. \n",
    "\n",
    "Epsilon Zero: If a query satisfied this inequality where epsilon was set to 0, then that would mean that the query for all parallel databases outputed the exact same value as the full database. As you may remember, when we calculated the \"threshold\" function, often the Sensitivity was 0. In that case, the epsilon also happened to be zero.\n",
    "\n",
    "Epsilon One: If a query satisfied this inequality with epsilon 1, then the maximum distance between all queries would be 1 - or more precisely - the maximum distance between the two random distributions M(x) and M(y) is 1 (because all these queries have some amount of randomness in them, just like we observed in the last section).\n",
    "\n",
    "# Delta\n",
    "\n",
    "Delta is basically the probability that epsilon breaks. Namely, sometimes the epsilon is different for some queries than it is for others. For example, you may remember when we were calculating the sensitivity of threshold, most of the time sensitivity was 0 but sometimes it was 1. Thus, we could calculate this as \"epsilon zero but non-zero delta\" which would say that epsilon is perfect except for some probability of the time when it's arbitrarily higher. Note that this expression doesn't represent the full tradeoff between epsilon and delta."
   ]
  },
  {
   "cell_type": "markdown",
   "metadata": {
    "colab_type": "text",
    "id": "MV12MsPI5BK1"
   },
   "source": [
    "# Lesson: How To Add Noise for Global Differential Privacy\n",
    "\n",
    "In this lesson, we're going to learn about how to take a query and add varying amounts of noise so that it satisfies a certain degree of differential privacy. In particular, we're going to leave behind the Local Differential privacy previously discussed and instead opt to focus on Global differential privacy. \n",
    "\n",
    "So, to sum up, this lesson is about adding noise to the output of our query so that it satisfies a certain epsilon-delta differential privacy threshold.\n",
    "\n",
    "There are two kinds of noise we can add - Gaussian Noise or Laplacian Noise. Generally speaking Laplacian is better, but both are still valid. Now to the hard question...\n",
    "\n",
    "### How much noise should we add?\n",
    "\n",
    "The amount of noise necessary to add to the output of a query is a function of four things:\n",
    "\n",
    "- the type of noise (Gaussian/Laplacian)\n",
    "- the sensitivity of the query/function\n",
    "- the desired epsilon (ε)\n",
    "- the desired delta (δ)\n",
    "\n",
    "Thus, for each type of noise we're adding, we have different way of calculating how much to add as a function of sensitivity, epsilon, and delta. We're going to focus on Laplacian noise. Laplacian noise is increased/decreased according to a \"scale\" parameter b. We choose \"b\" based on the following formula.\n",
    "\n",
    "b = sensitivity(query) / epsilon\n",
    "\n",
    "In other words, if we set b to be this value, then we know that we will have a privacy leakage of <= epsilon. Furthermore, the nice thing about Laplace is that it guarantees this with delta == 0. There are some tunings where we can have very low epsilon where delta is non-zero, but we'll ignore them for now.\n",
    "\n",
    "### Querying Repeatedly\n",
    "\n",
    "- if we query the database multiple times - we can simply add the epsilons (Even if we change the amount of noise and their epsilons are not the same)."
   ]
  },
  {
   "cell_type": "code",
   "execution_count": null,
   "metadata": {
    "colab": {},
    "colab_type": "code",
    "id": "hRcJfnp45BK2"
   },
   "outputs": [],
   "source": [
    "beta = sensitivity(query) / epsilon"
   ]
  },
  {
   "cell_type": "markdown",
   "metadata": {
    "colab_type": "text",
    "id": "x8r7HiI25BK2"
   },
   "source": [
    "# Project: Create a Differentially Private Query\n",
    "\n",
    "In this project, I want you to take what you learned in the previous lesson and create a query function which sums over the database and adds just the right amount of noise such that it satisfies an epsilon constraint. Write a query for both \"sum\" and for \"mean\". Ensure that you use the correct sensitivity measures for both."
   ]
  },
  {
   "cell_type": "code",
   "execution_count": 3,
   "metadata": {
    "colab": {},
    "colab_type": "code",
    "id": "TaFnnkFg5BK3"
   },
   "outputs": [],
   "source": [
    "# try this project here!\n",
    "import torch\n",
    "import numpy as np"
   ]
  },
  {
   "cell_type": "code",
   "execution_count": 4,
   "metadata": {
    "colab": {},
    "colab_type": "code",
    "id": "9LlDtc0b5BK5"
   },
   "outputs": [
    {
     "data": {
      "text/plain": [
       "array([0.05161574])"
      ]
     },
     "execution_count": 4,
     "metadata": {},
     "output_type": "execute_result"
    }
   ],
   "source": [
    "beta = 0.1\n",
    "np.random.laplace(0,beta,1)"
   ]
  },
  {
   "cell_type": "code",
   "execution_count": 5,
   "metadata": {
    "colab": {},
    "colab_type": "code",
    "id": "DiyjnaXm5BK6"
   },
   "outputs": [],
   "source": [
    "# Function to create database\n",
    "def create_db(entries):\n",
    "  return torch.rand(entries) > 0.5\n",
    "# create a function to create paraller db\n",
    "def get_parallel_dbs(db):\n",
    "    parallel_dbs = list()\n",
    "    for i in range(len(db)):\n",
    "        pdb = torch.cat((db[0:i], db[i+1:]))\n",
    "        parallel_dbs.append(pdb)\n",
    "    #print(f'A databse of size {db.shape} was created')\n",
    "    return parallel_dbs\n",
    "# a helper function for create all dbs\n",
    "def get_db_and_parallel(num_entries):\n",
    "    db = torch.rand(num_entries) > 0.5\n",
    "    pdb = get_parallel_dbs(db)\n",
    "    return db, pdb\n",
    "# shortcut to create both db and parallel dbs at same time\n",
    "def create_all_dbs(entries):\n",
    "    db = create_db(entries)\n",
    "    pdb = get_parallel_dbs(db)\n",
    "    get_db_and_parallel(entries)\n",
    "    return db, pdb \n"
   ]
  },
  {
   "cell_type": "code",
   "execution_count": 6,
   "metadata": {},
   "outputs": [],
   "source": [
    "# query functions\n",
    "def query_sum(db):\n",
    "    return torch.sum(db.float())\n",
    "def query_mean(db):\n",
    "    return torch.mean(db.float())"
   ]
  },
  {
   "cell_type": "code",
   "execution_count": 7,
   "metadata": {
    "colab": {},
    "colab_type": "code",
    "id": "cqJSW-n-5BK7"
   },
   "outputs": [],
   "source": [
    "def lap_mechanism(query,db,sensitivity,epsilon):\n",
    "    beta = sensitivity / epsilon\n",
    "    return query + torch.from_numpy(np.random.laplace(0,beta,1))"
   ]
  },
  {
   "cell_type": "code",
   "execution_count": 8,
   "metadata": {
    "colab": {},
    "colab_type": "code",
    "id": "XiPXzxWH5BK8"
   },
   "outputs": [
    {
     "name": "stdout",
     "output_type": "stream",
     "text": [
      "tensor(505.)\n",
      "tensor([505.1459], dtype=torch.float64)\n",
      "tensor(0.5050)\n",
      "tensor([0.2739], dtype=torch.float64)\n"
     ]
    }
   ],
   "source": [
    "db, pdb = create_all_dbs(1000)\n",
    "noise = lap_mechanism(query_sum(db),db,1,1)\n",
    "print(query_sum(db))\n",
    "print(noise)\n",
    "noise2 = lap_mechanism(query_mean(db),db,1,1)\n",
    "print(query_mean(db))\n",
    "print(noise2)"
   ]
  },
  {
   "cell_type": "code",
   "execution_count": null,
   "metadata": {
    "colab": {},
    "colab_type": "code",
    "id": "Mkvlk72r5BK9"
   },
   "outputs": [],
   "source": []
  },
  {
   "cell_type": "code",
   "execution_count": null,
   "metadata": {
    "colab": {},
    "colab_type": "code",
    "id": "PXqd5HNZ5BK-"
   },
   "outputs": [],
   "source": []
  },
  {
   "cell_type": "code",
   "execution_count": null,
   "metadata": {
    "colab": {},
    "colab_type": "code",
    "id": "xZK2hA8U5BK_"
   },
   "outputs": [],
   "source": []
  },
  {
   "cell_type": "code",
   "execution_count": null,
   "metadata": {
    "colab": {},
    "colab_type": "code",
    "id": "sH0DVicA5BLA"
   },
   "outputs": [],
   "source": []
  },
  {
   "cell_type": "markdown",
   "metadata": {
    "colab_type": "text",
    "id": "JFrUdcRH5BLB"
   },
   "source": [
    "# Lesson: Differential Privacy for Deep Learning\n",
    "\n",
    "So in the last lessons you may have been wondering - what does all of this have to do with Deep Learning? Well, these same techniques we were just studying form the core primitives for how Differential Privacy provides guarantees in the context of Deep Learning. \n",
    "\n",
    "Previously, we defined perfect privacy as \"a query to a database returns the same value even if we remove any person from the database\", and used this intuition in the description of epsilon/delta. In the context of deep learning we have a similar standard.\n",
    "\n",
    "Training a model on a dataset should return the same model even if we remove any person from the dataset.\n",
    "\n",
    "Thus, we've replaced \"querying a database\" with \"training a model on a dataset\". In essence, the training process is a kind of query. However, one should note that this adds two points of complexity which database queries did not have:\n",
    "\n",
    "    1. do we always know where \"people\" are referenced in the dataset?\n",
    "    2. neural models rarely never train to the same output model, even on identical data\n",
    "\n",
    "The answer to (1) is to treat each training example as a single, separate person. Strictly speaking, this is often overly zealous as some training examples have no relevance to people and others may have multiple/partial (consider an image with multiple people contained within it). Thus, localizing exactly where \"people\" are referenced, and thus how much your model would change if people were removed, is challenging.\n",
    "\n",
    "The answer to (2) is also an open problem - but several interesitng proposals have been made. We're going to focus on one of the most popular proposals, PATE.\n",
    "\n",
    "## An Example Scenario: A Health Neural Network\n",
    "\n",
    "First we're going to consider a scenario - you work for a hospital and you have a large collection of images about your patients. However, you don't know what's in them. You would like to use these images to develop a neural network which can automatically classify them, however since your images aren't labeled, they aren't sufficient to train a classifier. \n",
    "\n",
    "However, being a cunning strategist, you realize that you can reach out to 10 partner hospitals which DO have annotated data. It is your hope to train your new classifier on their datasets so that you can automatically label your own. While these hospitals are interested in helping, they have privacy concerns regarding information about their patients. Thus, you will use the following technique to train a classifier which protects the privacy of patients in the other hospitals.\n",
    "\n",
    "- 1) You'll ask each of the 10 hospitals to train a model on their own datasets (All of which have the same kinds of labels)\n",
    "- 2) You'll then use each of the 10 partner models to predict on your local dataset, generating 10 labels for each of your datapoints\n",
    "- 3) Then, for each local data point (now with 10 labels), you will perform a DP query to generate the final true label. This query is a \"max\" function, where \"max\" is the most frequent label across the 10 labels. We will need to add laplacian noise to make this Differentially Private to a certain epsilon/delta constraint.\n",
    "- 4) Finally, we will retrain a new model on our local dataset which now has labels. This will be our final \"DP\" model.\n",
    "\n",
    "So, let's walk through these steps. I will assume you're already familiar with how to train/predict a deep neural network, so we'll skip steps 1 and 2 and work with example data. We'll focus instead on step 3, namely how to perform the DP query for each example using toy data.\n",
    "\n",
    "So, let's say we have 10,000 training examples, and we've got 10 labels for each example (from our 10 \"teacher models\" which were trained directly on private data). Each label is chosen from a set of 10 possible labels (categories) for each image."
   ]
  },
  {
   "cell_type": "code",
   "execution_count": 13,
   "metadata": {
    "colab": {},
    "colab_type": "code",
    "id": "pPYsz4z55BLC"
   },
   "outputs": [],
   "source": [
    "import numpy as np"
   ]
  },
  {
   "cell_type": "code",
   "execution_count": 14,
   "metadata": {
    "colab": {},
    "colab_type": "code",
    "id": "3TAxH0ZV5BLE"
   },
   "outputs": [],
   "source": [
    "num_teachers = 10 # we're working with 10 partner hospitals\n",
    "num_examples = 10000 # the size of OUR dataset\n",
    "num_labels = 10 # number of lablels for our classifier"
   ]
  },
  {
   "cell_type": "code",
   "execution_count": 15,
   "metadata": {
    "colab": {},
    "colab_type": "code",
    "id": "e3pfLJQ-5BLG"
   },
   "outputs": [],
   "source": [
    "preds = (np.random.rand(num_teachers, num_examples) * num_labels).astype(int).transpose(1,0) # fake predictions"
   ]
  },
  {
   "cell_type": "code",
   "execution_count": 16,
   "metadata": {
    "colab": {},
    "colab_type": "code",
    "id": "tbBANFve5BLJ"
   },
   "outputs": [],
   "source": [
    "new_labels = list()\n",
    "for an_image in preds:\n",
    "\n",
    "    label_counts = np.bincount(an_image, minlength=num_labels)\n",
    "\n",
    "    epsilon = 0.1\n",
    "    beta = 1 / epsilon\n",
    "\n",
    "    for i in range(len(label_counts)):\n",
    "        label_counts[i] += np.random.laplace(0, beta, 1)\n",
    "\n",
    "    new_label = np.argmax(label_counts)\n",
    "    \n",
    "    new_labels.append(new_label)"
   ]
  },
  {
   "cell_type": "code",
   "execution_count": 17,
   "metadata": {
    "colab": {},
    "colab_type": "code",
    "id": "ilgSYTTG5BLK"
   },
   "outputs": [
    {
     "data": {
      "text/plain": [
       "[0,\n",
       " 9,\n",
       " 1,\n",
       " 1,\n",
       " 2,\n",
       " 9,\n",
       " 6,\n",
       " 9,\n",
       " 0,\n",
       " 3,\n",
       " 6,\n",
       " 1,\n",
       " 0,\n",
       " 0,\n",
       " 8,\n",
       " 8,\n",
       " 5,\n",
       " 4,\n",
       " 8,\n",
       " 4,\n",
       " 0,\n",
       " 9,\n",
       " 9,\n",
       " 0,\n",
       " 0,\n",
       " 0,\n",
       " 5,\n",
       " 8,\n",
       " 7,\n",
       " 0,\n",
       " 4,\n",
       " 4,\n",
       " 4,\n",
       " 5,\n",
       " 3,\n",
       " 2,\n",
       " 4,\n",
       " 7,\n",
       " 7,\n",
       " 9,\n",
       " 7,\n",
       " 4,\n",
       " 7,\n",
       " 6,\n",
       " 7,\n",
       " 4,\n",
       " 1,\n",
       " 5,\n",
       " 8,\n",
       " 1,\n",
       " 2,\n",
       " 6,\n",
       " 4,\n",
       " 2,\n",
       " 9,\n",
       " 0,\n",
       " 5,\n",
       " 2,\n",
       " 6,\n",
       " 7,\n",
       " 7,\n",
       " 1,\n",
       " 5,\n",
       " 8,\n",
       " 0,\n",
       " 3,\n",
       " 0,\n",
       " 5,\n",
       " 7,\n",
       " 4,\n",
       " 8,\n",
       " 9,\n",
       " 8,\n",
       " 9,\n",
       " 5,\n",
       " 2,\n",
       " 7,\n",
       " 9,\n",
       " 6,\n",
       " 6,\n",
       " 4,\n",
       " 7,\n",
       " 9,\n",
       " 7,\n",
       " 6,\n",
       " 3,\n",
       " 2,\n",
       " 2,\n",
       " 4,\n",
       " 2,\n",
       " 6,\n",
       " 8,\n",
       " 1,\n",
       " 7,\n",
       " 0,\n",
       " 0,\n",
       " 7,\n",
       " 3,\n",
       " 3,\n",
       " 7,\n",
       " 5,\n",
       " 5,\n",
       " 1,\n",
       " 0,\n",
       " 0,\n",
       " 8,\n",
       " 6,\n",
       " 2,\n",
       " 2,\n",
       " 3,\n",
       " 0,\n",
       " 5,\n",
       " 0,\n",
       " 5,\n",
       " 2,\n",
       " 8,\n",
       " 0,\n",
       " 8,\n",
       " 1,\n",
       " 5,\n",
       " 7,\n",
       " 3,\n",
       " 4,\n",
       " 0,\n",
       " 7,\n",
       " 7,\n",
       " 5,\n",
       " 7,\n",
       " 3,\n",
       " 6,\n",
       " 5,\n",
       " 9,\n",
       " 4,\n",
       " 9,\n",
       " 0,\n",
       " 0,\n",
       " 5,\n",
       " 0,\n",
       " 1,\n",
       " 0,\n",
       " 0,\n",
       " 2,\n",
       " 9,\n",
       " 6,\n",
       " 2,\n",
       " 7,\n",
       " 8,\n",
       " 5,\n",
       " 3,\n",
       " 2,\n",
       " 0,\n",
       " 1,\n",
       " 9,\n",
       " 6,\n",
       " 2,\n",
       " 2,\n",
       " 6,\n",
       " 9,\n",
       " 8,\n",
       " 1,\n",
       " 1,\n",
       " 4,\n",
       " 7,\n",
       " 7,\n",
       " 2,\n",
       " 5,\n",
       " 9,\n",
       " 9,\n",
       " 6,\n",
       " 9,\n",
       " 5,\n",
       " 3,\n",
       " 8,\n",
       " 7,\n",
       " 8,\n",
       " 0,\n",
       " 6,\n",
       " 9,\n",
       " 6,\n",
       " 5,\n",
       " 1,\n",
       " 4,\n",
       " 6,\n",
       " 2,\n",
       " 8,\n",
       " 9,\n",
       " 8,\n",
       " 5,\n",
       " 3,\n",
       " 8,\n",
       " 9,\n",
       " 5,\n",
       " 8,\n",
       " 3,\n",
       " 6,\n",
       " 0,\n",
       " 0,\n",
       " 3,\n",
       " 8,\n",
       " 6,\n",
       " 1,\n",
       " 5,\n",
       " 4,\n",
       " 0,\n",
       " 8,\n",
       " 1,\n",
       " 3,\n",
       " 6,\n",
       " 1,\n",
       " 8,\n",
       " 7,\n",
       " 9,\n",
       " 1,\n",
       " 8,\n",
       " 5,\n",
       " 2,\n",
       " 2,\n",
       " 6,\n",
       " 7,\n",
       " 9,\n",
       " 6,\n",
       " 4,\n",
       " 2,\n",
       " 3,\n",
       " 6,\n",
       " 8,\n",
       " 2,\n",
       " 4,\n",
       " 6,\n",
       " 6,\n",
       " 7,\n",
       " 3,\n",
       " 0,\n",
       " 0,\n",
       " 7,\n",
       " 1,\n",
       " 3,\n",
       " 3,\n",
       " 5,\n",
       " 1,\n",
       " 9,\n",
       " 5,\n",
       " 2,\n",
       " 7,\n",
       " 1,\n",
       " 6,\n",
       " 6,\n",
       " 0,\n",
       " 3,\n",
       " 1,\n",
       " 9,\n",
       " 8,\n",
       " 1,\n",
       " 0,\n",
       " 2,\n",
       " 2,\n",
       " 4,\n",
       " 8,\n",
       " 0,\n",
       " 7,\n",
       " 4,\n",
       " 3,\n",
       " 2,\n",
       " 8,\n",
       " 6,\n",
       " 4,\n",
       " 1,\n",
       " 0,\n",
       " 2,\n",
       " 9,\n",
       " 2,\n",
       " 3,\n",
       " 6,\n",
       " 8,\n",
       " 3,\n",
       " 5,\n",
       " 3,\n",
       " 8,\n",
       " 6,\n",
       " 3,\n",
       " 5,\n",
       " 6,\n",
       " 4,\n",
       " 4,\n",
       " 3,\n",
       " 0,\n",
       " 3,\n",
       " 6,\n",
       " 7,\n",
       " 0,\n",
       " 4,\n",
       " 8,\n",
       " 8,\n",
       " 7,\n",
       " 0,\n",
       " 6,\n",
       " 6,\n",
       " 3,\n",
       " 3,\n",
       " 5,\n",
       " 8,\n",
       " 3,\n",
       " 6,\n",
       " 4,\n",
       " 5,\n",
       " 9,\n",
       " 6,\n",
       " 2,\n",
       " 2,\n",
       " 5,\n",
       " 5,\n",
       " 1,\n",
       " 2,\n",
       " 2,\n",
       " 7,\n",
       " 2,\n",
       " 8,\n",
       " 3,\n",
       " 7,\n",
       " 5,\n",
       " 8,\n",
       " 7,\n",
       " 9,\n",
       " 1,\n",
       " 4,\n",
       " 8,\n",
       " 4,\n",
       " 4,\n",
       " 1,\n",
       " 7,\n",
       " 3,\n",
       " 2,\n",
       " 7,\n",
       " 0,\n",
       " 3,\n",
       " 2,\n",
       " 9,\n",
       " 9,\n",
       " 2,\n",
       " 7,\n",
       " 0,\n",
       " 6,\n",
       " 5,\n",
       " 8,\n",
       " 1,\n",
       " 0,\n",
       " 9,\n",
       " 3,\n",
       " 2,\n",
       " 8,\n",
       " 6,\n",
       " 4,\n",
       " 5,\n",
       " 2,\n",
       " 3,\n",
       " 3,\n",
       " 5,\n",
       " 2,\n",
       " 6,\n",
       " 3,\n",
       " 2,\n",
       " 0,\n",
       " 2,\n",
       " 6,\n",
       " 1,\n",
       " 7,\n",
       " 5,\n",
       " 9,\n",
       " 2,\n",
       " 7,\n",
       " 0,\n",
       " 8,\n",
       " 7,\n",
       " 8,\n",
       " 4,\n",
       " 6,\n",
       " 6,\n",
       " 7,\n",
       " 2,\n",
       " 2,\n",
       " 2,\n",
       " 6,\n",
       " 2,\n",
       " 3,\n",
       " 0,\n",
       " 7,\n",
       " 1,\n",
       " 0,\n",
       " 3,\n",
       " 6,\n",
       " 7,\n",
       " 7,\n",
       " 1,\n",
       " 8,\n",
       " 4,\n",
       " 2,\n",
       " 4,\n",
       " 1,\n",
       " 3,\n",
       " 1,\n",
       " 5,\n",
       " 9,\n",
       " 1,\n",
       " 2,\n",
       " 3,\n",
       " 4,\n",
       " 2,\n",
       " 9,\n",
       " 1,\n",
       " 3,\n",
       " 5,\n",
       " 2,\n",
       " 0,\n",
       " 1,\n",
       " 5,\n",
       " 3,\n",
       " 3,\n",
       " 9,\n",
       " 8,\n",
       " 4,\n",
       " 8,\n",
       " 7,\n",
       " 0,\n",
       " 7,\n",
       " 3,\n",
       " 0,\n",
       " 7,\n",
       " 2,\n",
       " 1,\n",
       " 2,\n",
       " 2,\n",
       " 1,\n",
       " 4,\n",
       " 2,\n",
       " 3,\n",
       " 3,\n",
       " 3,\n",
       " 1,\n",
       " 7,\n",
       " 4,\n",
       " 9,\n",
       " 6,\n",
       " 7,\n",
       " 7,\n",
       " 5,\n",
       " 3,\n",
       " 2,\n",
       " 5,\n",
       " 0,\n",
       " 0,\n",
       " 0,\n",
       " 8,\n",
       " 0,\n",
       " 9,\n",
       " 5,\n",
       " 0,\n",
       " 3,\n",
       " 3,\n",
       " 8,\n",
       " 0,\n",
       " 5,\n",
       " 7,\n",
       " 5,\n",
       " 3,\n",
       " 3,\n",
       " 5,\n",
       " 0,\n",
       " 9,\n",
       " 7,\n",
       " 8,\n",
       " 7,\n",
       " 3,\n",
       " 4,\n",
       " 0,\n",
       " 1,\n",
       " 2,\n",
       " 4,\n",
       " 1,\n",
       " 4,\n",
       " 6,\n",
       " 7,\n",
       " 0,\n",
       " 7,\n",
       " 6,\n",
       " 9,\n",
       " 2,\n",
       " 2,\n",
       " 8,\n",
       " 4,\n",
       " 0,\n",
       " 7,\n",
       " 3,\n",
       " 0,\n",
       " 1,\n",
       " 9,\n",
       " 3,\n",
       " 8,\n",
       " 2,\n",
       " 8,\n",
       " 3,\n",
       " 2,\n",
       " 1,\n",
       " 9,\n",
       " 3,\n",
       " 3,\n",
       " 6,\n",
       " 2,\n",
       " 0,\n",
       " 0,\n",
       " 8,\n",
       " 5,\n",
       " 0,\n",
       " 3,\n",
       " 8,\n",
       " 1,\n",
       " 8,\n",
       " 2,\n",
       " 2,\n",
       " 3,\n",
       " 4,\n",
       " 9,\n",
       " 6,\n",
       " 6,\n",
       " 9,\n",
       " 6,\n",
       " 0,\n",
       " 9,\n",
       " 5,\n",
       " 8,\n",
       " 0,\n",
       " 0,\n",
       " 7,\n",
       " 5,\n",
       " 1,\n",
       " 8,\n",
       " 7,\n",
       " 1,\n",
       " 4,\n",
       " 0,\n",
       " 0,\n",
       " 3,\n",
       " 7,\n",
       " 6,\n",
       " 1,\n",
       " 0,\n",
       " 0,\n",
       " 0,\n",
       " 6,\n",
       " 4,\n",
       " 4,\n",
       " 0,\n",
       " 3,\n",
       " 0,\n",
       " 0,\n",
       " 2,\n",
       " 5,\n",
       " 5,\n",
       " 4,\n",
       " 4,\n",
       " 0,\n",
       " 3,\n",
       " 3,\n",
       " 2,\n",
       " 3,\n",
       " 7,\n",
       " 7,\n",
       " 4,\n",
       " 1,\n",
       " 3,\n",
       " 3,\n",
       " 6,\n",
       " 0,\n",
       " 6,\n",
       " 9,\n",
       " 5,\n",
       " 6,\n",
       " 8,\n",
       " 0,\n",
       " 5,\n",
       " 9,\n",
       " 7,\n",
       " 4,\n",
       " 7,\n",
       " 6,\n",
       " 4,\n",
       " 7,\n",
       " 1,\n",
       " 9,\n",
       " 5,\n",
       " 3,\n",
       " 1,\n",
       " 6,\n",
       " 7,\n",
       " 7,\n",
       " 3,\n",
       " 7,\n",
       " 9,\n",
       " 6,\n",
       " 3,\n",
       " 0,\n",
       " 6,\n",
       " 1,\n",
       " 7,\n",
       " 8,\n",
       " 3,\n",
       " 9,\n",
       " 1,\n",
       " 7,\n",
       " 7,\n",
       " 2,\n",
       " 6,\n",
       " 5,\n",
       " 6,\n",
       " 8,\n",
       " 1,\n",
       " 3,\n",
       " 6,\n",
       " 3,\n",
       " 5,\n",
       " 8,\n",
       " 0,\n",
       " 6,\n",
       " 2,\n",
       " 1,\n",
       " 0,\n",
       " 7,\n",
       " 7,\n",
       " 3,\n",
       " 6,\n",
       " 3,\n",
       " 4,\n",
       " 3,\n",
       " 7,\n",
       " 1,\n",
       " 4,\n",
       " 0,\n",
       " 1,\n",
       " 3,\n",
       " 4,\n",
       " 9,\n",
       " 4,\n",
       " 6,\n",
       " 8,\n",
       " 0,\n",
       " 1,\n",
       " 4,\n",
       " 7,\n",
       " 4,\n",
       " 6,\n",
       " 4,\n",
       " 6,\n",
       " 0,\n",
       " 1,\n",
       " 0,\n",
       " 6,\n",
       " 8,\n",
       " 6,\n",
       " 7,\n",
       " 9,\n",
       " 5,\n",
       " 2,\n",
       " 6,\n",
       " 4,\n",
       " 9,\n",
       " 5,\n",
       " 3,\n",
       " 2,\n",
       " 2,\n",
       " 4,\n",
       " 5,\n",
       " 1,\n",
       " 4,\n",
       " 9,\n",
       " 2,\n",
       " 2,\n",
       " 0,\n",
       " 1,\n",
       " 5,\n",
       " 1,\n",
       " 6,\n",
       " 3,\n",
       " 2,\n",
       " 3,\n",
       " 7,\n",
       " 6,\n",
       " 8,\n",
       " 9,\n",
       " 6,\n",
       " 5,\n",
       " 1,\n",
       " 0,\n",
       " 2,\n",
       " 5,\n",
       " 5,\n",
       " 8,\n",
       " 1,\n",
       " 3,\n",
       " 3,\n",
       " 6,\n",
       " 3,\n",
       " 0,\n",
       " 6,\n",
       " 7,\n",
       " 8,\n",
       " 1,\n",
       " 7,\n",
       " 0,\n",
       " 9,\n",
       " 3,\n",
       " 4,\n",
       " 1,\n",
       " 3,\n",
       " 1,\n",
       " 3,\n",
       " 1,\n",
       " 3,\n",
       " 5,\n",
       " 1,\n",
       " 4,\n",
       " 9,\n",
       " 9,\n",
       " 1,\n",
       " 1,\n",
       " 2,\n",
       " 4,\n",
       " 1,\n",
       " 2,\n",
       " 1,\n",
       " 3,\n",
       " 5,\n",
       " 4,\n",
       " 8,\n",
       " 1,\n",
       " 3,\n",
       " 7,\n",
       " 3,\n",
       " 5,\n",
       " 0,\n",
       " 9,\n",
       " 6,\n",
       " 2,\n",
       " 9,\n",
       " 6,\n",
       " 7,\n",
       " 3,\n",
       " 1,\n",
       " 1,\n",
       " 5,\n",
       " 1,\n",
       " 5,\n",
       " 5,\n",
       " 7,\n",
       " 4,\n",
       " 5,\n",
       " 2,\n",
       " 8,\n",
       " 5,\n",
       " 9,\n",
       " 1,\n",
       " 8,\n",
       " 5,\n",
       " 9,\n",
       " 9,\n",
       " 6,\n",
       " 1,\n",
       " 4,\n",
       " 4,\n",
       " 3,\n",
       " 5,\n",
       " 9,\n",
       " 0,\n",
       " 4,\n",
       " 5,\n",
       " 3,\n",
       " 4,\n",
       " 4,\n",
       " 6,\n",
       " 0,\n",
       " 8,\n",
       " 3,\n",
       " 2,\n",
       " 6,\n",
       " 4,\n",
       " 8,\n",
       " 9,\n",
       " 3,\n",
       " 2,\n",
       " 4,\n",
       " 1,\n",
       " 3,\n",
       " 1,\n",
       " 1,\n",
       " 8,\n",
       " 3,\n",
       " 9,\n",
       " 7,\n",
       " 4,\n",
       " 6,\n",
       " 3,\n",
       " 9,\n",
       " 7,\n",
       " 9,\n",
       " 0,\n",
       " 4,\n",
       " 4,\n",
       " 5,\n",
       " 4,\n",
       " 4,\n",
       " 4,\n",
       " 4,\n",
       " 6,\n",
       " 4,\n",
       " 8,\n",
       " 0,\n",
       " 7,\n",
       " 3,\n",
       " 7,\n",
       " 3,\n",
       " 1,\n",
       " 3,\n",
       " 8,\n",
       " 4,\n",
       " 8,\n",
       " 8,\n",
       " 3,\n",
       " 9,\n",
       " 7,\n",
       " 9,\n",
       " 2,\n",
       " 5,\n",
       " 2,\n",
       " 3,\n",
       " 2,\n",
       " 4,\n",
       " 8,\n",
       " 5,\n",
       " 9,\n",
       " 0,\n",
       " 9,\n",
       " 6,\n",
       " 8,\n",
       " 3,\n",
       " 6,\n",
       " 6,\n",
       " 1,\n",
       " 6,\n",
       " 1,\n",
       " 5,\n",
       " 0,\n",
       " 5,\n",
       " 3,\n",
       " 1,\n",
       " 7,\n",
       " 2,\n",
       " 2,\n",
       " 6,\n",
       " 0,\n",
       " 0,\n",
       " 6,\n",
       " 0,\n",
       " 8,\n",
       " 1,\n",
       " 2,\n",
       " 8,\n",
       " 5,\n",
       " 4,\n",
       " 6,\n",
       " 1,\n",
       " 3,\n",
       " 6,\n",
       " 4,\n",
       " 6,\n",
       " 0,\n",
       " 7,\n",
       " 9,\n",
       " 6,\n",
       " 0,\n",
       " 4,\n",
       " 9,\n",
       " 6,\n",
       " 4,\n",
       " 5,\n",
       " 9,\n",
       " 2,\n",
       " 6,\n",
       " 6,\n",
       " 2,\n",
       " 1,\n",
       " 8,\n",
       " 4,\n",
       " 3,\n",
       " 6,\n",
       " 5,\n",
       " 6,\n",
       " 6,\n",
       " 3,\n",
       " 5,\n",
       " 8,\n",
       " 1,\n",
       " 1,\n",
       " 2,\n",
       " 4,\n",
       " 4,\n",
       " 5,\n",
       " 4,\n",
       " 5,\n",
       " 6,\n",
       " 5,\n",
       " 1,\n",
       " 6,\n",
       " 5,\n",
       " 9,\n",
       " 5,\n",
       " 4,\n",
       " 9,\n",
       " 2,\n",
       " 7,\n",
       " 9,\n",
       " 2,\n",
       " 2,\n",
       " 8,\n",
       " 3,\n",
       " 3,\n",
       " 3,\n",
       " 2,\n",
       " 8,\n",
       " 1,\n",
       " 6,\n",
       " 8,\n",
       " 2,\n",
       " 5,\n",
       " 8,\n",
       " 2,\n",
       " 3,\n",
       " 4,\n",
       " 5,\n",
       " 9,\n",
       " 8,\n",
       " 5,\n",
       " 2,\n",
       " 1,\n",
       " 4,\n",
       " 0,\n",
       " 5,\n",
       " 5,\n",
       " 8,\n",
       " 5,\n",
       " 9,\n",
       " 2,\n",
       " 4,\n",
       " 8,\n",
       " 8,\n",
       " 8,\n",
       " 9,\n",
       " 7,\n",
       " 2,\n",
       " 2,\n",
       " 0,\n",
       " 9,\n",
       " 1,\n",
       " 5,\n",
       " 4,\n",
       " 6,\n",
       " 4,\n",
       " 9,\n",
       " 7,\n",
       " 8,\n",
       " 8,\n",
       " 3,\n",
       " 8,\n",
       " 5,\n",
       " 9,\n",
       " 8,\n",
       " 2,\n",
       " 4,\n",
       " 2,\n",
       " 5,\n",
       " 1,\n",
       " 2,\n",
       " 2,\n",
       " 3,\n",
       " 0,\n",
       " 0,\n",
       " 9,\n",
       " 3,\n",
       " 5,\n",
       " 0,\n",
       " 3,\n",
       " 5,\n",
       " 7,\n",
       " 7,\n",
       " 5,\n",
       " 0,\n",
       " 0,\n",
       " 5,\n",
       " 2,\n",
       " 8,\n",
       " 8,\n",
       " 1,\n",
       " 2,\n",
       " ...]"
      ]
     },
     "execution_count": 17,
     "metadata": {},
     "output_type": "execute_result"
    }
   ],
   "source": [
    "new_labels\n",
    "# print(new_labels)"
   ]
  },
  {
   "cell_type": "markdown",
   "metadata": {
    "colab_type": "text",
    "id": "Q8CwLoPU5BLM"
   },
   "source": [
    "# PATE Analysis"
   ]
  },
  {
   "cell_type": "code",
   "execution_count": 5,
   "metadata": {
    "colab": {},
    "colab_type": "code",
    "id": "YnI2I8JJ5BLN",
    "outputId": "0fc57dd5-3fc3-41d3-cb59-6c9643cbc786"
   },
   "outputs": [
    {
     "data": {
      "text/plain": [
       "9"
      ]
     },
     "execution_count": 5,
     "metadata": {},
     "output_type": "execute_result"
    }
   ],
   "source": [
    "labels = np.array([9, 9, 3, 6, 9, 9, 9, 9, 8, 2])\n",
    "counts = np.bincount(labels, minlength=10)\n",
    "query_result = np.argmax(counts)\n",
    "query_result"
   ]
  },
  {
   "cell_type": "code",
   "execution_count": 18,
   "metadata": {},
   "outputs": [
    {
     "name": "stdout",
     "output_type": "stream",
     "text": [
      "Collecting syft\n",
      "  Using cached https://files.pythonhosted.org/packages/1d/f4/ed95c5f6664d37a70c345f41e1bdceadc5efb2f478e2c6cd4de34f3a709a/syft-0.1.18-py3-none-any.whl\n",
      "Requirement already satisfied: torchvision>=0.3.0 in c:\\users\\tklinkenberg\\.conda\\envs\\cs490\\lib\\site-packages (from syft) (0.3.0)\n",
      "Collecting Flask (from syft)\n",
      "  Using cached https://files.pythonhosted.org/packages/9a/74/670ae9737d14114753b8c8fdf2e8bd212a05d3b361ab15b44937dfd40985/Flask-1.0.3-py2.py3-none-any.whl\n",
      "Collecting tf-encrypted>=0.5.4 (from syft)\n",
      "  Using cached https://files.pythonhosted.org/packages/77/2e/d03fa407cc5257ea5ab316fa13ce3d8c9b455ec35bc2f2fb7385578cec0b/tf-encrypted-0.5.5.tar.gz\n",
      "Requirement already satisfied: torch>=1.1 in c:\\users\\tklinkenberg\\.conda\\envs\\cs490\\lib\\site-packages (from syft) (1.1.0)\n",
      "Collecting lz4 (from syft)\n",
      "  Using cached https://files.pythonhosted.org/packages/de/30/c241f360f769fd5a8623bf512de1b184a0473eaeaa6d32c7cda6cfeafef5/lz4-2.1.10-cp37-cp37m-win_amd64.whl\n",
      "Collecting msgpack (from syft)\n",
      "  Using cached https://files.pythonhosted.org/packages/d1/67/476640810609471e0f3a32c9f4388bf1318b773d0a64b116305d3b604dca/msgpack-0.6.1-cp37-cp37m-win_amd64.whl\n",
      "Collecting websockets>=7.0 (from syft)\n",
      "  Using cached https://files.pythonhosted.org/packages/8a/7d/7f3a5af575187443e2b6d12611778f73413df2286a71af1a8b012ece1f92/websockets-7.0-cp37-cp37m-win_amd64.whl\n",
      "Collecting flask-socketio (from syft)\n",
      "  Using cached https://files.pythonhosted.org/packages/4b/68/fe4806d3a0a5909d274367eb9b3b87262906c1515024f46c2443a36a0c82/Flask_SocketIO-4.1.0-py2.py3-none-any.whl\n",
      "Collecting sklearn (from syft)\n",
      "  Using cached https://files.pythonhosted.org/packages/1e/7a/dbb3be0ce9bd5c8b7e3d87328e79063f8b263b2b1bfa4774cb1147bfcd3f/sklearn-0.0.tar.gz\n",
      "Collecting websocket-client (from syft)\n",
      "  Using cached https://files.pythonhosted.org/packages/29/19/44753eab1fdb50770ac69605527e8859468f3c0fd7dc5a76dd9c4dbd7906/websocket_client-0.56.0-py2.py3-none-any.whl\n",
      "Collecting tblib (from syft)\n",
      "  Using cached https://files.pythonhosted.org/packages/64/b5/ebb1af4d843047ccd7292b92f5e5f8643153e8b95d14508d9fe3b35f7004/tblib-1.4.0-py2.py3-none-any.whl\n",
      "Collecting zstd (from syft)\n",
      "  Using cached https://files.pythonhosted.org/packages/8e/27/1ea8086d37424e83ab692015cc8dd7d5e37cf791e339633a40dc828dfb74/zstd-1.4.0.0.tar.gz\n",
      "Requirement already satisfied: numpy in c:\\users\\tklinkenberg\\.conda\\envs\\cs490\\lib\\site-packages (from torchvision>=0.3.0->syft) (1.16.4)\n",
      "Requirement already satisfied: six in c:\\users\\tklinkenberg\\appdata\\roaming\\python\\python37\\site-packages (from torchvision>=0.3.0->syft) (1.12.0)\n",
      "Requirement already satisfied: pillow>=4.1.1 in c:\\users\\tklinkenberg\\.conda\\envs\\cs490\\lib\\site-packages (from torchvision>=0.3.0->syft) (6.0.0)\n",
      "Requirement already satisfied: Jinja2>=2.10 in c:\\users\\tklinkenberg\\.conda\\envs\\cs490\\lib\\site-packages (from Flask->syft) (2.10.1)\n",
      "Collecting itsdangerous>=0.24 (from Flask->syft)\n",
      "  Using cached https://files.pythonhosted.org/packages/76/ae/44b03b253d6fade317f32c24d100b3b35c2239807046a4c953c7b89fa49e/itsdangerous-1.1.0-py2.py3-none-any.whl\n",
      "Collecting Werkzeug>=0.14 (from Flask->syft)\n",
      "  Using cached https://files.pythonhosted.org/packages/9f/57/92a497e38161ce40606c27a86759c6b92dd34fcdb33f64171ec559257c02/Werkzeug-0.15.4-py2.py3-none-any.whl\n",
      "Collecting click>=5.1 (from Flask->syft)\n",
      "  Using cached https://files.pythonhosted.org/packages/fa/37/45185cb5abbc30d7257104c434fe0b07e5a195a6847506c074527aa599ec/Click-7.0-py2.py3-none-any.whl\n",
      "Collecting tensorflow<2,>=1.12.0 (from tf-encrypted>=0.5.4->syft)\n",
      "  Using cached https://files.pythonhosted.org/packages/f7/08/25e47a53692c2e0dcd2211a493ddfe9007a5cd92e175d6dffa6169a0b392/tensorflow-1.14.0-cp37-cp37m-win_amd64.whl\n",
      "Collecting pyyaml>=5.1 (from tf-encrypted>=0.5.4->syft)\n",
      "  Using cached https://files.pythonhosted.org/packages/f5/93/b5ebdabc7e450418c26a1395d995d878a59bc4272d6ac63d2ada922126ad/PyYAML-5.1.1-cp37-cp37m-win_amd64.whl\n",
      "Collecting python-socketio>=2.1.0 (from flask-socketio->syft)\n",
      "  Using cached https://files.pythonhosted.org/packages/c8/e0/a875abbb0f9d70c6e2ec2019ca9e3893377cef5deca6225ead3497000152/python_socketio-4.1.0-py2.py3-none-any.whl\n",
      "Collecting scikit-learn (from sklearn->syft)\n",
      "  Using cached https://files.pythonhosted.org/packages/75/14/fde90de4fc6722303ddbc183ec253c288dae8c7e4eb5a069ac49f14c9a0f/scikit_learn-0.21.2-cp37-cp37m-win_amd64.whl\n",
      "Requirement already satisfied: MarkupSafe>=0.23 in c:\\users\\tklinkenberg\\.conda\\envs\\cs490\\lib\\site-packages (from Jinja2>=2.10->Flask->syft) (1.1.1)\n",
      "Collecting gast>=0.2.0 (from tensorflow<2,>=1.12.0->tf-encrypted>=0.5.4->syft)\n",
      "  Using cached https://files.pythonhosted.org/packages/4e/35/11749bf99b2d4e3cceb4d55ca22590b0d7c2c62b9de38ac4a4a7f4687421/gast-0.2.2.tar.gz\n",
      "Collecting tensorboard<1.15.0,>=1.14.0 (from tensorflow<2,>=1.12.0->tf-encrypted>=0.5.4->syft)\n",
      "  Using cached https://files.pythonhosted.org/packages/91/2d/2ed263449a078cd9c8a9ba50ebd50123adf1f8cfbea1492f9084169b89d9/tensorboard-1.14.0-py3-none-any.whl\n",
      "Collecting tensorflow-estimator<1.15.0rc0,>=1.14.0rc0 (from tensorflow<2,>=1.12.0->tf-encrypted>=0.5.4->syft)\n",
      "  Using cached https://files.pythonhosted.org/packages/3c/d5/21860a5b11caf0678fbc8319341b0ae21a07156911132e0e71bffed0510d/tensorflow_estimator-1.14.0-py2.py3-none-any.whl\n",
      "Collecting grpcio>=1.8.6 (from tensorflow<2,>=1.12.0->tf-encrypted>=0.5.4->syft)\n",
      "  Using cached https://files.pythonhosted.org/packages/f7/bd/171c99a393df51faae5f696c9fedee59c109c4346535fe84450ab0d2cdd6/grpcio-1.21.1-cp37-cp37m-win_amd64.whl\n",
      "Requirement already satisfied: wrapt>=1.11.1 in c:\\users\\tklinkenberg\\appdata\\roaming\\python\\python37\\site-packages (from tensorflow<2,>=1.12.0->tf-encrypted>=0.5.4->syft) (1.11.1)\n",
      "Collecting google-pasta>=0.1.6 (from tensorflow<2,>=1.12.0->tf-encrypted>=0.5.4->syft)\n",
      "  Using cached https://files.pythonhosted.org/packages/d0/33/376510eb8d6246f3c30545f416b2263eee461e40940c2a4413c711bdf62d/google_pasta-0.1.7-py3-none-any.whl\n",
      "Collecting keras-applications>=1.0.6 (from tensorflow<2,>=1.12.0->tf-encrypted>=0.5.4->syft)\n",
      "  Using cached https://files.pythonhosted.org/packages/71/e3/19762fdfc62877ae9102edf6342d71b28fbfd9dea3d2f96a882ce099b03f/Keras_Applications-1.0.8-py3-none-any.whl\n",
      "Collecting keras-preprocessing>=1.0.5 (from tensorflow<2,>=1.12.0->tf-encrypted>=0.5.4->syft)\n",
      "  Using cached https://files.pythonhosted.org/packages/28/6a/8c1f62c37212d9fc441a7e26736df51ce6f0e38455816445471f10da4f0a/Keras_Preprocessing-1.1.0-py2.py3-none-any.whl\n",
      "Collecting absl-py>=0.7.0 (from tensorflow<2,>=1.12.0->tf-encrypted>=0.5.4->syft)\n",
      "  Using cached https://files.pythonhosted.org/packages/da/3f/9b0355080b81b15ba6a9ffcf1f5ea39e307a2778b2f2dc8694724e8abd5b/absl-py-0.7.1.tar.gz\n",
      "Collecting protobuf>=3.6.1 (from tensorflow<2,>=1.12.0->tf-encrypted>=0.5.4->syft)\n",
      "  Using cached https://files.pythonhosted.org/packages/49/cd/608edf77e6b7cbc6a79dfc33039ee78afac29dfa8e6c894b9ef95b8a5c8c/protobuf-3.8.0-cp37-cp37m-win_amd64.whl\n",
      "Collecting astor>=0.6.0 (from tensorflow<2,>=1.12.0->tf-encrypted>=0.5.4->syft)\n",
      "  Using cached https://files.pythonhosted.org/packages/d1/4f/950dfae467b384fc96bc6469de25d832534f6b4441033c39f914efd13418/astor-0.8.0-py2.py3-none-any.whl\n",
      "Collecting termcolor>=1.1.0 (from tensorflow<2,>=1.12.0->tf-encrypted>=0.5.4->syft)\n",
      "  Using cached https://files.pythonhosted.org/packages/8a/48/a76be51647d0eb9f10e2a4511bf3ffb8cc1e6b14e9e4fab46173aa79f981/termcolor-1.1.0.tar.gz\n",
      "Requirement already satisfied: wheel>=0.26 in c:\\users\\tklinkenberg\\.conda\\envs\\cs490\\lib\\site-packages (from tensorflow<2,>=1.12.0->tf-encrypted>=0.5.4->syft) (0.33.4)\n",
      "Collecting python-engineio>=3.8.0 (from python-socketio>=2.1.0->flask-socketio->syft)\n",
      "  Using cached https://files.pythonhosted.org/packages/9c/d3/de0fa7ebebd054de308e6ac397bf9e11ea42924795a38005a21ea001b114/python_engineio-3.8.1-py2.py3-none-any.whl\n",
      "Collecting joblib>=0.11 (from scikit-learn->sklearn->syft)\n",
      "  Using cached https://files.pythonhosted.org/packages/cd/c1/50a758e8247561e58cb87305b1e90b171b8c767b15b12a1734001f41d356/joblib-0.13.2-py2.py3-none-any.whl\n",
      "Collecting scipy>=0.17.0 (from scikit-learn->sklearn->syft)\n",
      "  Using cached https://files.pythonhosted.org/packages/53/17/9dfd64540b6645fae581462ed2d1c8e680b7e946ca2789c5149693660392/scipy-1.3.0-cp37-cp37m-win_amd64.whl\n",
      "Collecting markdown>=2.6.8 (from tensorboard<1.15.0,>=1.14.0->tensorflow<2,>=1.12.0->tf-encrypted>=0.5.4->syft)\n",
      "  Using cached https://files.pythonhosted.org/packages/c0/4e/fd492e91abdc2d2fcb70ef453064d980688762079397f779758e055f6575/Markdown-3.1.1-py2.py3-none-any.whl\n",
      "Requirement already satisfied: setuptools>=41.0.0 in c:\\users\\tklinkenberg\\.conda\\envs\\cs490\\lib\\site-packages (from tensorboard<1.15.0,>=1.14.0->tensorflow<2,>=1.12.0->tf-encrypted>=0.5.4->syft) (41.0.1)\n",
      "Collecting h5py (from keras-applications>=1.0.6->tensorflow<2,>=1.12.0->tf-encrypted>=0.5.4->syft)\n",
      "  Using cached https://files.pythonhosted.org/packages/4f/1e/89aa610afce8df6fd1f12647600a05e902238587ae6375442a3164b59d51/h5py-2.9.0-cp37-cp37m-win_amd64.whl\n",
      "Building wheels for collected packages: tf-encrypted, sklearn, zstd, gast, absl-py, termcolor\n",
      "  Building wheel for tf-encrypted (setup.py): started\n",
      "  Building wheel for tf-encrypted (setup.py): finished with status 'done'\n",
      "  Stored in directory: C:\\Users\\tklinkenberg\\AppData\\Local\\pip\\Cache\\wheels\\48\\e9\\be\\175cac5e8eb0de2b9f788785857351dc795697299fdedd6764\n",
      "  Building wheel for sklearn (setup.py): started\n",
      "  Building wheel for sklearn (setup.py): finished with status 'done'\n",
      "  Stored in directory: C:\\Users\\tklinkenberg\\AppData\\Local\\pip\\Cache\\wheels\\76\\03\\bb\\589d421d27431bcd2c6da284d5f2286c8e3b2ea3cf1594c074\n",
      "  Building wheel for zstd (setup.py): started\n",
      "  Building wheel for zstd (setup.py): finished with status 'error'\n",
      "  Running setup.py clean for zstd\n",
      "  Building wheel for gast (setup.py): started\n",
      "  Building wheel for gast (setup.py): finished with status 'done'\n",
      "  Stored in directory: C:\\Users\\tklinkenberg\\AppData\\Local\\pip\\Cache\\wheels\\5c\\2e\\7e\\a1d4d4fcebe6c381f378ce7743a3ced3699feb89bcfbdadadd\n",
      "  Building wheel for absl-py (setup.py): started\n",
      "  Building wheel for absl-py (setup.py): finished with status 'done'\n",
      "  Stored in directory: C:\\Users\\tklinkenberg\\AppData\\Local\\pip\\Cache\\wheels\\ee\\98\\38\\46cbcc5a93cfea5492d19c38562691ddb23b940176c14f7b48\n",
      "  Building wheel for termcolor (setup.py): started\n",
      "  Building wheel for termcolor (setup.py): finished with status 'done'\n",
      "  Stored in directory: C:\\Users\\tklinkenberg\\AppData\\Local\\pip\\Cache\\wheels\\7c\\06\\54\\bc84598ba1daf8f970247f550b175aaaee85f68b4b0c5ab2c6\n",
      "Successfully built tf-encrypted sklearn gast absl-py termcolor\n",
      "Failed to build zstd\n",
      "Installing collected packages: itsdangerous, Werkzeug, click, Flask, gast, protobuf, absl-py, markdown, grpcio, tensorboard, tensorflow-estimator, google-pasta, h5py, keras-applications, keras-preprocessing, astor, termcolor, tensorflow, pyyaml, tf-encrypted, lz4, msgpack, websockets, python-engineio, python-socketio, flask-socketio, joblib, scipy, scikit-learn, sklearn, websocket-client, tblib, zstd, syft\n",
      "  Running setup.py install for zstd: started\n",
      "    Running setup.py install for zstd: finished with status 'error'\n"
     ]
    },
    {
     "name": "stderr",
     "output_type": "stream",
     "text": [
      "  ERROR: Complete output from command 'C:\\Users\\tklinkenberg\\.conda\\envs\\CS490\\python.exe' -u -c 'import setuptools, tokenize;__file__='\"'\"'C:\\\\windows\\\\temp\\\\pip-install-k8u0iepp\\\\zstd\\\\setup.py'\"'\"';f=getattr(tokenize, '\"'\"'open'\"'\"', open)(__file__);code=f.read().replace('\"'\"'\\r\\n'\"'\"', '\"'\"'\\n'\"'\"');f.close();exec(compile(code, __file__, '\"'\"'exec'\"'\"'))' bdist_wheel -d 'C:\\windows\\temp\\pip-wheel-az7hfhpz' --python-tag cp37:\n",
      "  ERROR: running bdist_wheel\n",
      "  running build\n",
      "  running build_ext\n",
      "  building 'zstd' extension\n",
      "  error: Microsoft Visual C++ 14.0 is required. Get it with \"Microsoft Visual C++ Build Tools\": https://visualstudio.microsoft.com/downloads/\n",
      "  ----------------------------------------\n",
      "  ERROR: Failed building wheel for zstd\n",
      "    ERROR: Complete output from command 'C:\\Users\\tklinkenberg\\.conda\\envs\\CS490\\python.exe' -u -c 'import setuptools, tokenize;__file__='\"'\"'C:\\\\windows\\\\temp\\\\pip-install-k8u0iepp\\\\zstd\\\\setup.py'\"'\"';f=getattr(tokenize, '\"'\"'open'\"'\"', open)(__file__);code=f.read().replace('\"'\"'\\r\\n'\"'\"', '\"'\"'\\n'\"'\"');f.close();exec(compile(code, __file__, '\"'\"'exec'\"'\"'))' install --record 'C:\\windows\\temp\\pip-record-4071bog8\\install-record.txt' --single-version-externally-managed --compile:\n",
      "    ERROR: running install\n",
      "    running build\n",
      "    running build_ext\n",
      "    building 'zstd' extension\n",
      "    error: Microsoft Visual C++ 14.0 is required. Get it with \"Microsoft Visual C++ Build Tools\": https://visualstudio.microsoft.com/downloads/\n",
      "    ----------------------------------------\n",
      "ERROR: Command \"'C:\\Users\\tklinkenberg\\.conda\\envs\\CS490\\python.exe' -u -c 'import setuptools, tokenize;__file__='\"'\"'C:\\\\windows\\\\temp\\\\pip-install-k8u0iepp\\\\zstd\\\\setup.py'\"'\"';f=getattr(tokenize, '\"'\"'open'\"'\"', open)(__file__);code=f.read().replace('\"'\"'\\r\\n'\"'\"', '\"'\"'\\n'\"'\"');f.close();exec(compile(code, __file__, '\"'\"'exec'\"'\"'))' install --record 'C:\\windows\\temp\\pip-record-4071bog8\\install-record.txt' --single-version-externally-managed --compile\" failed with error code 1 in C:\\windows\\temp\\pip-install-k8u0iepp\\zstd\\\n"
     ]
    }
   ],
   "source": [
    "!pip install syft"
   ]
  },
  {
   "cell_type": "code",
   "execution_count": 9,
   "metadata": {
    "colab": {},
    "colab_type": "code",
    "id": "yIBbL-pe5BLO"
   },
   "outputs": [
    {
     "ename": "ModuleNotFoundError",
     "evalue": "No module named 'torch.differential_privacy'",
     "output_type": "error",
     "traceback": [
      "\u001b[1;31m---------------------------------------------------------------------------\u001b[0m",
      "\u001b[1;31mModuleNotFoundError\u001b[0m                       Traceback (most recent call last)",
      "\u001b[1;32m<ipython-input-9-6406f102e1d6>\u001b[0m in \u001b[0;36m<module>\u001b[1;34m\u001b[0m\n\u001b[0;32m      1\u001b[0m \u001b[1;31m# from syft.frameworks.torch.differential_privacy import pate\u001b[0m\u001b[1;33m\u001b[0m\u001b[1;33m\u001b[0m\u001b[1;33m\u001b[0m\u001b[0m\n\u001b[1;32m----> 2\u001b[1;33m \u001b[1;32mfrom\u001b[0m \u001b[0mtorch\u001b[0m\u001b[1;33m.\u001b[0m\u001b[0mdifferential_privacy\u001b[0m \u001b[1;32mimport\u001b[0m \u001b[0mpate\u001b[0m\u001b[1;33m\u001b[0m\u001b[1;33m\u001b[0m\u001b[0m\n\u001b[0m",
      "\u001b[1;31mModuleNotFoundError\u001b[0m: No module named 'torch.differential_privacy'"
     ]
    }
   ],
   "source": [
    "from syft.frameworks.torch.differential_privacy import pate"
   ]
  },
  {
   "cell_type": "code",
   "execution_count": 10,
   "metadata": {
    "colab": {},
    "colab_type": "code",
    "id": "2c4UfAMS5BLP",
    "outputId": "948600dc-3816-41e8-e87a-cbde346fbd66"
   },
   "outputs": [
    {
     "ename": "NameError",
     "evalue": "name 'pate' is not defined",
     "output_type": "error",
     "traceback": [
      "\u001b[1;31m---------------------------------------------------------------------------\u001b[0m",
      "\u001b[1;31mNameError\u001b[0m                                 Traceback (most recent call last)",
      "\u001b[1;32m<ipython-input-10-ca691dc91275>\u001b[0m in \u001b[0;36m<module>\u001b[1;34m\u001b[0m\n\u001b[0;32m      5\u001b[0m \u001b[0mpreds\u001b[0m\u001b[1;33m[\u001b[0m\u001b[1;33m:\u001b[0m\u001b[1;33m,\u001b[0m\u001b[1;36m0\u001b[0m\u001b[1;33m:\u001b[0m\u001b[1;36m10\u001b[0m\u001b[1;33m]\u001b[0m \u001b[1;33m*=\u001b[0m \u001b[1;36m0\u001b[0m\u001b[1;33m\u001b[0m\u001b[1;33m\u001b[0m\u001b[0m\n\u001b[0;32m      6\u001b[0m \u001b[1;33m\u001b[0m\u001b[0m\n\u001b[1;32m----> 7\u001b[1;33m \u001b[0mdata_dep_eps\u001b[0m\u001b[1;33m,\u001b[0m \u001b[0mdata_ind_eps\u001b[0m \u001b[1;33m=\u001b[0m \u001b[0mpate\u001b[0m\u001b[1;33m.\u001b[0m\u001b[0mperform_analysis\u001b[0m\u001b[1;33m(\u001b[0m\u001b[0mteacher_preds\u001b[0m\u001b[1;33m=\u001b[0m\u001b[0mpreds\u001b[0m\u001b[1;33m,\u001b[0m \u001b[0mindices\u001b[0m\u001b[1;33m=\u001b[0m\u001b[0mindices\u001b[0m\u001b[1;33m,\u001b[0m \u001b[0mnoise_eps\u001b[0m\u001b[1;33m=\u001b[0m\u001b[1;36m0.1\u001b[0m\u001b[1;33m,\u001b[0m \u001b[0mdelta\u001b[0m\u001b[1;33m=\u001b[0m\u001b[1;36m1e-5\u001b[0m\u001b[1;33m)\u001b[0m\u001b[1;33m\u001b[0m\u001b[1;33m\u001b[0m\u001b[0m\n\u001b[0m\u001b[0;32m      8\u001b[0m \u001b[1;33m\u001b[0m\u001b[0m\n\u001b[0;32m      9\u001b[0m \u001b[1;32massert\u001b[0m \u001b[0mdata_dep_eps\u001b[0m \u001b[1;33m<\u001b[0m \u001b[0mdata_ind_eps\u001b[0m\u001b[1;33m\u001b[0m\u001b[1;33m\u001b[0m\u001b[0m\n",
      "\u001b[1;31mNameError\u001b[0m: name 'pate' is not defined"
     ]
    }
   ],
   "source": [
    "num_teachers, num_examples, num_labels = (100, 100, 10)\n",
    "preds = (np.random.rand(num_teachers, num_examples) * num_labels).astype(int) #fake preds\n",
    "indices = (np.random.rand(num_examples) * num_labels).astype(int) # true answers\n",
    "\n",
    "preds[:,0:10] *= 0\n",
    "\n",
    "data_dep_eps, data_ind_eps = pate.perform_analysis(teacher_preds=preds, indices=indices, noise_eps=0.1, delta=1e-5)\n",
    "\n",
    "assert data_dep_eps < data_ind_eps\n",
    "\n"
   ]
  },
  {
   "cell_type": "code",
   "execution_count": null,
   "metadata": {
    "colab": {},
    "colab_type": "code",
    "id": "jYFELQAS5BLR",
    "outputId": "561e919c-4b20-4347-ce51-02cc31ec9c08"
   },
   "outputs": [],
   "source": [
    "data_dep_eps, data_ind_eps = pate.perform_analysis(teacher_preds=preds, indices=indices, noise_eps=0.1, delta=1e-5)\n",
    "print(\"Data Independent Epsilon:\", data_ind_eps)\n",
    "print(\"Data Dependent Epsilon:\", data_dep_eps)"
   ]
  },
  {
   "cell_type": "code",
   "execution_count": null,
   "metadata": {
    "colab": {},
    "colab_type": "code",
    "id": "Su13AQzz5BLT"
   },
   "outputs": [],
   "source": [
    "preds[:,0:50] *= 0"
   ]
  },
  {
   "cell_type": "code",
   "execution_count": null,
   "metadata": {
    "colab": {},
    "colab_type": "code",
    "id": "LLn5KRKU5BLT",
    "outputId": "951b0738-e515-4ed9-e61d-aef2100f0fdd"
   },
   "outputs": [],
   "source": [
    "data_dep_eps, data_ind_eps = pate.perform_analysis(teacher_preds=preds, indices=indices, noise_eps=0.1, delta=1e-5, moments=20)\n",
    "print(\"Data Independent Epsilon:\", data_ind_eps)\n",
    "print(\"Data Dependent Epsilon:\", data_dep_eps)"
   ]
  },
  {
   "cell_type": "code",
   "execution_count": null,
   "metadata": {
    "colab": {},
    "colab_type": "code",
    "id": "Ru61lFlH5BLV"
   },
   "outputs": [],
   "source": []
  },
  {
   "cell_type": "markdown",
   "metadata": {
    "colab_type": "text",
    "id": "tRftnYpb5BLW"
   },
   "source": [
    "# Where to Go From Here\n",
    "\n",
    "\n",
    "Read:\n",
    "* Algorithmic Foundations of Differential Privacy: https://www.cis.upenn.edu/~aaroth/Papers/privacybook.pdf\n",
    "* Deep Learning with Differential Privacy: https://arxiv.org/pdf/1607.00133.pdf\n",
    "* The Ethical Algorithm: https://www.amazon.com/Ethical-Algorithm-Science-Socially-Design/dp/0190948205\n",
    "\n",
    "\n",
    "\n",
    "   \n",
    "Topics:\n",
    "* The Exponential Mechanism\n",
    "* The Moment's Accountant\n",
    "*  Differentially Private Stochastic Gradient Descent"
   ]
  },
  {
   "cell_type": "code",
   "execution_count": null,
   "metadata": {
    "colab": {},
    "colab_type": "code",
    "id": "v-Up664v5BLW"
   },
   "outputs": [],
   "source": []
  },
  {
   "cell_type": "code",
   "execution_count": null,
   "metadata": {
    "colab": {},
    "colab_type": "code",
    "id": "kd0GzxPD5BLX"
   },
   "outputs": [],
   "source": []
  },
  {
   "cell_type": "markdown",
   "metadata": {
    "colab_type": "text",
    "id": "MhrlyJ3K5BLY"
   },
   "source": [
    "# Section Project:\n",
    "\n",
    "For the final project for this section, you're going to train a DP model using this PATE method on the MNIST dataset, provided below."
   ]
  },
  {
   "cell_type": "code",
   "execution_count": null,
   "metadata": {
    "colab": {},
    "colab_type": "code",
    "id": "5DdPKLJN5BLZ",
    "outputId": "13b07513-6219-4274-e206-e429c10b2115"
   },
   "outputs": [],
   "source": [
    "import torchvision.datasets as datasets\n",
    "mnist_trainset = datasets.MNIST(root='./data', train=True, download=True, transform=None)"
   ]
  },
  {
   "cell_type": "code",
   "execution_count": null,
   "metadata": {
    "colab": {},
    "colab_type": "code",
    "id": "4g9aXRid5BLa",
    "outputId": "d8dd5acb-c866-47dc-a4c5-280177cc0383"
   },
   "outputs": [],
   "source": [
    "train_data = mnist_trainset.train_data\n",
    "train_targets = mnist_trainset.train_labels"
   ]
  },
  {
   "cell_type": "code",
   "execution_count": null,
   "metadata": {
    "colab": {},
    "colab_type": "code",
    "id": "doUE6uzG5BLc",
    "outputId": "575a627d-9470-437f-f1e6-cd03f92a2962"
   },
   "outputs": [],
   "source": [
    "test_data = mnist_trainset.test_data\n",
    "test_targets = mnist_trainset.test_labels"
   ]
  },
  {
   "cell_type": "code",
   "execution_count": null,
   "metadata": {
    "colab": {},
    "colab_type": "code",
    "id": "V2vQTugr5BLf"
   },
   "outputs": [],
   "source": [
    "from torch import nn, optim\n",
    "import torch.nn.functional as F\n",
    "\n",
    "class Classifier(nn.Module):\n",
    "    def __init__(self):\n",
    "        super().__init__()\n",
    "        self.fc1 = nn.Linear(784, 256)\n",
    "        self.fc2 = nn.Linear(256, 128)\n",
    "        self.fc3 = nn.Linear(128, 64)\n",
    "        self.fc4 = nn.Linear(64, 10)\n",
    "        \n",
    "    def forward(self, x):\n",
    "        # make sure input tensor is flattened\n",
    "        x = x.view(x.shape[0], -1)\n",
    "        \n",
    "        x = F.relu(self.fc1(x))\n",
    "        x = F.relu(self.fc2(x))\n",
    "        x = F.relu(self.fc3(x))\n",
    "        x = F.log_softmax(self.fc4(x), dim=1)\n",
    "        \n",
    "        return x"
   ]
  }
 ],
 "metadata": {
  "accelerator": "GPU",
  "colab": {
   "collapsed_sections": [
    "K9h85ktU5BK1",
    "MV12MsPI5BK1",
    "x8r7HiI25BK2",
    "JFrUdcRH5BLB",
    "Q8CwLoPU5BLM"
   ],
   "name": "L3-Differential Privacy (Exercise).ipynb",
   "provenance": [
    {
     "file_id": "1UaH4L-bbvqMyJap2n_Fuulh0dPBCwMuy",
     "timestamp": 1560462471755
    }
   ],
   "version": "0.3.2"
  },
  "kernelspec": {
   "display_name": "Python 3",
   "language": "python",
   "name": "python3"
  },
  "language_info": {
   "codemirror_mode": {
    "name": "ipython",
    "version": 3
   },
   "file_extension": ".py",
   "mimetype": "text/x-python",
   "name": "python",
   "nbconvert_exporter": "python",
   "pygments_lexer": "ipython3",
   "version": "3.7.3"
  }
 },
 "nbformat": 4,
 "nbformat_minor": 1
}
