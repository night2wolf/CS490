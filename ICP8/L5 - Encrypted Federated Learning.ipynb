{
 "cells": [
  {
   "cell_type": "markdown",
   "metadata": {
    "colab_type": "text",
    "id": "_-9zRNvlyg8d"
   },
   "source": [
    "# Section: Securing Federated Learning\n",
    "\n",
    "- Lesson 1: Trusted Aggregator\n",
    "- Lesson 2: Intro to Additive Secret Sharing\n",
    "- Lesson 3: Intro to Fixed Precision Encoding\n",
    "- Lesson 4: Secret Sharing + Fixed Precision in PySyft\n",
    "- Final Project: Federated Learning wtih Encrypted Gradient Aggregation"
   ]
  },
  {
   "cell_type": "markdown",
   "metadata": {
    "colab_type": "text",
    "id": "KpoP5r4pyg8e"
   },
   "source": [
    "# Lesson: Federated Learning with a Trusted Aggregator\n",
    "\n",
    "In the last section, we learned how to train a model on a distributed dataset using Federated Learning. In particular, the last project aggregated gradients directly from one data owner to another. \n",
    "\n",
    "However, while in some cases it could be ideal to do this, what would be even better is to be able to choose a neutral third party to perform the aggregation.\n",
    "\n",
    "As it turns out, we can use the same tools we used previously to accomplish this."
   ]
  },
  {
   "cell_type": "markdown",
   "metadata": {
    "colab_type": "text",
    "id": "I_p_SUmJyg8f"
   },
   "source": [
    "# Project: Federated Learning with a Trusted Aggregator"
   ]
  },
  {
   "cell_type": "markdown",
   "metadata": {
    "colab_type": "text",
    "id": "co2Ce0CNyg8g"
   },
   "source": [
    "### Step 1: Create Data Owners"
   ]
  },
  {
   "cell_type": "code",
   "execution_count": null,
   "metadata": {
    "colab": {},
    "colab_type": "code",
    "id": "uH_EmY1EysB1"
   },
   "outputs": [],
   "source": [
    "!pip install syft"
   ]
  },
  {
   "cell_type": "code",
   "execution_count": 1,
   "metadata": {
    "colab": {
     "base_uri": "https://localhost:8080/",
     "height": 107
    },
    "colab_type": "code",
    "executionInfo": {
     "elapsed": 2732,
     "status": "ok",
     "timestamp": 1562694606812,
     "user": {
      "displayName": "Gharib Gharibi",
      "photoUrl": "https://lh3.googleusercontent.com/-jKnQDkmhZKk/AAAAAAAAAAI/AAAAAAAAAPw/6ddzRde_d0Q/s64/photo.jpg",
      "userId": "12269101840630561007"
     },
     "user_tz": 300
    },
    "id": "KKg8RQSqyg8g",
    "outputId": "d6a4c256-3468-4b1d-8fb3-afe8a3afa254"
   },
   "outputs": [
    {
     "name": "stderr",
     "output_type": "stream",
     "text": [
      "WARNING: Logging before flag parsing goes to stderr.\n",
      "W0709 17:50:06.243762 139991495161728 secure_random.py:26] Falling back to insecure randomness since the required custom op could not be found for the installed version of TensorFlow. Fix this by compiling custom ops. Missing file was '/usr/local/lib/python3.6/dist-packages/tf_encrypted/operations/secure_random/secure_random_module_tf_1.14.0.so'\n",
      "W0709 17:50:06.263539 139991495161728 deprecation_wrapper.py:119] From /usr/local/lib/python3.6/dist-packages/tf_encrypted/session.py:26: The name tf.Session is deprecated. Please use tf.compat.v1.Session instead.\n",
      "\n"
     ]
    }
   ],
   "source": [
    "import syft as sy\n",
    "import torch as th\n",
    "from torch import nn, optim\n",
    "\n",
    "hook = sy.TorchHook(th)"
   ]
  },
  {
   "cell_type": "code",
   "execution_count": 2,
   "metadata": {
    "colab": {
     "base_uri": "https://localhost:8080/",
     "height": 159
    },
    "colab_type": "code",
    "executionInfo": {
     "elapsed": 220,
     "status": "ok",
     "timestamp": 1562694609500,
     "user": {
      "displayName": "Gharib Gharibi",
      "photoUrl": "https://lh3.googleusercontent.com/-jKnQDkmhZKk/AAAAAAAAAAI/AAAAAAAAAPw/6ddzRde_d0Q/s64/photo.jpg",
      "userId": "12269101840630561007"
     },
     "user_tz": 300
    },
    "id": "brR-QwtByovp",
    "outputId": "e29801f6-8e6e-4c12-a06d-1a28cf1d4e0b"
   },
   "outputs": [
    {
     "name": "stderr",
     "output_type": "stream",
     "text": [
      "W0709 17:50:10.055624 139991495161728 base.py:628] Worker alice already exists. Replacing old worker which could cause                     unexpected behavior\n",
      "W0709 17:50:10.060528 139991495161728 base.py:628] Worker secure_worker already exists. Replacing old worker which could cause                     unexpected behavior\n",
      "W0709 17:50:10.061929 139991495161728 base.py:628] Worker bob already exists. Replacing old worker which could cause                     unexpected behavior\n",
      "W0709 17:50:10.065222 139991495161728 base.py:628] Worker secure_worker already exists. Replacing old worker which could cause                     unexpected behavior\n",
      "W0709 17:50:10.066277 139991495161728 base.py:628] Worker alice already exists. Replacing old worker which could cause                     unexpected behavior\n",
      "W0709 17:50:10.067300 139991495161728 base.py:628] Worker bob already exists. Replacing old worker which could cause                     unexpected behavior\n"
     ]
    },
    {
     "data": {
      "text/plain": [
       "<VirtualWorker id:secure_worker #objects:0>"
      ]
     },
     "execution_count": 2,
     "metadata": {
      "tags": []
     },
     "output_type": "execute_result"
    }
   ],
   "source": [
    "# create a couple workers\n",
    "\n",
    "bob = sy.VirtualWorker(hook, id=\"bob\")\n",
    "alice = sy.VirtualWorker(hook, id=\"alice\")\n",
    "secure_worker = sy.VirtualWorker(hook, id=\"secure_worker\")\n",
    "\n",
    "# this step is important in the real-world application.\n",
    "# You need to inform the workers of others existance\n",
    "# you will probably have an ssh or http worker, not a virtual worker.\n",
    "\n",
    "bob.add_workers([alice, secure_worker])\n",
    "alice.add_workers([bob, secure_worker])\n",
    "secure_worker.add_workers([alice, bob])"
   ]
  },
  {
   "cell_type": "code",
   "execution_count": 0,
   "metadata": {
    "colab": {},
    "colab_type": "code",
    "id": "IZ-yj1iEy-0S"
   },
   "outputs": [],
   "source": [
    "# A Toy Dataset\n",
    "data = th.tensor([[0,0],[0,1],[1,0],[1,1.]], requires_grad=True)\n",
    "target = th.tensor([[0],[0],[1],[1.]], requires_grad=True)\n",
    "\n",
    "# get pointers to training data on each worker by\n",
    "# sending some training data to bob and alice\n",
    "bobs_data = data[0:2].send(bob)\n",
    "bobs_target = target[0:2].send(bob)\n",
    "\n",
    "alices_data = data[2:].send(alice)\n",
    "alices_target = target[2:].send(alice)\n"
   ]
  },
  {
   "cell_type": "markdown",
   "metadata": {
    "colab_type": "text",
    "id": "zPinzIzsyg8l"
   },
   "source": [
    "### Step 2: Create the Model"
   ]
  },
  {
   "cell_type": "code",
   "execution_count": 0,
   "metadata": {
    "colab": {},
    "colab_type": "code",
    "id": "GuQKR-Ckyg8m"
   },
   "outputs": [],
   "source": [
    "# Iniitalize A Toy Model\n",
    "model = nn.Linear(2,1)"
   ]
  },
  {
   "cell_type": "markdown",
   "metadata": {
    "colab_type": "text",
    "id": "K1Jy5Iukyg8o"
   },
   "source": [
    "### Step 3: Send a Copy of The Model to Alice and Bob"
   ]
  },
  {
   "cell_type": "code",
   "execution_count": 0,
   "metadata": {
    "colab": {},
    "colab_type": "code",
    "id": "7bG1JWYzyg8o"
   },
   "outputs": [],
   "source": [
    "bobs_model = model.copy().send(bob) \n",
    "alices_model = model.copy().send(alice) \n",
    "\n",
    "bobs_opt = optim.SGD(params=bobs_model.parameters(), lr=0.1)\n",
    "alices_opt = optim.SGD(params=alices_model.parameters(), lr=0.1)\n"
   ]
  },
  {
   "cell_type": "markdown",
   "metadata": {
    "colab_type": "text",
    "id": "Mdjyo1Gkyg8q"
   },
   "source": [
    "### Step 4: Train Bob's and Alice's Models (in parallel)"
   ]
  },
  {
   "cell_type": "code",
   "execution_count": 0,
   "metadata": {
    "colab": {},
    "colab_type": "code",
    "id": "KmtzmlcDyg8r"
   },
   "outputs": [],
   "source": [
    "for i in range(10):\n",
    "\n",
    "    # Train Bob's Model\n",
    "    bobs_opt.zero_grad()\n",
    "    bobs_pred = bobs_model(bobs_data)\n",
    "    bobs_loss = ((bobs_pred - bobs_target)**2).mean()\n",
    "    bobs_loss.backward()\n",
    "\n",
    "    bobs_opt.step()\n",
    "    bobs_loss = bobs_loss.get().data\n",
    "    print(f'Bob loss {bobs_loss}')\n",
    "\n",
    "    # Train Alice's Model\n",
    "    alices_opt.zero_grad()\n",
    "    alices_pred = alices_model(alices_data)\n",
    "    alices_loss = ((alices_pred - alices_target)**2).mean()\n",
    "    alices_loss.backward()\n",
    "\n",
    "    alices_opt.step()\n",
    "    alices_loss = alices_loss.get().data\n",
    "    print(f'alice loss {alices_loss}')\n"
   ]
  },
  {
   "cell_type": "markdown",
   "metadata": {
    "colab_type": "text",
    "id": "HT6cy1gMyg8s"
   },
   "source": [
    "### Step 5: Send Both Updated Models to a Secure Worker"
   ]
  },
  {
   "cell_type": "code",
   "execution_count": 0,
   "metadata": {
    "colab": {},
    "colab_type": "code",
    "id": "3S2qpEoZyg8t"
   },
   "outputs": [],
   "source": [
    "alices_model.move(secure_worker) # the move function iterates on all objects in alice and call send on it. NOTEICE: inline function\n",
    "bobs_model.move(secure_worker)\n"
   ]
  },
  {
   "cell_type": "code",
   "execution_count": 7,
   "metadata": {
    "colab": {
     "base_uri": "https://localhost:8080/",
     "height": 156
    },
    "colab_type": "code",
    "executionInfo": {
     "elapsed": 229,
     "status": "ok",
     "timestamp": 1562694637709,
     "user": {
      "displayName": "Gharib Gharibi",
      "photoUrl": "https://lh3.googleusercontent.com/-jKnQDkmhZKk/AAAAAAAAAAI/AAAAAAAAAPw/6ddzRde_d0Q/s64/photo.jpg",
      "userId": "12269101840630561007"
     },
     "user_tz": 300
    },
    "id": "xEZZbRDx28Kw",
    "outputId": "ccf05d4a-fe3b-4b05-f620-a7102f4d7602"
   },
   "outputs": [
    {
     "data": {
      "text/plain": [
       "{21963037481: Parameter containing:\n",
       " tensor([[ 0.5020, -0.1802]], requires_grad=True),\n",
       " 33860880968: Parameter containing:\n",
       " tensor([-0.1180], requires_grad=True),\n",
       " 88005463002: Parameter containing:\n",
       " tensor([[ 0.5020, -0.1802]], requires_grad=True),\n",
       " 95174969346: Parameter containing:\n",
       " tensor([-0.1180], requires_grad=True)}"
      ]
     },
     "execution_count": 7,
     "metadata": {
      "tags": []
     },
     "output_type": "execute_result"
    }
   ],
   "source": [
    "secure_worker._objects # can you identify those objects in the Secure worker?"
   ]
  },
  {
   "cell_type": "markdown",
   "metadata": {
    "colab_type": "text",
    "id": "tO9s8TmOyg8v"
   },
   "source": [
    "### Step 6: Average The Models"
   ]
  },
  {
   "cell_type": "code",
   "execution_count": 22,
   "metadata": {
    "colab": {
     "base_uri": "https://localhost:8080/",
     "height": 35
    },
    "colab_type": "code",
    "executionInfo": {
     "elapsed": 362,
     "status": "ok",
     "timestamp": 1562695132035,
     "user": {
      "displayName": "Gharib Gharibi",
      "photoUrl": "https://lh3.googleusercontent.com/-jKnQDkmhZKk/AAAAAAAAAAI/AAAAAAAAAPw/6ddzRde_d0Q/s64/photo.jpg",
      "userId": "12269101840630561007"
     },
     "user_tz": 300
    },
    "id": "0RPMqJTB3wlE",
    "outputId": "2ad03a8f-b172-4c77-9e6d-5d370318d1a0"
   },
   "outputs": [
    {
     "data": {
      "text/plain": [
       "tensor([-0.1180])"
      ]
     },
     "execution_count": 22,
     "metadata": {
      "tags": []
     },
     "output_type": "execute_result"
    }
   ],
   "source": [
    "# A pytorch trick: to set the weights: you have to either access the data[idx] \n",
    "# or wrap the set function with (with torch.no_grad():)\n",
    "# below we illustrate the first way\n",
    "# the next cell demonstrates the complete way:\n",
    "\n",
    "model.weight.data[0].set_(((alices_model.weight.data + bobs_model.weight.data) / 2).get())\n",
    "model.bias.data[0].set_(((alices_model.bias.data + bobs_model.bias.data) / 2).get())"
   ]
  },
  {
   "cell_type": "markdown",
   "metadata": {
    "colab_type": "text",
    "id": "fCLNoxd3yg8y"
   },
   "source": [
    "### Step 7: The complete solution over multiple training sessions"
   ]
  },
  {
   "cell_type": "code",
   "execution_count": 24,
   "metadata": {
    "colab": {
     "base_uri": "https://localhost:8080/",
     "height": 191
    },
    "colab_type": "code",
    "executionInfo": {
     "elapsed": 859,
     "status": "ok",
     "timestamp": 1562695204722,
     "user": {
      "displayName": "Gharib Gharibi",
      "photoUrl": "https://lh3.googleusercontent.com/-jKnQDkmhZKk/AAAAAAAAAAI/AAAAAAAAAPw/6ddzRde_d0Q/s64/photo.jpg",
      "userId": "12269101840630561007"
     },
     "user_tz": 300
    },
    "id": "WUV-_tW2yg80",
    "outputId": "3bc85f4d-a40c-4883-caea-38bbfc24d23e"
   },
   "outputs": [
    {
     "name": "stdout",
     "output_type": "stream",
     "text": [
      "Bob:tensor(0.0002) Alice:tensor(5.8867e-06)\n",
      "Bob:tensor(0.0002) Alice:tensor(4.2680e-06)\n",
      "Bob:tensor(0.0001) Alice:tensor(3.1370e-06)\n",
      "Bob:tensor(0.0001) Alice:tensor(2.3311e-06)\n",
      "Bob:tensor(8.0358e-05) Alice:tensor(1.7466e-06)\n",
      "Bob:tensor(6.2014e-05) Alice:tensor(1.3172e-06)\n",
      "Bob:tensor(4.7825e-05) Alice:tensor(9.9825e-07)\n",
      "Bob:tensor(3.6863e-05) Alice:tensor(7.5948e-07)\n",
      "Bob:tensor(2.8402e-05) Alice:tensor(5.7938e-07)\n",
      "Bob:tensor(2.1877e-05) Alice:tensor(4.4302e-07)\n"
     ]
    }
   ],
   "source": [
    "iterations = 10\n",
    "worker_iters = 5\n",
    "\n",
    "for a_iter in range(iterations):\n",
    "\n",
    "    bobs_model = model.copy().send(bob)\n",
    "    alices_model = model.copy().send(alice)\n",
    "\n",
    "    bobs_opt = optim.SGD(params=bobs_model.parameters(), lr=0.1)\n",
    "    alices_opt = optim.SGD(params=alices_model.parameters(), lr=0.1)\n",
    "\n",
    "    for wi in range(worker_iters):\n",
    "        # Train Bob's Model\n",
    "        bobs_opt.zero_grad()\n",
    "        bobs_pred = bobs_model(bobs_data)\n",
    "        bobs_loss = ((bobs_pred - bobs_target) ** 2).sum()\n",
    "        bobs_loss.backward()\n",
    "\n",
    "        bobs_opt.step()\n",
    "        bobs_loss = bobs_loss.get().data\n",
    "\n",
    "        # Train Alice's Model\n",
    "        alices_opt.zero_grad()\n",
    "        alices_pred = alices_model(alices_data)\n",
    "        alices_loss = ((alices_pred - alices_target) ** 2).sum()\n",
    "        alices_loss.backward()\n",
    "\n",
    "        alices_opt.step()\n",
    "        alices_loss = alices_loss.get().data\n",
    "\n",
    "    alices_model.move(secure_worker)\n",
    "    bobs_model.move(secure_worker)\n",
    "\n",
    "    with th.no_grad():\n",
    "\n",
    "        model.weight.set_(((alices_model.weight.data + bobs_model.weight.data) / 2).get())\n",
    "        model.bias.set_(((alices_model.bias.data + bobs_model.bias.data) / 2).get())\n",
    "    \n",
    "    print(\"Bob:\" + str(bobs_loss) + \" Alice:\" + str(alices_loss))"
   ]
  },
  {
   "cell_type": "code",
   "execution_count": 0,
   "metadata": {
    "colab": {},
    "colab_type": "code",
    "id": "11abe6ojyg84"
   },
   "outputs": [],
   "source": [
    "preds = model(data)\n",
    "loss = ((preds - target) ** 2).mean()"
   ]
  },
  {
   "cell_type": "code",
   "execution_count": 26,
   "metadata": {
    "colab": {
     "base_uri": "https://localhost:8080/",
     "height": 173
    },
    "colab_type": "code",
    "executionInfo": {
     "elapsed": 234,
     "status": "ok",
     "timestamp": 1562695244548,
     "user": {
      "displayName": "Gharib Gharibi",
      "photoUrl": "https://lh3.googleusercontent.com/-jKnQDkmhZKk/AAAAAAAAAAI/AAAAAAAAAPw/6ddzRde_d0Q/s64/photo.jpg",
      "userId": "12269101840630561007"
     },
     "user_tz": 300
    },
    "id": "u0hsXnTNyg87",
    "outputId": "18061af4-6144-4b10-c65b-b7c6d9c49e78"
   },
   "outputs": [
    {
     "name": "stdout",
     "output_type": "stream",
     "text": [
      "tensor([[0.0131],\n",
      "        [0.0107],\n",
      "        [0.9865],\n",
      "        [0.9841]], grad_fn=<AddmmBackward>)\n",
      "tensor([[0.],\n",
      "        [0.],\n",
      "        [1.],\n",
      "        [1.]], requires_grad=True)\n",
      "tensor(0.0002)\n"
     ]
    }
   ],
   "source": [
    "print(preds)\n",
    "print(target)\n",
    "print(loss.data)"
   ]
  },
  {
   "cell_type": "markdown",
   "metadata": {
    "colab_type": "text",
    "id": "76nNRwAIyg89"
   },
   "source": [
    "# Lesson: Intro to Additive Secret Sharing\n",
    "\n",
    "While being able to have a trusted third party to perform the aggregation is certainly nice, in an ideal setting we wouldn't have to trust anyone at all. This is where Cryptography can provide an interesting alterantive. \n",
    "\n",
    "Specifically, we're going to be looking at a simple protocol for Secure Multi-Party Computation called Additive Secret Sharing. This protocol will allow multiple parties (of size 3 or more) to aggregate their gradients without the use of a trusted 3rd party to perform the aggregation. In other words, we can add 3 numbers together from 3 different people without anyone ever learning the inputs of any other actors.\n",
    "\n",
    "Let's start by considering the number 5, which we'll put into a varible x"
   ]
  },
  {
   "cell_type": "code",
   "execution_count": 0,
   "metadata": {
    "colab": {},
    "colab_type": "code",
    "id": "AgBkWPGQyg89"
   },
   "outputs": [],
   "source": [
    "x = 5"
   ]
  },
  {
   "cell_type": "markdown",
   "metadata": {
    "colab_type": "text",
    "id": "jmmK50kzyg8_"
   },
   "source": [
    "Let's say we wanted to SHARE the ownership of this number between two people, Alice and Bob. We could split this number into two shares, 2, and 3, and give one to Alice and one to Bob"
   ]
  },
  {
   "cell_type": "code",
   "execution_count": 29,
   "metadata": {
    "colab": {
     "base_uri": "https://localhost:8080/",
     "height": 35
    },
    "colab_type": "code",
    "executionInfo": {
     "elapsed": 318,
     "status": "ok",
     "timestamp": 1562697561751,
     "user": {
      "displayName": "Gharib Gharibi",
      "photoUrl": "https://lh3.googleusercontent.com/-jKnQDkmhZKk/AAAAAAAAAAI/AAAAAAAAAPw/6ddzRde_d0Q/s64/photo.jpg",
      "userId": "12269101840630561007"
     },
     "user_tz": 300
    },
    "id": "T8g8BuYuyg8_",
    "outputId": "1c1d2ac3-c689-45e5-db5f-f7805beca661"
   },
   "outputs": [
    {
     "data": {
      "text/plain": [
       "5"
      ]
     },
     "execution_count": 29,
     "metadata": {
      "tags": []
     },
     "output_type": "execute_result"
    }
   ],
   "source": [
    "bob_x_share = 2\n",
    "alice_x_share = 3\n",
    "\n",
    "decrypted_x = bob_x_share + alice_x_share\n",
    "decrypted_x"
   ]
  },
  {
   "cell_type": "markdown",
   "metadata": {
    "colab_type": "text",
    "id": "kQgRH61vyg9C"
   },
   "source": [
    "Note that neither Bob nor Alice know the value of x. They only know the value of their own SHARE of x. Thus, the true value of X is hidden (i.e., encrypted). \n",
    "\n",
    "The truly amazing thing, however, is that Alice and Bob can still compute using this value! They can perform arithmetic over the hidden value! Let's say Bob and Alice wanted to multiply this value by 2! If each of them multiplied their respective share by 2, then the hidden number between them is also multiplied! Check it out!"
   ]
  },
  {
   "cell_type": "code",
   "execution_count": 30,
   "metadata": {
    "colab": {
     "base_uri": "https://localhost:8080/",
     "height": 35
    },
    "colab_type": "code",
    "executionInfo": {
     "elapsed": 266,
     "status": "ok",
     "timestamp": 1562697563059,
     "user": {
      "displayName": "Gharib Gharibi",
      "photoUrl": "https://lh3.googleusercontent.com/-jKnQDkmhZKk/AAAAAAAAAAI/AAAAAAAAAPw/6ddzRde_d0Q/s64/photo.jpg",
      "userId": "12269101840630561007"
     },
     "user_tz": 300
    },
    "id": "q8dFgnKqyg9C",
    "outputId": "07d9cc99-95a0-49df-938a-9984402f2fa3"
   },
   "outputs": [
    {
     "data": {
      "text/plain": [
       "10"
      ]
     },
     "execution_count": 30,
     "metadata": {
      "tags": []
     },
     "output_type": "execute_result"
    }
   ],
   "source": [
    "bob_x_share *= 2\n",
    "alice_x_share *= 2\n",
    "\n",
    "decrypted_x = bob_x_share + alice_x_share\n",
    "decrypted_x"
   ]
  },
  {
   "cell_type": "markdown",
   "metadata": {
    "colab_type": "text",
    "id": "z3yKEyfuyg9M"
   },
   "source": [
    "This even works for addition between two shared values!!"
   ]
  },
  {
   "cell_type": "code",
   "execution_count": 31,
   "metadata": {
    "colab": {
     "base_uri": "https://localhost:8080/",
     "height": 35
    },
    "colab_type": "code",
    "executionInfo": {
     "elapsed": 331,
     "status": "ok",
     "timestamp": 1562697584867,
     "user": {
      "displayName": "Gharib Gharibi",
      "photoUrl": "https://lh3.googleusercontent.com/-jKnQDkmhZKk/AAAAAAAAAAI/AAAAAAAAAPw/6ddzRde_d0Q/s64/photo.jpg",
      "userId": "12269101840630561007"
     },
     "user_tz": 300
    },
    "id": "XNeUyPpmyg9N",
    "outputId": "15eac026-d603-4a82-9743-476456d267df"
   },
   "outputs": [
    {
     "data": {
      "text/plain": [
       "12"
      ]
     },
     "execution_count": 31,
     "metadata": {
      "tags": []
     },
     "output_type": "execute_result"
    }
   ],
   "source": [
    "# encrypted \"5\"\n",
    "bob_x_share = 2\n",
    "alice_x_share = 3\n",
    "\n",
    "# encrypted \"7\"\n",
    "bob_y_share = 5\n",
    "alice_y_share = 2\n",
    "\n",
    "# encrypted 5 + 7\n",
    "bob_z_share = bob_x_share + bob_y_share\n",
    "alice_z_share = alice_x_share + alice_y_share\n",
    "\n",
    "decrypted_z = bob_z_share + alice_z_share\n",
    "decrypted_z"
   ]
  },
  {
   "cell_type": "markdown",
   "metadata": {
    "colab_type": "text",
    "id": "bTYo-67Cyg9R"
   },
   "source": [
    "As you can see, we just added two numbers together while they were still encrypted ( you are the dealer, thus still can see --and know everything-- but Alice and Bob did not really know anything about the overall deal --the sum of the numbers; the secrete--)\n",
    "\n",
    "In this case, however, to keep the secrete is not about the relaiability / integrity of the person who holds it, rather the fact that those shareholders do not know each other!!!\n",
    "\n",
    "One small tweak - notice that since all our numbers are positive, it's possible for each share to reveal a little bit of information about the hidden value, namely, it's always greater than the share. Thus, if Bob has a share \"3\" then he knows that the encrypted value is at least 3.\n",
    "\n",
    "This would be quite bad, but can be solved through a simple fix. Decryption happens by summing all the shares together MODULUS some constant."
   ]
  },
  {
   "cell_type": "code",
   "execution_count": 58,
   "metadata": {
    "colab": {
     "base_uri": "https://localhost:8080/",
     "height": 69
    },
    "colab_type": "code",
    "executionInfo": {
     "elapsed": 244,
     "status": "ok",
     "timestamp": 1562698326231,
     "user": {
      "displayName": "Gharib Gharibi",
      "photoUrl": "https://lh3.googleusercontent.com/-jKnQDkmhZKk/AAAAAAAAAAI/AAAAAAAAAPw/6ddzRde_d0Q/s64/photo.jpg",
      "userId": "12269101840630561007"
     },
     "user_tz": 300
    },
    "id": "_-rBg_wXyg9S",
    "outputId": "eaf18e88-b2aa-452b-dab6-73a748584172"
   },
   "outputs": [
    {
     "name": "stdout",
     "output_type": "stream",
     "text": [
      "Bob share= 1525\n",
      "Alice share= 8403\n",
      "Add both shares= 9928... Wrong secrete\n"
     ]
    }
   ],
   "source": [
    "x = 5\n",
    "\n",
    "Q = 9923 # the little fix; a very large prime number\n",
    "\n",
    "bob_x_share = 1525 # give bob a random number.. try with negatives\n",
    "\n",
    "alice_x_share = Q - bob_x_share + x\n",
    "\n",
    "print(f'Bob share= {bob_x_share}')\n",
    "print(f'Alice share= {alice_x_share}')\n",
    "print(f'Add both shares= {bob_x_share + alice_x_share}... Wrong secrete')"
   ]
  },
  {
   "cell_type": "code",
   "execution_count": 59,
   "metadata": {
    "colab": {
     "base_uri": "https://localhost:8080/",
     "height": 35
    },
    "colab_type": "code",
    "executionInfo": {
     "elapsed": 336,
     "status": "ok",
     "timestamp": 1562698330752,
     "user": {
      "displayName": "Gharib Gharibi",
      "photoUrl": "https://lh3.googleusercontent.com/-jKnQDkmhZKk/AAAAAAAAAAI/AAAAAAAAAPw/6ddzRde_d0Q/s64/photo.jpg",
      "userId": "12269101840630561007"
     },
     "user_tz": 300
    },
    "id": "bWwHr0-Cyg9W",
    "outputId": "24d59ecc-a7c2-44e3-8eda-86a4a77405b5"
   },
   "outputs": [
    {
     "data": {
      "text/plain": [
       "5"
      ]
     },
     "execution_count": 59,
     "metadata": {
      "tags": []
     },
     "output_type": "execute_result"
    }
   ],
   "source": [
    "# Decryption happens by summing all the shares together MODULUS some constant\n",
    "\n",
    "(bob_x_share + alice_x_share) % Q"
   ]
  },
  {
   "cell_type": "markdown",
   "metadata": {
    "colab_type": "text",
    "id": "5HObwFt8yg9Z"
   },
   "source": [
    "So now, as you can see, both shares are wildly larger than the number being shared, meaning that individual shares no longer leak this inforation. However, all the properties we discussed earlier still hold! (addition, encryption, decryption, etc.)"
   ]
  },
  {
   "cell_type": "markdown",
   "metadata": {
    "colab_type": "text",
    "id": "OIXwf6S4yg9a"
   },
   "source": [
    "# Project: Build Methods for Encrypt, Decrypt, and Add \n",
    "\n",
    "In this project, you must take the lessons we learned in the last section and write general methods for encrypt, decrypt, and add. Store shares for a variable in a tuple like so:  `x_share = (2,5,7)`"
   ]
  },
  {
   "cell_type": "markdown",
   "metadata": {
    "colab_type": "text",
    "id": "uMz0yE45yg9c"
   },
   "source": [
    "Even though normally those shares would be distributed among several workers, you can store them in ordered tuples like this for now."
   ]
  },
  {
   "cell_type": "code",
   "execution_count": 0,
   "metadata": {
    "colab": {},
    "colab_type": "code",
    "id": "aI3TJxw4yg9d"
   },
   "outputs": [],
   "source": [
    "import random\n",
    "\n",
    "Q = 23740629843760239486723\n",
    "\n",
    "# accepts a secrete and shares it among n_shahre, returns a tuple with n_share shares\n",
    "def encrypt(x, n_share=3):\n",
    "    \n",
    "    shares = list()\n",
    "    \n",
    "    for i in range(n_share-1):\n",
    "        shares.append(random.randint(0,Q))\n",
    "        \n",
    "    shares.append(Q - (sum(shares) % Q) + x)\n",
    "    \n",
    "    return tuple(shares)\n",
    "\n",
    "  # accepts a tuple of shares and return the decrypted values\n",
    "def decrypt(shares):\n",
    "    return sum(shares) % Q"
   ]
  },
  {
   "cell_type": "code",
   "execution_count": 66,
   "metadata": {
    "colab": {
     "base_uri": "https://localhost:8080/",
     "height": 191
    },
    "colab_type": "code",
    "executionInfo": {
     "elapsed": 394,
     "status": "ok",
     "timestamp": 1562699365451,
     "user": {
      "displayName": "Gharib Gharibi",
      "photoUrl": "https://lh3.googleusercontent.com/-jKnQDkmhZKk/AAAAAAAAAAI/AAAAAAAAAPw/6ddzRde_d0Q/s64/photo.jpg",
      "userId": "12269101840630561007"
     },
     "user_tz": 300
    },
    "id": "_43oLAEDyg9e",
    "outputId": "8fca2aaa-6e24-434f-c05a-f6c2253ede92"
   },
   "outputs": [
    {
     "data": {
      "text/plain": [
       "(15899097772522877364249,\n",
       " 11367675966508840117530,\n",
       " 4900233884997846532104,\n",
       " 16630337867297688321351,\n",
       " 6676581143161867586917,\n",
       " 965082419012027105831,\n",
       " 10007139259242749719591,\n",
       " 2826785571199337361780,\n",
       " 9849092175711078026532,\n",
       " 15840493315386645811014)"
      ]
     },
     "execution_count": 66,
     "metadata": {
      "tags": []
     },
     "output_type": "execute_result"
    }
   ],
   "source": [
    "shares = encrypt(x=7, n_share=10)\n",
    "shares"
   ]
  },
  {
   "cell_type": "code",
   "execution_count": 67,
   "metadata": {
    "colab": {
     "base_uri": "https://localhost:8080/",
     "height": 35
    },
    "colab_type": "code",
    "executionInfo": {
     "elapsed": 324,
     "status": "ok",
     "timestamp": 1562699367109,
     "user": {
      "displayName": "Gharib Gharibi",
      "photoUrl": "https://lh3.googleusercontent.com/-jKnQDkmhZKk/AAAAAAAAAAI/AAAAAAAAAPw/6ddzRde_d0Q/s64/photo.jpg",
      "userId": "12269101840630561007"
     },
     "user_tz": 300
    },
    "id": "CyNaADMKyg9g",
    "outputId": "282e2286-ef29-44d5-b02c-6e9107ba249e"
   },
   "outputs": [
    {
     "data": {
      "text/plain": [
       "7"
      ]
     },
     "execution_count": 67,
     "metadata": {
      "tags": []
     },
     "output_type": "execute_result"
    }
   ],
   "source": [
    "decrypt(shares)"
   ]
  },
  {
   "cell_type": "code",
   "execution_count": 0,
   "metadata": {
    "colab": {},
    "colab_type": "code",
    "id": "I9tKua0Lyg9i"
   },
   "outputs": [],
   "source": [
    "def add(a, b):\n",
    "    c = list()\n",
    "    assert(len(a) == len(b))\n",
    "    for i in range(len(a)):\n",
    "        c.append((a[i] + b[i]) % Q)\n",
    "    return tuple(c)"
   ]
  },
  {
   "cell_type": "code",
   "execution_count": 77,
   "metadata": {
    "colab": {
     "base_uri": "https://localhost:8080/",
     "height": 69
    },
    "colab_type": "code",
    "executionInfo": {
     "elapsed": 236,
     "status": "ok",
     "timestamp": 1562699612198,
     "user": {
      "displayName": "Gharib Gharibi",
      "photoUrl": "https://lh3.googleusercontent.com/-jKnQDkmhZKk/AAAAAAAAAAI/AAAAAAAAAPw/6ddzRde_d0Q/s64/photo.jpg",
      "userId": "12269101840630561007"
     },
     "user_tz": 300
    },
    "id": "gupg7bAKyg9k",
    "outputId": "7999f47c-b4ff-4dfc-862a-a89c28f6624e"
   },
   "outputs": [
    {
     "name": "stdout",
     "output_type": "stream",
     "text": [
      "(19450006935608221574999, 18583217581987782711521, 9448035169924474686931)\n",
      "(18876374866682609093470, 10862363173324101889542, 17742521647513767990441)\n"
     ]
    },
    {
     "data": {
      "text/plain": [
       "12"
      ]
     },
     "execution_count": 77,
     "metadata": {
      "tags": []
     },
     "output_type": "execute_result"
    }
   ],
   "source": [
    "# run this block of code multiple times, what do you notice baout x and y?\n",
    "\n",
    "x = encrypt(5)\n",
    "print(x)\n",
    "y = encrypt(7)\n",
    "print(y)\n",
    "\n",
    "z = add(x,y)\n",
    "decrypt(z)"
   ]
  },
  {
   "cell_type": "markdown",
   "metadata": {
    "colab_type": "text",
    "id": "EmRCxZ6Nyg9m"
   },
   "source": [
    "# Lesson: Intro to Fixed Precision Encoding\n",
    "\n",
    "As you may remember, our goal is to aggregate gradients using this new Secret Sharing technique. However, the protocol we've just explored in the last section uses positive integers. However, our neural network weights are NOT integers. Instead, our weights are decimals (floating point numbers).\n",
    "\n",
    "Not a huge deal! We just need to use a fixed precision encoding, which lets us do computation over decimal numbers using integers!"
   ]
  },
  {
   "cell_type": "code",
   "execution_count": 2,
   "metadata": {
    "colab": {},
    "colab_type": "code",
    "id": "SSHHm-Oryg9m"
   },
   "outputs": [],
   "source": [
    "BASE= 10  # integer numbers (normal numbers)\n",
    "PRECISION= 3  # how many porecisions after the decimal point to encode\n",
    "Q = 23740629843760239486723 "
   ]
  },
  {
   "cell_type": "code",
   "execution_count": 3,
   "metadata": {
    "colab": {},
    "colab_type": "code",
    "id": "CL3R5pU0yg9o"
   },
   "outputs": [],
   "source": [
    "def encode(x):\n",
    "    return int((x * (BASE ** PRECISION)) % Q)\n",
    "\n",
    "def decode(x):\n",
    "    return (x if x <= Q/2 else x - Q) / BASE**PRECISION"
   ]
  },
  {
   "cell_type": "code",
   "execution_count": 12,
   "metadata": {
    "colab": {
     "base_uri": "https://localhost:8080/",
     "height": 35
    },
    "colab_type": "code",
    "executionInfo": {
     "elapsed": 321,
     "status": "ok",
     "timestamp": 1562702268800,
     "user": {
      "displayName": "Gharib Gharibi",
      "photoUrl": "https://lh3.googleusercontent.com/-jKnQDkmhZKk/AAAAAAAAAAI/AAAAAAAAAPw/6ddzRde_d0Q/s64/photo.jpg",
      "userId": "12269101840630561007"
     },
     "user_tz": 300
    },
    "id": "zwXUQeqpyg9r",
    "outputId": "2de9d33b-44d2-430a-8dbe-7c5d4389fa1c"
   },
   "outputs": [
    {
     "data": {
      "text/plain": [
       "600"
      ]
     },
     "execution_count": 12,
     "metadata": {},
     "output_type": "execute_result"
    }
   ],
   "source": [
    "encode(0.600)"
   ]
  },
  {
   "cell_type": "code",
   "execution_count": 10,
   "metadata": {
    "colab": {
     "base_uri": "https://localhost:8080/",
     "height": 35
    },
    "colab_type": "code",
    "executionInfo": {
     "elapsed": 235,
     "status": "ok",
     "timestamp": 1562702273790,
     "user": {
      "displayName": "Gharib Gharibi",
      "photoUrl": "https://lh3.googleusercontent.com/-jKnQDkmhZKk/AAAAAAAAAAI/AAAAAAAAAPw/6ddzRde_d0Q/s64/photo.jpg",
      "userId": "12269101840630561007"
     },
     "user_tz": 300
    },
    "id": "Ty3s8XYGyg9v",
    "outputId": "39f040b3-b326-4e21-c3ed-8354f743da8a"
   },
   "outputs": [
    {
     "data": {
      "text/plain": [
       "0.6"
      ]
     },
     "execution_count": 10,
     "metadata": {},
     "output_type": "execute_result"
    }
   ],
   "source": [
    "decode(600)"
   ]
  },
  {
   "cell_type": "code",
   "execution_count": 115,
   "metadata": {
    "colab": {
     "base_uri": "https://localhost:8080/",
     "height": 87
    },
    "colab_type": "code",
    "executionInfo": {
     "elapsed": 224,
     "status": "ok",
     "timestamp": 1562702519514,
     "user": {
      "displayName": "Gharib Gharibi",
      "photoUrl": "https://lh3.googleusercontent.com/-jKnQDkmhZKk/AAAAAAAAAAI/AAAAAAAAAPw/6ddzRde_d0Q/s64/photo.jpg",
      "userId": "12269101840630561007"
     },
     "user_tz": 300
    },
    "id": "zdFGoHbsyg9y",
    "outputId": "91ede8ab-87a2-4825-e52e-9e63e1c98af8"
   },
   "outputs": [
    {
     "name": "stdout",
     "output_type": "stream",
     "text": [
      "Value of x = (3415, 7020, 14911)\n",
      "Value of y = (4595, 7707, 13044)\n",
      "Value of sum = (8010, 4804, 8109)\n",
      "decoded sum = 1.077\n"
     ]
    }
   ],
   "source": [
    "# run this cell multiple times and notice the changes\n",
    "\n",
    "x = encrypt(encode(5.5))\n",
    "y = encrypt(encode(5.5))\n",
    "z = add(x,y)\n",
    "\n",
    "\n",
    "print(f'Value of x = {x}')\n",
    "print(f'Value of y = {y}')\n",
    "print(f'Value of sum = {z}')\n",
    "print(f'decoded sum = {decode(decrypt(z))}')"
   ]
  },
  {
   "cell_type": "markdown",
   "metadata": {
    "colab_type": "text",
    "id": "4F5ef4l9yg91"
   },
   "source": [
    "# Lesson: Secret Sharing + Fixed Precision in PySyft\n",
    "\n",
    "While writing things from scratch is certainly educational, PySyft makes a great deal of this much easier for us through its abstractions."
   ]
  },
  {
   "cell_type": "code",
   "execution_count": 1,
   "metadata": {
    "colab": {
     "base_uri": "https://localhost:8080/",
     "height": 228
    },
    "colab_type": "code",
    "executionInfo": {
     "elapsed": 2727,
     "status": "ok",
     "timestamp": 1562703268261,
     "user": {
      "displayName": "Gharib Gharibi",
      "photoUrl": "https://lh3.googleusercontent.com/-jKnQDkmhZKk/AAAAAAAAAAI/AAAAAAAAAPw/6ddzRde_d0Q/s64/photo.jpg",
      "userId": "12269101840630561007"
     },
     "user_tz": 300
    },
    "id": "lm9L0XPDyg91",
    "outputId": "921f93f8-1407-4d1f-ed84-498bb24259eb"
   },
   "outputs": [
    {
     "name": "stderr",
     "output_type": "stream",
     "text": [
      "WARNING: Logging before flag parsing goes to stderr.\n",
      "W0709 20:14:26.866629 140165005543296 secure_random.py:26] Falling back to insecure randomness since the required custom op could not be found for the installed version of TensorFlow. Fix this by compiling custom ops. Missing file was '/usr/local/lib/python3.6/dist-packages/tf_encrypted/operations/secure_random/secure_random_module_tf_1.14.0.so'\n",
      "W0709 20:14:26.883199 140165005543296 deprecation_wrapper.py:119] From /usr/local/lib/python3.6/dist-packages/tf_encrypted/session.py:26: The name tf.Session is deprecated. Please use tf.compat.v1.Session instead.\n",
      "\n",
      "W0709 20:14:27.871049 140165005543296 base.py:628] Worker alice already exists. Replacing old worker which could cause                     unexpected behavior\n",
      "W0709 20:14:27.872395 140165005543296 base.py:628] Worker secure_worker already exists. Replacing old worker which could cause                     unexpected behavior\n",
      "W0709 20:14:27.873795 140165005543296 base.py:628] Worker bob already exists. Replacing old worker which could cause                     unexpected behavior\n",
      "W0709 20:14:27.880703 140165005543296 base.py:628] Worker secure_worker already exists. Replacing old worker which could cause                     unexpected behavior\n",
      "W0709 20:14:27.885124 140165005543296 base.py:628] Worker alice already exists. Replacing old worker which could cause                     unexpected behavior\n",
      "W0709 20:14:27.886211 140165005543296 base.py:628] Worker bob already exists. Replacing old worker which could cause                     unexpected behavior\n"
     ]
    },
    {
     "data": {
      "text/plain": [
       "<VirtualWorker id:secure_worker #objects:0>"
      ]
     },
     "execution_count": 1,
     "metadata": {
      "tags": []
     },
     "output_type": "execute_result"
    }
   ],
   "source": [
    "# Its a good idea to restrat the environment at this point\n",
    "\n",
    "import syft as sy\n",
    "import torch as th\n",
    "from torch import nn, optim\n",
    "\n",
    "hook = sy.TorchHook(th)\n",
    "\n",
    "# create a couple workers\n",
    "\n",
    "bob = sy.VirtualWorker(hook, id=\"bob\")\n",
    "alice = sy.VirtualWorker(hook, id=\"alice\")\n",
    "secure_worker = sy.VirtualWorker(hook, id=\"secure_worker\")\n",
    "\n",
    "\n",
    "bob.add_workers([alice, secure_worker])\n",
    "alice.add_workers([bob, secure_worker])\n",
    "secure_worker.add_workers([alice, bob])"
   ]
  },
  {
   "cell_type": "code",
   "execution_count": 0,
   "metadata": {
    "colab": {},
    "colab_type": "code",
    "id": "cCmtFQT_yg94"
   },
   "outputs": [],
   "source": [
    "x = th.tensor([1,2,3,4,5]) ##### the following steps work for integer values only"
   ]
  },
  {
   "cell_type": "markdown",
   "metadata": {
    "colab_type": "text",
    "id": "c9MtKxllyg96"
   },
   "source": [
    "### Secret Sharing Using PySyft\n",
    "\n",
    "We can share using the simple` .share()` method!"
   ]
  },
  {
   "cell_type": "code",
   "execution_count": 3,
   "metadata": {
    "colab": {
     "base_uri": "https://localhost:8080/",
     "height": 104
    },
    "colab_type": "code",
    "executionInfo": {
     "elapsed": 357,
     "status": "ok",
     "timestamp": 1562703271359,
     "user": {
      "displayName": "Gharib Gharibi",
      "photoUrl": "https://lh3.googleusercontent.com/-jKnQDkmhZKk/AAAAAAAAAAI/AAAAAAAAAPw/6ddzRde_d0Q/s64/photo.jpg",
      "userId": "12269101840630561007"
     },
     "user_tz": 300
    },
    "id": "iWPR4vZxyg97",
    "outputId": "65b5c0cc-2022-4ee1-9ab7-918791f3c207"
   },
   "outputs": [
    {
     "data": {
      "text/plain": [
       "(Wrapper)>[AdditiveSharingTensor]\n",
       "\t-> (Wrapper)>[PointerTensor | me:86660417298 -> bob:21697835486]\n",
       "\t-> (Wrapper)>[PointerTensor | me:22601586543 -> alice:37627061481]\n",
       "\t-> (Wrapper)>[PointerTensor | me:52553544203 -> secure_worker:33776213713]\n",
       "\t*crypto provider: me*"
      ]
     },
     "execution_count": 3,
     "metadata": {
      "tags": []
     },
     "output_type": "execute_result"
    }
   ],
   "source": [
    "x = x.share(bob, alice, secure_worker) # implemets additive secrete shares\n",
    "x # it's a pointer to three secrete shares"
   ]
  },
  {
   "cell_type": "code",
   "execution_count": 4,
   "metadata": {
    "colab": {
     "base_uri": "https://localhost:8080/",
     "height": 52
    },
    "colab_type": "code",
    "executionInfo": {
     "elapsed": 311,
     "status": "ok",
     "timestamp": 1562703273305,
     "user": {
      "displayName": "Gharib Gharibi",
      "photoUrl": "https://lh3.googleusercontent.com/-jKnQDkmhZKk/AAAAAAAAAAI/AAAAAAAAAPw/6ddzRde_d0Q/s64/photo.jpg",
      "userId": "12269101840630561007"
     },
     "user_tz": 300
    },
    "id": "7JnJczV4yg99",
    "outputId": "8daebec8-aaeb-4ab8-9ea1-d7ae26470f99"
   },
   "outputs": [
    {
     "data": {
      "text/plain": [
       "{21697835486: tensor([ 931215927921640947,  459606633707528827, 2077348708747142219,\n",
       "         2518050637076306642, 2250413087966072035])}"
      ]
     },
     "execution_count": 4,
     "metadata": {
      "tags": []
     },
     "output_type": "execute_result"
    }
   ],
   "source": [
    "bob._objects # take a look at one of the shares.. Large random numbers --encrypted"
   ]
  },
  {
   "cell_type": "markdown",
   "metadata": {
    "colab_type": "text",
    "id": "jdqiNR6Iyg9-"
   },
   "source": [
    "and as you can see, Bob now has one of the shares of x! Furthermore, we can still call addition in this state, and PySyft will automatically perform the remote execution for us!"
   ]
  },
  {
   "cell_type": "code",
   "execution_count": 5,
   "metadata": {
    "colab": {
     "base_uri": "https://localhost:8080/",
     "height": 104
    },
    "colab_type": "code",
    "executionInfo": {
     "elapsed": 313,
     "status": "ok",
     "timestamp": 1562703289197,
     "user": {
      "displayName": "Gharib Gharibi",
      "photoUrl": "https://lh3.googleusercontent.com/-jKnQDkmhZKk/AAAAAAAAAAI/AAAAAAAAAPw/6ddzRde_d0Q/s64/photo.jpg",
      "userId": "12269101840630561007"
     },
     "user_tz": 300
    },
    "id": "q1uUOV3Fyg9_",
    "outputId": "7bef7d2b-0e96-480a-d1ab-dd6f80d4b457",
    "scrolled": true
   },
   "outputs": [
    {
     "data": {
      "text/plain": [
       "(Wrapper)>[AdditiveSharingTensor]\n",
       "\t-> (Wrapper)>[PointerTensor | me:15477851456 -> bob:77734773635]\n",
       "\t-> (Wrapper)>[PointerTensor | me:54003512272 -> alice:27089881245]\n",
       "\t-> (Wrapper)>[PointerTensor | me:22296853755 -> secure_worker:81023290460]\n",
       "\t*crypto provider: me*"
      ]
     },
     "execution_count": 5,
     "metadata": {
      "tags": []
     },
     "output_type": "execute_result"
    }
   ],
   "source": [
    "y = x + x\n",
    "y"
   ]
  },
  {
   "cell_type": "code",
   "execution_count": 6,
   "metadata": {
    "colab": {
     "base_uri": "https://localhost:8080/",
     "height": 87
    },
    "colab_type": "code",
    "executionInfo": {
     "elapsed": 231,
     "status": "ok",
     "timestamp": 1562703304552,
     "user": {
      "displayName": "Gharib Gharibi",
      "photoUrl": "https://lh3.googleusercontent.com/-jKnQDkmhZKk/AAAAAAAAAAI/AAAAAAAAAPw/6ddzRde_d0Q/s64/photo.jpg",
      "userId": "12269101840630561007"
     },
     "user_tz": 300
    },
    "id": "k__hFBeNYBB1",
    "outputId": "a9bfa86e-1ee5-4955-87bb-438f26303316"
   },
   "outputs": [
    {
     "data": {
      "text/plain": [
       "{21697835486: tensor([ 931215927921640947,  459606633707528827, 2077348708747142219,\n",
       "         2518050637076306642, 2250413087966072035]),\n",
       " 77734773635: tensor([1862431855843281894,  919213267415057654, 4154697417494284438,\n",
       "         5036101274152613284, 4500826175932144070])}"
      ]
     },
     "execution_count": 6,
     "metadata": {
      "tags": []
     },
     "output_type": "execute_result"
    }
   ],
   "source": [
    "bob._objects # bob has another tensor.. why?"
   ]
  },
  {
   "cell_type": "code",
   "execution_count": 7,
   "metadata": {
    "colab": {
     "base_uri": "https://localhost:8080/",
     "height": 35
    },
    "colab_type": "code",
    "executionInfo": {
     "elapsed": 384,
     "status": "ok",
     "timestamp": 1562703322017,
     "user": {
      "displayName": "Gharib Gharibi",
      "photoUrl": "https://lh3.googleusercontent.com/-jKnQDkmhZKk/AAAAAAAAAAI/AAAAAAAAAPw/6ddzRde_d0Q/s64/photo.jpg",
      "userId": "12269101840630561007"
     },
     "user_tz": 300
    },
    "id": "FGsYMXopyg-C",
    "outputId": "24cb7554-0cf4-4104-a3d0-e89e833ac631"
   },
   "outputs": [
    {
     "data": {
      "text/plain": [
       "tensor([ 2,  4,  6,  8, 10])"
      ]
     },
     "execution_count": 7,
     "metadata": {
      "tags": []
     },
     "output_type": "execute_result"
    }
   ],
   "source": [
    "y.get() # notice that we have doubled the values on each worker!"
   ]
  },
  {
   "cell_type": "code",
   "execution_count": 0,
   "metadata": {
    "colab": {},
    "colab_type": "code",
    "id": "AErqHN8Sf1PF"
   },
   "outputs": [],
   "source": []
  },
  {
   "cell_type": "markdown",
   "metadata": {
    "colab_type": "text",
    "id": "fCTEsZOYyg-E"
   },
   "source": [
    "\n",
    "### Fixed Precision using PySyft\n",
    "\n",
    "We can also convert a tensor to fixed precision using `.fix_precision()`\n",
    "This is important when doing FL since the values you are sharing are decimal numbers.\n",
    "\n",
    "**Q: what values are we sharing? what are the shared secretes?**"
   ]
  },
  {
   "cell_type": "code",
   "execution_count": 0,
   "metadata": {
    "colab": {},
    "colab_type": "code",
    "id": "pX4BjzDjyg-E"
   },
   "outputs": [],
   "source": [
    "x = th.tensor([0.1, 0.2, 0.3, 0.4]) # a decimal tensor!"
   ]
  },
  {
   "cell_type": "code",
   "execution_count": 16,
   "metadata": {
    "colab": {
     "base_uri": "https://localhost:8080/",
     "height": 35
    },
    "colab_type": "code",
    "executionInfo": {
     "elapsed": 221,
     "status": "ok",
     "timestamp": 1562703802819,
     "user": {
      "displayName": "Gharib Gharibi",
      "photoUrl": "https://lh3.googleusercontent.com/-jKnQDkmhZKk/AAAAAAAAAAI/AAAAAAAAAPw/6ddzRde_d0Q/s64/photo.jpg",
      "userId": "12269101840630561007"
     },
     "user_tz": 300
    },
    "id": "sFDXAJOcyg-J",
    "outputId": "13b70c9d-8984-443e-936a-312bc0689f73"
   },
   "outputs": [
    {
     "data": {
      "text/plain": [
       "tensor([0.1000, 0.2000, 0.3000, 0.4000])"
      ]
     },
     "execution_count": 16,
     "metadata": {
      "tags": []
     },
     "output_type": "execute_result"
    }
   ],
   "source": [
    "x"
   ]
  },
  {
   "cell_type": "code",
   "execution_count": 17,
   "metadata": {
    "colab": {
     "base_uri": "https://localhost:8080/",
     "height": 35
    },
    "colab_type": "code",
    "executionInfo": {
     "elapsed": 314,
     "status": "ok",
     "timestamp": 1562703803835,
     "user": {
      "displayName": "Gharib Gharibi",
      "photoUrl": "https://lh3.googleusercontent.com/-jKnQDkmhZKk/AAAAAAAAAAI/AAAAAAAAAPw/6ddzRde_d0Q/s64/photo.jpg",
      "userId": "12269101840630561007"
     },
     "user_tz": 300
    },
    "id": "r2G36bvmyg-M",
    "outputId": "aad31931-9a5a-4494-db6c-463aca37d254"
   },
   "outputs": [
    {
     "data": {
      "text/plain": [
       "(Wrapper)>FixedPrecisionTensor>tensor([100, 200, 300, 400])"
      ]
     },
     "execution_count": 17,
     "metadata": {
      "tags": []
     },
     "output_type": "execute_result"
    }
   ],
   "source": [
    "x = x.fix_prec() # call this function to encode the decimal tensor using fixed precision\n",
    "x # notice that this is a tensor chain <-------"
   ]
  },
  {
   "cell_type": "code",
   "execution_count": 21,
   "metadata": {
    "colab": {
     "base_uri": "https://localhost:8080/",
     "height": 69
    },
    "colab_type": "code",
    "executionInfo": {
     "elapsed": 360,
     "status": "ok",
     "timestamp": 1562703995426,
     "user": {
      "displayName": "Gharib Gharibi",
      "photoUrl": "https://lh3.googleusercontent.com/-jKnQDkmhZKk/AAAAAAAAAAI/AAAAAAAAAPw/6ddzRde_d0Q/s64/photo.jpg",
      "userId": "12269101840630561007"
     },
     "user_tz": 300
    },
    "id": "ATcM3Xivad5x",
    "outputId": "15637749-0dc7-4117-de45-5765d6bcf1e9"
   },
   "outputs": [
    {
     "name": "stdout",
     "output_type": "stream",
     "text": [
      "Type of x <class 'syft.frameworks.torch.tensors.interpreters.native.Tensor'>\n",
      "Type of x.child <class 'syft.frameworks.torch.tensors.interpreters.precision.FixedPrecisionTensor'>\n",
      "Type of x.child.child <class 'syft.frameworks.torch.tensors.interpreters.native.Tensor'>\n"
     ]
    }
   ],
   "source": [
    "print(f'Type of x {type(x)}')\n",
    "print(f'Type of x.child {type(x.child)}')\n",
    "print(f'Type of x.child.child {type(x.child.child)}') # <-- this is how you get the data from a fixed precision tensor"
   ]
  },
  {
   "cell_type": "code",
   "execution_count": 22,
   "metadata": {
    "colab": {
     "base_uri": "https://localhost:8080/",
     "height": 35
    },
    "colab_type": "code",
    "executionInfo": {
     "elapsed": 349,
     "status": "ok",
     "timestamp": 1562704057658,
     "user": {
      "displayName": "Gharib Gharibi",
      "photoUrl": "https://lh3.googleusercontent.com/-jKnQDkmhZKk/AAAAAAAAAAI/AAAAAAAAAPw/6ddzRde_d0Q/s64/photo.jpg",
      "userId": "12269101840630561007"
     },
     "user_tz": 300
    },
    "id": "qUoWTR0zaGGc",
    "outputId": "7be55d41-c5dd-424c-8711-ab0e88a4594b"
   },
   "outputs": [
    {
     "name": "stdout",
     "output_type": "stream",
     "text": [
      "tensor([0.1000, 0.2000, 0.3000, 0.4000])\n"
     ]
    }
   ],
   "source": [
    "# to decode the previous tensor\n",
    "print(x.float_prec())"
   ]
  },
  {
   "cell_type": "code",
   "execution_count": 24,
   "metadata": {
    "colab": {
     "base_uri": "https://localhost:8080/",
     "height": 35
    },
    "colab_type": "code",
    "executionInfo": {
     "elapsed": 337,
     "status": "ok",
     "timestamp": 1562704176803,
     "user": {
      "displayName": "Gharib Gharibi",
      "photoUrl": "https://lh3.googleusercontent.com/-jKnQDkmhZKk/AAAAAAAAAAI/AAAAAAAAAPw/6ddzRde_d0Q/s64/photo.jpg",
      "userId": "12269101840630561007"
     },
     "user_tz": 300
    },
    "id": "VxhTUS0fyg-Q",
    "outputId": "67a04459-078d-45a3-cbb2-61afdfe0aad0"
   },
   "outputs": [
    {
     "data": {
      "text/plain": [
       "(Wrapper)>FixedPrecisionTensor>tensor([200, 400, 600, 800])"
      ]
     },
     "execution_count": 24,
     "metadata": {
      "tags": []
     },
     "output_type": "execute_result"
    }
   ],
   "source": [
    "y = x + x\n",
    "y"
   ]
  },
  {
   "cell_type": "code",
   "execution_count": 25,
   "metadata": {
    "colab": {
     "base_uri": "https://localhost:8080/",
     "height": 35
    },
    "colab_type": "code",
    "executionInfo": {
     "elapsed": 380,
     "status": "ok",
     "timestamp": 1562704182653,
     "user": {
      "displayName": "Gharib Gharibi",
      "photoUrl": "https://lh3.googleusercontent.com/-jKnQDkmhZKk/AAAAAAAAAAI/AAAAAAAAAPw/6ddzRde_d0Q/s64/photo.jpg",
      "userId": "12269101840630561007"
     },
     "user_tz": 300
    },
    "id": "O1zowAiNyg-S",
    "outputId": "ebc6f721-45ad-47ab-aea3-349e084d1939"
   },
   "outputs": [
    {
     "data": {
      "text/plain": [
       "tensor([0.2000, 0.4000, 0.6000, 0.8000])"
      ]
     },
     "execution_count": 25,
     "metadata": {
      "tags": []
     },
     "output_type": "execute_result"
    }
   ],
   "source": [
    "y = y.float_prec()\n",
    "y"
   ]
  },
  {
   "cell_type": "markdown",
   "metadata": {
    "colab_type": "text",
    "id": "dD3PxBYtyg-T"
   },
   "source": [
    "### Shared Fixed Precision\n",
    "\n",
    "And of course, we can combine the two!"
   ]
  },
  {
   "cell_type": "code",
   "execution_count": 14,
   "metadata": {
    "colab": {},
    "colab_type": "code",
    "id": "iHvWTMsCyg-U"
   },
   "outputs": [],
   "source": [
    "x = th.tensor([0.1, 0.2, 0.3])"
   ]
  },
  {
   "cell_type": "code",
   "execution_count": 15,
   "metadata": {
    "colab": {
     "base_uri": "https://localhost:8080/",
     "height": 87
    },
    "colab_type": "code",
    "executionInfo": {
     "elapsed": 300,
     "status": "ok",
     "timestamp": 1562704216480,
     "user": {
      "displayName": "Gharib Gharibi",
      "photoUrl": "https://lh3.googleusercontent.com/-jKnQDkmhZKk/AAAAAAAAAAI/AAAAAAAAAPw/6ddzRde_d0Q/s64/photo.jpg",
      "userId": "12269101840630561007"
     },
     "user_tz": 300
    },
    "id": "pJdZTTsMyg-V",
    "outputId": "27e27916-1e35-4fa7-b7c5-34e3be53b686"
   },
   "outputs": [
    {
     "data": {
      "text/plain": [
       "(Wrapper)>FixedPrecisionTensor>(Wrapper)>[AdditiveSharingTensor]\n",
       "\t-> (Wrapper)>[PointerTensor | me:13742843580 -> bob:56595727574]\n",
       "\t-> (Wrapper)>[PointerTensor | me:77200685078 -> alice:87233012797]\n",
       "\t*crypto provider: me*"
      ]
     },
     "execution_count": 15,
     "metadata": {},
     "output_type": "execute_result"
    }
   ],
   "source": [
    "x = x.fix_prec().share(bob, alice)\n",
    "x"
   ]
  },
  {
   "cell_type": "code",
   "execution_count": 16,
   "metadata": {
    "colab": {
     "base_uri": "https://localhost:8080/",
     "height": 104
    },
    "colab_type": "code",
    "executionInfo": {
     "elapsed": 310,
     "status": "ok",
     "timestamp": 1562704232138,
     "user": {
      "displayName": "Gharib Gharibi",
      "photoUrl": "https://lh3.googleusercontent.com/-jKnQDkmhZKk/AAAAAAAAAAI/AAAAAAAAAPw/6ddzRde_d0Q/s64/photo.jpg",
      "userId": "12269101840630561007"
     },
     "user_tz": 300
    },
    "id": "GwuwrFRVbiQD",
    "outputId": "0b46e4c2-5671-4b82-b31a-590f4417d1c1"
   },
   "outputs": [
    {
     "data": {
      "text/plain": [
       "{38887352104: tensor([[0., 0.],\n",
       "         [0., 1.]], requires_grad=True), 48464678720: tensor([[0.],\n",
       "         [0.]], requires_grad=True), 31685372011: tensor([[2594427810957595240, 4102142485869820160]]), 77741295198: tensor([2489735713861075879]), 42546902867: tensor([3649264627757862120,  270092477334938956,  316567170879357265]), 24452323666: tensor([ 711746555135369249,  728216700561528217, 3995582222459278542]), 56595727574: tensor([2338142409544668310, 4319332375960667083, 1544187142222002404])}"
      ]
     },
     "execution_count": 16,
     "metadata": {},
     "output_type": "execute_result"
    }
   ],
   "source": [
    "bob._objects"
   ]
  },
  {
   "cell_type": "code",
   "execution_count": 9,
   "metadata": {
    "colab": {},
    "colab_type": "code",
    "id": "CUwsGFb3yg-W"
   },
   "outputs": [],
   "source": [
    "y = x + x"
   ]
  },
  {
   "cell_type": "code",
   "execution_count": 10,
   "metadata": {
    "colab": {
     "base_uri": "https://localhost:8080/",
     "height": 35
    },
    "colab_type": "code",
    "executionInfo": {
     "elapsed": 236,
     "status": "ok",
     "timestamp": 1562704247103,
     "user": {
      "displayName": "Gharib Gharibi",
      "photoUrl": "https://lh3.googleusercontent.com/-jKnQDkmhZKk/AAAAAAAAAAI/AAAAAAAAAPw/6ddzRde_d0Q/s64/photo.jpg",
      "userId": "12269101840630561007"
     },
     "user_tz": 300
    },
    "id": "gCzDtdYcyg-a",
    "outputId": "006d155d-3f0a-4932-80f4-44f86347ed92"
   },
   "outputs": [
    {
     "data": {
      "text/plain": [
       "tensor([0.2000, 0.4000, 0.6000])"
      ]
     },
     "execution_count": 10,
     "metadata": {},
     "output_type": "execute_result"
    }
   ],
   "source": [
    "y.get().float_prec()"
   ]
  },
  {
   "cell_type": "markdown",
   "metadata": {
    "colab_type": "text",
    "id": "PLTpJ64Syg-e"
   },
   "source": [
    "# Final Project: Federated Learning with Encrypted Gradient Aggregation\n",
    "\n",
    "Reuse your project from the Secuered Agggregator above to train the same model using the FL appraoch, but this time use the Additive Sharing Encryption so that the participating members have access to their own models only. There is no secure aggregator in this senario. \n",
    "Include four members in this project (Alice, Bob, Ted, and Carol). \n",
    "\n",
    "Hint: we will *share* the model with the shareholders, do addition on the encrypted models, and then aggregate the final model locally. "
   ]
  },
  {
   "cell_type": "code",
   "execution_count": 1,
   "metadata": {},
   "outputs": [
    {
     "name": "stderr",
     "output_type": "stream",
     "text": [
      "WARNING: Logging before flag parsing goes to stderr.\n",
      "W0709 20:13:36.512173  3272 secure_random.py:22] Falling back to insecure randomness since the required custom op could not be found for the installed version of TensorFlow (1.14.0). Fix this by compiling custom ops.\n",
      "W0709 20:13:36.560176  3272 deprecation_wrapper.py:119] From C:\\Users\\tklinkenberg\\.conda\\envs\\CS490\\lib\\site-packages\\tf_encrypted\\session.py:28: The name tf.Session is deprecated. Please use tf.compat.v1.Session instead.\n",
      "\n"
     ]
    }
   ],
   "source": [
    "import syft as sy\n",
    "import torch as th\n",
    "from torch import nn, optim\n",
    "\n",
    "hook = sy.TorchHook(th)\n",
    "model = nn.Linear(2,1)"
   ]
  },
  {
   "cell_type": "code",
   "execution_count": 2,
   "metadata": {},
   "outputs": [
    {
     "name": "stderr",
     "output_type": "stream",
     "text": [
      "W0709 20:13:37.987194  3272 base.py:628] Worker alice already exists. Replacing old worker which could cause                     unexpected behavior\n",
      "W0709 20:13:37.990179  3272 base.py:628] Worker ted already exists. Replacing old worker which could cause                     unexpected behavior\n",
      "W0709 20:13:37.992184  3272 base.py:628] Worker carol already exists. Replacing old worker which could cause                     unexpected behavior\n",
      "W0709 20:13:37.993177  3272 base.py:628] Worker bob already exists. Replacing old worker which could cause                     unexpected behavior\n",
      "W0709 20:13:37.995196  3272 base.py:628] Worker ted already exists. Replacing old worker which could cause                     unexpected behavior\n",
      "W0709 20:13:37.996190  3272 base.py:628] Worker carol already exists. Replacing old worker which could cause                     unexpected behavior\n",
      "W0709 20:13:37.997201  3272 base.py:628] Worker alice already exists. Replacing old worker which could cause                     unexpected behavior\n",
      "W0709 20:13:37.999197  3272 base.py:628] Worker bob already exists. Replacing old worker which could cause                     unexpected behavior\n",
      "W0709 20:13:38.000194  3272 base.py:628] Worker carol already exists. Replacing old worker which could cause                     unexpected behavior\n",
      "W0709 20:13:38.002207  3272 base.py:628] Worker alice already exists. Replacing old worker which could cause                     unexpected behavior\n",
      "W0709 20:13:38.004180  3272 base.py:628] Worker bob already exists. Replacing old worker which could cause                     unexpected behavior\n",
      "W0709 20:13:38.005206  3272 base.py:628] Worker ted already exists. Replacing old worker which could cause                     unexpected behavior\n"
     ]
    },
    {
     "data": {
      "text/plain": [
       "<VirtualWorker id:carol #objects:0>"
      ]
     },
     "execution_count": 2,
     "metadata": {},
     "output_type": "execute_result"
    }
   ],
   "source": [
    "# create a couple workers\n",
    "\n",
    "bob = sy.VirtualWorker(hook, id=\"bob\")\n",
    "alice = sy.VirtualWorker(hook, id=\"alice\")\n",
    "ted = sy.VirtualWorker(hook, id=\"ted\")\n",
    "carol = sy.VirtualWorker(hook, id=\"carol\")\n",
    "\n",
    "# this step is important in the real-world application.\n",
    "# You need to inform the workers of others existance\n",
    "# you will probably have an ssh or http worker, not a virtual worker.\n",
    "\n",
    "bob.add_workers([alice, ted, carol])\n",
    "alice.add_workers([bob, ted, carol])\n",
    "ted.add_workers([alice, bob, carol])\n",
    "carol.add_workers([alice, bob, ted])\n"
   ]
  },
  {
   "cell_type": "code",
   "execution_count": 3,
   "metadata": {},
   "outputs": [],
   "source": [
    "# A Toy Dataset\n",
    "data = th.tensor([[0,0],[0,1],[1,0],[1,1.],[0,1],[1,0],[0,0],[1,1]], requires_grad=True)\n",
    "target = th.tensor([[0],[0],[1],[1.],[1],[0],[1],[0]], requires_grad=True)\n",
    "\n",
    "# get pointers to training data on each worker by\n",
    "# sending some training data to bob and alice\n",
    "data = data.share(bob,alice,ted,carol)\n",
    "target = target.share(bob,alice,ted,carol)\n",
    "#bobs_data = data[0:2].send(bob)\n",
    "#bobs_target = target[0:2].send(bob)\n",
    "\n",
    "#alices_data = data[2:4].send(alice)\n",
    "#alices_target = target[2:4].send(alice)\n",
    "\n",
    "#teds_data = data[4:6].send(ted)\n",
    "#teds_target = target[4:6].send(ted)\n",
    "\n",
    "#carols_data = data[6:8].send(carol)\n",
    "#carols_target = target[6:8].send(carol)"
   ]
  },
  {
   "cell_type": "code",
   "execution_count": 4,
   "metadata": {
    "colab": {},
    "colab_type": "code",
    "id": "hSmcZYzYyg-g"
   },
   "outputs": [
    {
     "ename": "AttributeError",
     "evalue": "'FixedPrecisionTensor' object has no attribute 'attr'",
     "output_type": "error",
     "traceback": [
      "\u001b[1;31m---------------------------------------------------------------------------\u001b[0m",
      "\u001b[1;31mAttributeError\u001b[0m                            Traceback (most recent call last)",
      "\u001b[1;32m<ipython-input-4-b8618ea1ef4f>\u001b[0m in \u001b[0;36m<module>\u001b[1;34m\u001b[0m\n\u001b[0;32m     16\u001b[0m \u001b[1;33m\u001b[0m\u001b[0m\n\u001b[0;32m     17\u001b[0m     \u001b[1;32mfor\u001b[0m \u001b[0mwi\u001b[0m \u001b[1;32min\u001b[0m \u001b[0mrange\u001b[0m\u001b[1;33m(\u001b[0m\u001b[0mworker_iters\u001b[0m\u001b[1;33m)\u001b[0m\u001b[1;33m:\u001b[0m\u001b[1;33m\u001b[0m\u001b[1;33m\u001b[0m\u001b[0m\n\u001b[1;32m---> 18\u001b[1;33m         \u001b[0mopt\u001b[0m\u001b[1;33m.\u001b[0m\u001b[0mzero_grad\u001b[0m\u001b[1;33m(\u001b[0m\u001b[1;33m)\u001b[0m\u001b[1;33m\u001b[0m\u001b[1;33m\u001b[0m\u001b[0m\n\u001b[0m\u001b[0;32m     19\u001b[0m         \u001b[0mpred\u001b[0m \u001b[1;33m=\u001b[0m \u001b[0mmodel\u001b[0m\u001b[1;33m(\u001b[0m\u001b[0mdata\u001b[0m\u001b[1;33m)\u001b[0m\u001b[1;33m\u001b[0m\u001b[1;33m\u001b[0m\u001b[0m\n\u001b[0;32m     20\u001b[0m         \u001b[0mloss\u001b[0m \u001b[1;33m=\u001b[0m \u001b[1;33m(\u001b[0m\u001b[1;33m(\u001b[0m\u001b[0mpred\u001b[0m \u001b[1;33m-\u001b[0m \u001b[0mtarget\u001b[0m\u001b[1;33m)\u001b[0m \u001b[1;33m**\u001b[0m \u001b[1;36m2\u001b[0m\u001b[1;33m)\u001b[0m\u001b[1;33m.\u001b[0m\u001b[0msum\u001b[0m\u001b[1;33m(\u001b[0m\u001b[1;33m)\u001b[0m\u001b[1;33m\u001b[0m\u001b[1;33m\u001b[0m\u001b[0m\n",
      "\u001b[1;32m~\\.conda\\envs\\CS490\\lib\\site-packages\\torch\\optim\\optimizer.py\u001b[0m in \u001b[0;36mzero_grad\u001b[1;34m(self)\u001b[0m\n\u001b[0;32m    160\u001b[0m         \u001b[1;32mfor\u001b[0m \u001b[0mgroup\u001b[0m \u001b[1;32min\u001b[0m \u001b[0mself\u001b[0m\u001b[1;33m.\u001b[0m\u001b[0mparam_groups\u001b[0m\u001b[1;33m:\u001b[0m\u001b[1;33m\u001b[0m\u001b[1;33m\u001b[0m\u001b[0m\n\u001b[0;32m    161\u001b[0m             \u001b[1;32mfor\u001b[0m \u001b[0mp\u001b[0m \u001b[1;32min\u001b[0m \u001b[0mgroup\u001b[0m\u001b[1;33m[\u001b[0m\u001b[1;34m'params'\u001b[0m\u001b[1;33m]\u001b[0m\u001b[1;33m:\u001b[0m\u001b[1;33m\u001b[0m\u001b[1;33m\u001b[0m\u001b[0m\n\u001b[1;32m--> 162\u001b[1;33m                 \u001b[1;32mif\u001b[0m \u001b[0mp\u001b[0m\u001b[1;33m.\u001b[0m\u001b[0mgrad\u001b[0m \u001b[1;32mis\u001b[0m \u001b[1;32mnot\u001b[0m \u001b[1;32mNone\u001b[0m\u001b[1;33m:\u001b[0m\u001b[1;33m\u001b[0m\u001b[1;33m\u001b[0m\u001b[0m\n\u001b[0m\u001b[0;32m    163\u001b[0m                     \u001b[0mp\u001b[0m\u001b[1;33m.\u001b[0m\u001b[0mgrad\u001b[0m\u001b[1;33m.\u001b[0m\u001b[0mdetach_\u001b[0m\u001b[1;33m(\u001b[0m\u001b[1;33m)\u001b[0m\u001b[1;33m\u001b[0m\u001b[1;33m\u001b[0m\u001b[0m\n\u001b[0;32m    164\u001b[0m                     \u001b[0mp\u001b[0m\u001b[1;33m.\u001b[0m\u001b[0mgrad\u001b[0m\u001b[1;33m.\u001b[0m\u001b[0mzero_\u001b[0m\u001b[1;33m(\u001b[0m\u001b[1;33m)\u001b[0m\u001b[1;33m\u001b[0m\u001b[1;33m\u001b[0m\u001b[0m\n",
      "\u001b[1;32m~\\.conda\\envs\\CS490\\lib\\site-packages\\syft\\frameworks\\torch\\hook\\hook.py\u001b[0m in \u001b[0;36mgrad\u001b[1;34m(self)\u001b[0m\n\u001b[0;32m    381\u001b[0m \u001b[1;33m\u001b[0m\u001b[0m\n\u001b[0;32m    382\u001b[0m             \u001b[1;32mif\u001b[0m \u001b[0mhasattr\u001b[0m\u001b[1;33m(\u001b[0m\u001b[0mself\u001b[0m\u001b[1;33m,\u001b[0m \u001b[1;34m\"child\"\u001b[0m\u001b[1;33m)\u001b[0m\u001b[1;33m:\u001b[0m\u001b[1;33m\u001b[0m\u001b[1;33m\u001b[0m\u001b[0m\n\u001b[1;32m--> 383\u001b[1;33m                 \u001b[0mto_return\u001b[0m \u001b[1;33m=\u001b[0m \u001b[0mself\u001b[0m\u001b[1;33m.\u001b[0m\u001b[0mchild\u001b[0m\u001b[1;33m.\u001b[0m\u001b[0mattr\u001b[0m\u001b[1;33m(\u001b[0m\u001b[1;34m\"grad\"\u001b[0m\u001b[1;33m)\u001b[0m\u001b[1;33m\u001b[0m\u001b[1;33m\u001b[0m\u001b[0m\n\u001b[0m\u001b[0;32m    384\u001b[0m                 \u001b[1;32mif\u001b[0m \u001b[0misinstance\u001b[0m\u001b[1;33m(\u001b[0m\u001b[0mto_return\u001b[0m\u001b[1;33m.\u001b[0m\u001b[0mchild\u001b[0m\u001b[1;33m,\u001b[0m \u001b[0msyft\u001b[0m\u001b[1;33m.\u001b[0m\u001b[0mPointerTensor\u001b[0m\u001b[1;33m)\u001b[0m\u001b[1;33m:\u001b[0m\u001b[1;33m\u001b[0m\u001b[1;33m\u001b[0m\u001b[0m\n\u001b[0;32m    385\u001b[0m                     \u001b[1;32mif\u001b[0m \u001b[0mto_return\u001b[0m\u001b[1;33m.\u001b[0m\u001b[0mchild\u001b[0m\u001b[1;33m.\u001b[0m\u001b[0mis_none\u001b[0m\u001b[1;33m(\u001b[0m\u001b[1;33m)\u001b[0m\u001b[1;33m:\u001b[0m\u001b[1;33m\u001b[0m\u001b[1;33m\u001b[0m\u001b[0m\n",
      "\u001b[1;31mAttributeError\u001b[0m: 'FixedPrecisionTensor' object has no attribute 'attr'"
     ]
    }
   ],
   "source": [
    "# create cells as needed. Separate your solution into logical cells.\n",
    "iterations = 10\n",
    "worker_iters = 5\n",
    "\n",
    "for a_iter in range(iterations):\n",
    "\n",
    "    #bobs_model = model.copy().send(bob)\n",
    "    #alices_model = model.copy().send(alice)\n",
    "    #teds_model = model.copy().send(ted)\n",
    "    #carols_model = model.copy().send(carol)\n",
    "    model = model.fix_precision().share(bob,alice,ted,carol)\n",
    "\n",
    "    \n",
    "    opt = optim.SGD(params=model.parameters(), lr=0.1)\n",
    "\n",
    "\n",
    "    for wi in range(worker_iters):\n",
    "        opt.zero_grad()\n",
    "        pred = model(data)\n",
    "        loss = ((pred - target) ** 2).sum()\n",
    "        loss.backward()\n",
    "\n",
    "        opt.step()\n",
    "        loss = loss.get().data\n",
    "\n",
    "\n",
    "    model.float_prec().get()\n",
    "   # with th.no_grad():\n",
    "        # model.weight.set_(((alices_model.weight.data + bobs_model.weight.data + teds_model.weight.data + carols_model.weight.data) / 4))\n",
    "        # model.bias.set_(((alices_model.bias.data + bobs_model.bias.data + teds_model.bias.data + carols_model.bias.data) / 4))\n",
    "    \n",
    "  #  print(\"Bob:\" + str(bobs_loss) + \" Alice:\" + str(alices_loss) + \" Ted:\" + str(teds_loss) + \" Carol:\" + str(carols_loss))\n",
    "    print(\"Model: \" + str(loss))\n",
    "    "
   ]
  },
  {
   "cell_type": "code",
   "execution_count": null,
   "metadata": {},
   "outputs": [],
   "source": [
    "        # Train Alice's Model\n",
    "        alices_opt.zero_grad()\n",
    "        alices_pred = model(alices_data)\n",
    "        alices_loss = ((alices_pred - alices_target) ** 2).sum()\n",
    "        alices_loss.backward()\n",
    "\n",
    "        alices_opt.step()\n",
    "        alices_loss = alices_loss.get().data\n",
    "        \n",
    "        # Train Ted's Model\n",
    "        teds_opt.zero_grad()\n",
    "        teds_pred = model(teds_data)\n",
    "        teds_loss = ((teds_pred - teds_target) ** 2).sum()\n",
    "        teds_loss.backward()\n",
    "\n",
    "        teds_opt.step()\n",
    "        teds_loss = teds_loss.get().data\n",
    "        \n",
    "        # Train Carol's Model\n",
    "        carols_opt.zero_grad()\n",
    "        carols_pred = model(carols_data)\n",
    "        carols_loss = ((carols_pred - carols_target) ** 2).sum()\n",
    "        carols_loss.backward()\n",
    "\n",
    "        carols_opt.step()\n",
    "        carols_loss = carols_loss.get().data\n",
    "\n",
    "        \n",
    "        \n",
    "    alices_model.get().float_prec()\n",
    "\n",
    "    teds_model.get().float_prec()\n",
    "    carols_model.get().float_prec()\n",
    "        alices_opt = optim.SGD(params=model.parameters(), lr=0.1)\n",
    "    teds_opt = optim.SGD(params=model.parameters(), lr=0.1)\n",
    "    carols_opt = optim.SGD(params=model.parameters(), lr=0.1)"
   ]
  }
 ],
 "metadata": {
  "colab": {
   "collapsed_sections": [],
   "name": "L5 - Encrypted Securing Federated Learning.ipynb",
   "provenance": [],
   "version": "0.3.2"
  },
  "kernelspec": {
   "display_name": "Python 3",
   "language": "python",
   "name": "python3"
  },
  "language_info": {
   "codemirror_mode": {
    "name": "ipython",
    "version": 3
   },
   "file_extension": ".py",
   "mimetype": "text/x-python",
   "name": "python",
   "nbconvert_exporter": "python",
   "pygments_lexer": "ipython3",
   "version": "3.7.3"
  }
 },
 "nbformat": 4,
 "nbformat_minor": 1
}
