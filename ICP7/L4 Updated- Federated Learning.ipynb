{
 "cells": [
  {
   "cell_type": "markdown",
   "metadata": {
    "colab_type": "text",
    "id": "Eeol6_2I32Xg"
   },
   "source": [
    "# Section: Federated Learning"
   ]
  },
  {
   "cell_type": "markdown",
   "metadata": {
    "colab_type": "text",
    "id": "9N4fXPLM32Xi"
   },
   "source": [
    "# Lesson: Introducing Federated Learning\n",
    "\n",
    "Federated Learning is a technique for training Deep Learning models on data to which you do not have access. Basically:\n",
    "\n",
    "Federated Learning: Instead of bringing all the data to one machine and training a model, we bring the model to the data, train it locally, and merely upload \"model updates\" to a central server.\n",
    "\n",
    "Use Cases:\n",
    "\n",
    "    - app company (Texting prediction app)\n",
    "    - predictive maintenance (automobiles / industrial engines)\n",
    "    - wearable medical devices\n",
    "    - ad blockers / autotomplete in browsers (Firefox/Brave)\n",
    "    \n",
    "Challenge Description: data is distributed amongst sources but we cannot aggregated it because of:\n",
    "\n",
    "    - privacy concerns: legal, user discomfort, competitive dynamics\n",
    "    - engineering: the bandwidth/storage requirements of aggregating the larger dataset"
   ]
  },
  {
   "cell_type": "markdown",
   "metadata": {
    "colab_type": "text",
    "id": "KAl2S5VD32Xi"
   },
   "source": [
    "# Lesson: Introducing / Installing PySyft\n",
    "\n",
    "In order to perform Federated Learning, we need to be able to use Deep Learning techniques on remote machines. This will require a new set of tools. Specifically, we will use an extensin of PyTorch called PySyft.\n",
    "\n",
    "### Install PySyft\n",
    "\n",
    "The easiest way to install the required libraries is with [Conda](https://docs.conda.io/projects/conda/en/latest/user-guide/overview.html). Create a new environment, then install the dependencies in that environment. In your terminal:\n",
    "\n",
    "```bash\n",
    "conda create -n pysyft python=3\n",
    "conda activate pysyft # some older version of conda require \"source activate pysyft\" instead.\n",
    "conda install jupyter notebook\n",
    "pip install syft\n",
    "pip install numpy\n",
    "```\n",
    "\n",
    "If you have any errors relating to zstd - run the following (if everything above installed fine then skip this step):\n",
    "\n",
    "```\n",
    "pip install --upgrade --force-reinstall zstd\n",
    "```\n",
    "\n",
    "and then retry installing syft (pip install syft).\n",
    "\n",
    "If you are using Windows, I suggest installing [Anaconda and using the Anaconda Prompt](https://docs.anaconda.com/anaconda/user-guide/getting-started/) to work from the command line. \n",
    "\n",
    "With this environment activated and in the repo directory, launch Jupyter Notebook:\n",
    "\n",
    "```bash\n",
    "jupyter notebook\n",
    "```\n",
    "\n",
    "and re-open this notebook on the new Jupyter server.\n",
    "\n"
   ]
  },
  {
   "cell_type": "code",
   "execution_count": 1,
   "metadata": {
    "colab": {
     "base_uri": "https://localhost:8080/",
     "height": 1000
    },
    "colab_type": "code",
    "executionInfo": {
     "elapsed": 36400,
     "status": "ok",
     "timestamp": 1562088724751,
     "user": {
      "displayName": "Gharib Gharibi",
      "photoUrl": "https://lh3.googleusercontent.com/-jKnQDkmhZKk/AAAAAAAAAAI/AAAAAAAAAPw/6ddzRde_d0Q/s64/photo.jpg",
      "userId": "12269101840630561007"
     },
     "user_tz": 300
    },
    "id": "98s4BEGx4PXS",
    "outputId": "a1415057-f643-4c20-b8e8-33252c85d7db"
   },
   "outputs": [
    {
     "name": "stdout",
     "output_type": "stream",
     "text": [
      "Requirement already satisfied: syft in c:\\users\\tklinkenberg\\.conda\\envs\\cs490\\lib\\site-packages (0.1.19a1)\n",
      "Requirement already satisfied: torch>=1.1 in c:\\users\\tklinkenberg\\.conda\\envs\\cs490\\lib\\site-packages (from syft) (1.1.0)\n",
      "Requirement already satisfied: msgpack>=0.6.1 in c:\\users\\tklinkenberg\\.conda\\envs\\cs490\\lib\\site-packages (from syft) (0.6.1)\n",
      "Requirement already satisfied: websocket-client>=0.56.0 in c:\\users\\tklinkenberg\\.conda\\envs\\cs490\\lib\\site-packages (from syft) (0.56.0)\n",
      "Requirement already satisfied: Flask>=1.0.2 in c:\\users\\tklinkenberg\\.conda\\envs\\cs490\\lib\\site-packages (from syft) (1.0.3)\n",
      "Requirement already satisfied: scikit-learn>=0.21.0 in c:\\users\\tklinkenberg\\.conda\\envs\\cs490\\lib\\site-packages (from syft) (0.21.2)\n",
      "Requirement already satisfied: torchvision>=0.3.0 in c:\\users\\tklinkenberg\\.conda\\envs\\cs490\\lib\\site-packages (from syft) (0.3.0)\n",
      "Requirement already satisfied: flask-socketio>=3.3.2 in c:\\users\\tklinkenberg\\.conda\\envs\\cs490\\lib\\site-packages (from syft) (4.1.0)\n",
      "Requirement already satisfied: lz4>=2.1.6 in c:\\users\\tklinkenberg\\.conda\\envs\\cs490\\lib\\site-packages (from syft) (2.1.10)\n",
      "Requirement already satisfied: tblib>=1.4.0 in c:\\users\\tklinkenberg\\.conda\\envs\\cs490\\lib\\site-packages (from syft) (1.4.0)\n",
      "Requirement already satisfied: numpy>=1.14.0 in c:\\users\\tklinkenberg\\.conda\\envs\\cs490\\lib\\site-packages (from syft) (1.16.4)\n",
      "Requirement already satisfied: zstd>=1.4.0.0 in c:\\users\\tklinkenberg\\.conda\\envs\\cs490\\lib\\site-packages (from syft) (1.4.0.0)\n",
      "Requirement already satisfied: tf-encrypted>=0.5.4 in c:\\users\\tklinkenberg\\.conda\\envs\\cs490\\lib\\site-packages (from syft) (0.5.5)\n",
      "Requirement already satisfied: websockets>=7.0 in c:\\users\\tklinkenberg\\.conda\\envs\\cs490\\lib\\site-packages (from syft) (7.0)\n",
      "Requirement already satisfied: six in c:\\users\\tklinkenberg\\appdata\\roaming\\python\\python37\\site-packages (from websocket-client>=0.56.0->syft) (1.12.0)\n",
      "Requirement already satisfied: Jinja2>=2.10 in c:\\users\\tklinkenberg\\.conda\\envs\\cs490\\lib\\site-packages (from Flask>=1.0.2->syft) (2.10.1)\n",
      "Requirement already satisfied: click>=5.1 in c:\\users\\tklinkenberg\\.conda\\envs\\cs490\\lib\\site-packages (from Flask>=1.0.2->syft) (7.0)\n",
      "Requirement already satisfied: Werkzeug>=0.14 in c:\\users\\tklinkenberg\\.conda\\envs\\cs490\\lib\\site-packages (from Flask>=1.0.2->syft) (0.15.4)\n",
      "Requirement already satisfied: itsdangerous>=0.24 in c:\\users\\tklinkenberg\\.conda\\envs\\cs490\\lib\\site-packages (from Flask>=1.0.2->syft) (1.1.0)\n",
      "Requirement already satisfied: scipy>=0.17.0 in c:\\users\\tklinkenberg\\.conda\\envs\\cs490\\lib\\site-packages (from scikit-learn>=0.21.0->syft) (1.3.0)\n",
      "Requirement already satisfied: joblib>=0.11 in c:\\users\\tklinkenberg\\.conda\\envs\\cs490\\lib\\site-packages (from scikit-learn>=0.21.0->syft) (0.13.2)\n",
      "Requirement already satisfied: pillow>=4.1.1 in c:\\users\\tklinkenberg\\.conda\\envs\\cs490\\lib\\site-packages (from torchvision>=0.3.0->syft) (6.0.0)\n",
      "Requirement already satisfied: python-socketio>=2.1.0 in c:\\users\\tklinkenberg\\.conda\\envs\\cs490\\lib\\site-packages (from flask-socketio>=3.3.2->syft) (4.1.0)\n",
      "Requirement already satisfied: tensorflow<2,>=1.12.0 in c:\\users\\tklinkenberg\\.conda\\envs\\cs490\\lib\\site-packages (from tf-encrypted>=0.5.4->syft) (1.14.0)\n",
      "Requirement already satisfied: pyyaml>=5.1 in c:\\users\\tklinkenberg\\.conda\\envs\\cs490\\lib\\site-packages (from tf-encrypted>=0.5.4->syft) (5.1.1)\n",
      "Requirement already satisfied: MarkupSafe>=0.23 in c:\\users\\tklinkenberg\\.conda\\envs\\cs490\\lib\\site-packages (from Jinja2>=2.10->Flask>=1.0.2->syft) (1.1.1)\n",
      "Requirement already satisfied: python-engineio>=3.8.0 in c:\\users\\tklinkenberg\\.conda\\envs\\cs490\\lib\\site-packages (from python-socketio>=2.1.0->flask-socketio>=3.3.2->syft) (3.8.1)\n",
      "Requirement already satisfied: grpcio>=1.8.6 in c:\\users\\tklinkenberg\\.conda\\envs\\cs490\\lib\\site-packages (from tensorflow<2,>=1.12.0->tf-encrypted>=0.5.4->syft) (1.21.1)\n",
      "Requirement already satisfied: tensorflow-estimator<1.15.0rc0,>=1.14.0rc0 in c:\\users\\tklinkenberg\\.conda\\envs\\cs490\\lib\\site-packages (from tensorflow<2,>=1.12.0->tf-encrypted>=0.5.4->syft) (1.14.0)\n",
      "Requirement already satisfied: wrapt>=1.11.1 in c:\\users\\tklinkenberg\\appdata\\roaming\\python\\python37\\site-packages (from tensorflow<2,>=1.12.0->tf-encrypted>=0.5.4->syft) (1.11.1)\n",
      "Requirement already satisfied: wheel>=0.26 in c:\\users\\tklinkenberg\\.conda\\envs\\cs490\\lib\\site-packages (from tensorflow<2,>=1.12.0->tf-encrypted>=0.5.4->syft) (0.33.4)\n",
      "Requirement already satisfied: absl-py>=0.7.0 in c:\\users\\tklinkenberg\\.conda\\envs\\cs490\\lib\\site-packages (from tensorflow<2,>=1.12.0->tf-encrypted>=0.5.4->syft) (0.7.1)\n",
      "Requirement already satisfied: keras-applications>=1.0.6 in c:\\users\\tklinkenberg\\.conda\\envs\\cs490\\lib\\site-packages (from tensorflow<2,>=1.12.0->tf-encrypted>=0.5.4->syft) (1.0.8)\n",
      "Requirement already satisfied: keras-preprocessing>=1.0.5 in c:\\users\\tklinkenberg\\.conda\\envs\\cs490\\lib\\site-packages (from tensorflow<2,>=1.12.0->tf-encrypted>=0.5.4->syft) (1.1.0)\n",
      "Requirement already satisfied: termcolor>=1.1.0 in c:\\users\\tklinkenberg\\.conda\\envs\\cs490\\lib\\site-packages (from tensorflow<2,>=1.12.0->tf-encrypted>=0.5.4->syft) (1.1.0)\n",
      "Requirement already satisfied: astor>=0.6.0 in c:\\users\\tklinkenberg\\.conda\\envs\\cs490\\lib\\site-packages (from tensorflow<2,>=1.12.0->tf-encrypted>=0.5.4->syft) (0.8.0)\n",
      "Requirement already satisfied: google-pasta>=0.1.6 in c:\\users\\tklinkenberg\\.conda\\envs\\cs490\\lib\\site-packages (from tensorflow<2,>=1.12.0->tf-encrypted>=0.5.4->syft) (0.1.7)\n",
      "Requirement already satisfied: tensorboard<1.15.0,>=1.14.0 in c:\\users\\tklinkenberg\\.conda\\envs\\cs490\\lib\\site-packages (from tensorflow<2,>=1.12.0->tf-encrypted>=0.5.4->syft) (1.14.0)\n",
      "Requirement already satisfied: gast>=0.2.0 in c:\\users\\tklinkenberg\\.conda\\envs\\cs490\\lib\\site-packages (from tensorflow<2,>=1.12.0->tf-encrypted>=0.5.4->syft) (0.2.2)\n",
      "Requirement already satisfied: protobuf>=3.6.1 in c:\\users\\tklinkenberg\\.conda\\envs\\cs490\\lib\\site-packages (from tensorflow<2,>=1.12.0->tf-encrypted>=0.5.4->syft) (3.8.0)\n",
      "Requirement already satisfied: h5py in c:\\users\\tklinkenberg\\.conda\\envs\\cs490\\lib\\site-packages (from keras-applications>=1.0.6->tensorflow<2,>=1.12.0->tf-encrypted>=0.5.4->syft) (2.9.0)\n",
      "Requirement already satisfied: markdown>=2.6.8 in c:\\users\\tklinkenberg\\.conda\\envs\\cs490\\lib\\site-packages (from tensorboard<1.15.0,>=1.14.0->tensorflow<2,>=1.12.0->tf-encrypted>=0.5.4->syft) (3.1.1)\n",
      "Requirement already satisfied: setuptools>=41.0.0 in c:\\users\\tklinkenberg\\.conda\\envs\\cs490\\lib\\site-packages (from tensorboard<1.15.0,>=1.14.0->tensorflow<2,>=1.12.0->tf-encrypted>=0.5.4->syft) (41.0.1)\n",
      "Requirement already satisfied: numpy in c:\\users\\tklinkenberg\\.conda\\envs\\cs490\\lib\\site-packages (1.16.4)\n"
     ]
    }
   ],
   "source": [
    "!pip install syft\n",
    "!pip install numpy"
   ]
  },
  {
   "cell_type": "code",
   "execution_count": 2,
   "metadata": {
    "colab": {},
    "colab_type": "code",
    "id": "t3jr76fm32Xj"
   },
   "outputs": [],
   "source": [
    "import torch as th"
   ]
  },
  {
   "cell_type": "code",
   "execution_count": 3,
   "metadata": {
    "colab": {
     "base_uri": "https://localhost:8080/",
     "height": 35
    },
    "colab_type": "code",
    "executionInfo": {
     "elapsed": 248,
     "status": "ok",
     "timestamp": 1561487319155,
     "user": {
      "displayName": "Gharib Gharibi",
      "photoUrl": "https://lh3.googleusercontent.com/-jKnQDkmhZKk/AAAAAAAAAAI/AAAAAAAAAPw/6ddzRde_d0Q/s64/photo.jpg",
      "userId": "12269101840630561007"
     },
     "user_tz": 300
    },
    "id": "qJ-_2_eW32Xl",
    "outputId": "b72cd4a0-3a54-46cc-9dab-b467add0fd74"
   },
   "outputs": [
    {
     "data": {
      "text/plain": [
       "tensor([1, 2, 3, 4, 5])"
      ]
     },
     "execution_count": 3,
     "metadata": {},
     "output_type": "execute_result"
    }
   ],
   "source": [
    "x = th.tensor([1,2,3,4,5])\n",
    "x"
   ]
  },
  {
   "cell_type": "code",
   "execution_count": 4,
   "metadata": {
    "colab": {},
    "colab_type": "code",
    "id": "6kSi4CON32Xp"
   },
   "outputs": [],
   "source": [
    "y = x + x"
   ]
  },
  {
   "cell_type": "code",
   "execution_count": 5,
   "metadata": {
    "colab": {
     "base_uri": "https://localhost:8080/",
     "height": 35
    },
    "colab_type": "code",
    "executionInfo": {
     "elapsed": 236,
     "status": "ok",
     "timestamp": 1561487321515,
     "user": {
      "displayName": "Gharib Gharibi",
      "photoUrl": "https://lh3.googleusercontent.com/-jKnQDkmhZKk/AAAAAAAAAAI/AAAAAAAAAPw/6ddzRde_d0Q/s64/photo.jpg",
      "userId": "12269101840630561007"
     },
     "user_tz": 300
    },
    "id": "YuDIObfn32Xr",
    "outputId": "d48e0905-2ac3-4a3e-a530-0e99fed04971"
   },
   "outputs": [
    {
     "name": "stdout",
     "output_type": "stream",
     "text": [
      "tensor([ 2,  4,  6,  8, 10])\n"
     ]
    }
   ],
   "source": [
    "print(y)"
   ]
  },
  {
   "cell_type": "code",
   "execution_count": null,
   "metadata": {
    "colab": {},
    "colab_type": "code",
    "id": "rZaFMR4w32Xu"
   },
   "outputs": [],
   "source": []
  },
  {
   "cell_type": "code",
   "execution_count": 6,
   "metadata": {
    "colab": {
     "base_uri": "https://localhost:8080/",
     "height": 107
    },
    "colab_type": "code",
    "executionInfo": {
     "elapsed": 1769,
     "status": "ok",
     "timestamp": 1561487326902,
     "user": {
      "displayName": "Gharib Gharibi",
      "photoUrl": "https://lh3.googleusercontent.com/-jKnQDkmhZKk/AAAAAAAAAAI/AAAAAAAAAPw/6ddzRde_d0Q/s64/photo.jpg",
      "userId": "12269101840630561007"
     },
     "user_tz": 300
    },
    "id": "9A5BIqZw32Xw",
    "outputId": "cbfc6c2f-5fc9-4374-bdb5-c588e75b6843"
   },
   "outputs": [
    {
     "name": "stderr",
     "output_type": "stream",
     "text": [
      "WARNING: Logging before flag parsing goes to stderr.\n",
      "W0702 17:31:54.134774  4928 secure_random.py:22] Falling back to insecure randomness since the required custom op could not be found for the installed version of TensorFlow (1.14.0). Fix this by compiling custom ops.\n",
      "W0702 17:31:54.282771  4928 deprecation_wrapper.py:119] From C:\\Users\\tklinkenberg\\.conda\\envs\\CS490\\lib\\site-packages\\tf_encrypted\\session.py:28: The name tf.Session is deprecated. Please use tf.compat.v1.Session instead.\n",
      "\n"
     ]
    }
   ],
   "source": [
    "import syft as sy"
   ]
  },
  {
   "cell_type": "code",
   "execution_count": 7,
   "metadata": {
    "colab": {},
    "colab_type": "code",
    "id": "9a_2v97e32Xy"
   },
   "outputs": [],
   "source": [
    "hook = sy.TorchHook(th)  # this line of code create an instance of th with its backend APIs modified with Syft functions"
   ]
  },
  {
   "cell_type": "code",
   "execution_count": 8,
   "metadata": {
    "colab": {
     "base_uri": "https://localhost:8080/",
     "height": 35
    },
    "colab_type": "code",
    "executionInfo": {
     "elapsed": 221,
     "status": "ok",
     "timestamp": 1561487337755,
     "user": {
      "displayName": "Gharib Gharibi",
      "photoUrl": "https://lh3.googleusercontent.com/-jKnQDkmhZKk/AAAAAAAAAAI/AAAAAAAAAPw/6ddzRde_d0Q/s64/photo.jpg",
      "userId": "12269101840630561007"
     },
     "user_tz": 300
    },
    "id": "CozZ9Mj632X0",
    "outputId": "afbdc877-6557-4e56-d129-e4196f35221e"
   },
   "outputs": [
    {
     "data": {
      "text/plain": [
       "tensor([1, 2, 3, 4, 5])"
      ]
     },
     "execution_count": 8,
     "metadata": {},
     "output_type": "execute_result"
    }
   ],
   "source": [
    "th.tensor([1,2,3,4,5]) # notice that Torch functionalities still behave the same"
   ]
  },
  {
   "cell_type": "markdown",
   "metadata": {
    "colab_type": "text",
    "id": "HwDBOzBy32X2"
   },
   "source": [
    "# Lesson: Basic Remote Execution in PySyft"
   ]
  },
  {
   "cell_type": "markdown",
   "metadata": {
    "colab_type": "text",
    "id": "DGTgQk0i32X3"
   },
   "source": [
    "## PySyft => Remote PyTorch\n",
    "\n",
    "The essence of Federated Learning is the ability to train models in parallel on a wide number of machines. Thus, we need the ability to tell remote machines to execute the operations required for Deep Learning.\n",
    "\n",
    "Thus, instead of using Torch tensors - we're now going to work with **pointers** to tensors. Let me show you what I mean. First, let's create a \"pretend\" machine owned by a \"pretend\" person - we'll call him Bob."
   ]
  },
  {
   "cell_type": "code",
   "execution_count": 0,
   "metadata": {
    "colab": {},
    "colab_type": "code",
    "id": "TezugsTT32X3"
   },
   "outputs": [],
   "source": [
    "bob = sy.VirtualWorker(hook, id=\"bob\") # creates a virtual worker (a simulaion to interface to Bob machines)"
   ]
  },
  {
   "cell_type": "code",
   "execution_count": 0,
   "metadata": {
    "colab": {
     "base_uri": "https://localhost:8080/",
     "height": 35
    },
    "colab_type": "code",
    "executionInfo": {
     "elapsed": 239,
     "status": "ok",
     "timestamp": 1561488899607,
     "user": {
      "displayName": "Gharib Gharibi",
      "photoUrl": "https://lh3.googleusercontent.com/-jKnQDkmhZKk/AAAAAAAAAAI/AAAAAAAAAPw/6ddzRde_d0Q/s64/photo.jpg",
      "userId": "12269101840630561007"
     },
     "user_tz": 300
    },
    "id": "77ZEXLOl32X6",
    "outputId": "0ae990b5-0c1f-4b85-a7db-f1ee4169e8f1"
   },
   "outputs": [
    {
     "data": {
      "text/plain": [
       "{}"
      ]
     },
     "execution_count": 26,
     "metadata": {
      "tags": []
     },
     "output_type": "execute_result"
    }
   ],
   "source": [
    "bob._objects"
   ]
  },
  {
   "cell_type": "code",
   "execution_count": 0,
   "metadata": {
    "colab": {},
    "colab_type": "code",
    "id": "TYc5SkkG32X8"
   },
   "outputs": [],
   "source": [
    "x = th.tensor([1,2,3,4,5])"
   ]
  },
  {
   "cell_type": "code",
   "execution_count": 0,
   "metadata": {
    "colab": {},
    "colab_type": "code",
    "id": "IVSSHFOH32X-"
   },
   "outputs": [],
   "source": [
    "x_ptr =  x.send(bob) # send this data to bob"
   ]
  },
  {
   "cell_type": "code",
   "execution_count": 0,
   "metadata": {
    "colab": {
     "base_uri": "https://localhost:8080/",
     "height": 35
    },
    "colab_type": "code",
    "executionInfo": {
     "elapsed": 244,
     "status": "ok",
     "timestamp": 1561488902254,
     "user": {
      "displayName": "Gharib Gharibi",
      "photoUrl": "https://lh3.googleusercontent.com/-jKnQDkmhZKk/AAAAAAAAAAI/AAAAAAAAAPw/6ddzRde_d0Q/s64/photo.jpg",
      "userId": "12269101840630561007"
     },
     "user_tz": 300
    },
    "id": "Q7Wk9et232YA",
    "outputId": "821ef15d-41c5-404d-e8df-c773e7d2cbcd"
   },
   "outputs": [
    {
     "data": {
      "text/plain": [
       "{66334714076: tensor([1, 2, 3, 4, 5])}"
      ]
     },
     "execution_count": 29,
     "metadata": {
      "tags": []
     },
     "output_type": "execute_result"
    }
   ],
   "source": [
    "bob._objects"
   ]
  },
  {
   "cell_type": "code",
   "execution_count": 0,
   "metadata": {
    "colab": {
     "base_uri": "https://localhost:8080/",
     "height": 35
    },
    "colab_type": "code",
    "executionInfo": {
     "elapsed": 231,
     "status": "ok",
     "timestamp": 1561488903646,
     "user": {
      "displayName": "Gharib Gharibi",
      "photoUrl": "https://lh3.googleusercontent.com/-jKnQDkmhZKk/AAAAAAAAAAI/AAAAAAAAAPw/6ddzRde_d0Q/s64/photo.jpg",
      "userId": "12269101840630561007"
     },
     "user_tz": 300
    },
    "id": "yTdp7vMm-D8N",
    "outputId": "ba628308-5cbc-468f-c5ab-278e1089c0f1"
   },
   "outputs": [
    {
     "data": {
      "text/plain": [
       "(Wrapper)>[PointerTensor | me:48348495859 -> bob:66334714076]"
      ]
     },
     "execution_count": 30,
     "metadata": {
      "tags": []
     },
     "output_type": "execute_result"
    }
   ],
   "source": [
    "x_ptr"
   ]
  },
  {
   "cell_type": "code",
   "execution_count": 0,
   "metadata": {
    "colab": {
     "base_uri": "https://localhost:8080/",
     "height": 35
    },
    "colab_type": "code",
    "executionInfo": {
     "elapsed": 222,
     "status": "ok",
     "timestamp": 1561488904844,
     "user": {
      "displayName": "Gharib Gharibi",
      "photoUrl": "https://lh3.googleusercontent.com/-jKnQDkmhZKk/AAAAAAAAAAI/AAAAAAAAAPw/6ddzRde_d0Q/s64/photo.jpg",
      "userId": "12269101840630561007"
     },
     "user_tz": 300
    },
    "id": "SBUZMRzj32YE",
    "outputId": "c9b79cbf-9340-49b8-a008-2e7dce075a24"
   },
   "outputs": [
    {
     "data": {
      "text/plain": [
       "<VirtualWorker id:bob #objects:1>"
      ]
     },
     "execution_count": 31,
     "metadata": {
      "tags": []
     },
     "output_type": "execute_result"
    }
   ],
   "source": [
    "x.location"
   ]
  },
  {
   "cell_type": "code",
   "execution_count": 0,
   "metadata": {
    "colab": {
     "base_uri": "https://localhost:8080/",
     "height": 35
    },
    "colab_type": "code",
    "executionInfo": {
     "elapsed": 298,
     "status": "ok",
     "timestamp": 1561488906267,
     "user": {
      "displayName": "Gharib Gharibi",
      "photoUrl": "https://lh3.googleusercontent.com/-jKnQDkmhZKk/AAAAAAAAAAI/AAAAAAAAAPw/6ddzRde_d0Q/s64/photo.jpg",
      "userId": "12269101840630561007"
     },
     "user_tz": 300
    },
    "id": "OFs_K6DI32YH",
    "outputId": "cad99e8b-a706-464f-bfd7-684cc4b74bc4"
   },
   "outputs": [
    {
     "data": {
      "text/plain": [
       "66334714076"
      ]
     },
     "execution_count": 32,
     "metadata": {
      "tags": []
     },
     "output_type": "execute_result"
    }
   ],
   "source": [
    "x.id_at_location"
   ]
  },
  {
   "cell_type": "code",
   "execution_count": 0,
   "metadata": {
    "colab": {
     "base_uri": "https://localhost:8080/",
     "height": 35
    },
    "colab_type": "code",
    "executionInfo": {
     "elapsed": 223,
     "status": "ok",
     "timestamp": 1561488909086,
     "user": {
      "displayName": "Gharib Gharibi",
      "photoUrl": "https://lh3.googleusercontent.com/-jKnQDkmhZKk/AAAAAAAAAAI/AAAAAAAAAPw/6ddzRde_d0Q/s64/photo.jpg",
      "userId": "12269101840630561007"
     },
     "user_tz": 300
    },
    "id": "wYGCdfHl32YK",
    "outputId": "acdd9587-06af-4263-bb04-5140d0e2a5f3"
   },
   "outputs": [
    {
     "data": {
      "text/plain": [
       "48348495859"
      ]
     },
     "execution_count": 33,
     "metadata": {
      "tags": []
     },
     "output_type": "execute_result"
    }
   ],
   "source": [
    "x.id"
   ]
  },
  {
   "cell_type": "code",
   "execution_count": 0,
   "metadata": {
    "colab": {
     "base_uri": "https://localhost:8080/",
     "height": 35
    },
    "colab_type": "code",
    "executionInfo": {
     "elapsed": 213,
     "status": "ok",
     "timestamp": 1561488910340,
     "user": {
      "displayName": "Gharib Gharibi",
      "photoUrl": "https://lh3.googleusercontent.com/-jKnQDkmhZKk/AAAAAAAAAAI/AAAAAAAAAPw/6ddzRde_d0Q/s64/photo.jpg",
      "userId": "12269101840630561007"
     },
     "user_tz": 300
    },
    "id": "hAWXoiSy32YO",
    "outputId": "e5824b20-0bd4-43bf-eb65-860869854d47"
   },
   "outputs": [
    {
     "data": {
      "text/plain": [
       "<VirtualWorker id:me #objects:0>"
      ]
     },
     "execution_count": 34,
     "metadata": {
      "tags": []
     },
     "output_type": "execute_result"
    }
   ],
   "source": [
    "x.owner"
   ]
  },
  {
   "cell_type": "code",
   "execution_count": 0,
   "metadata": {
    "colab": {
     "base_uri": "https://localhost:8080/",
     "height": 35
    },
    "colab_type": "code",
    "executionInfo": {
     "elapsed": 277,
     "status": "ok",
     "timestamp": 1561488911990,
     "user": {
      "displayName": "Gharib Gharibi",
      "photoUrl": "https://lh3.googleusercontent.com/-jKnQDkmhZKk/AAAAAAAAAAI/AAAAAAAAAPw/6ddzRde_d0Q/s64/photo.jpg",
      "userId": "12269101840630561007"
     },
     "user_tz": 300
    },
    "id": "8LSRsI4o32YS",
    "outputId": "ae2766cb-b040-4bbe-a536-2772ae1f798f"
   },
   "outputs": [
    {
     "data": {
      "text/plain": [
       "<VirtualWorker id:me #objects:0>"
      ]
     },
     "execution_count": 35,
     "metadata": {
      "tags": []
     },
     "output_type": "execute_result"
    }
   ],
   "source": [
    "hook.local_worker"
   ]
  },
  {
   "cell_type": "code",
   "execution_count": 0,
   "metadata": {
    "colab": {
     "base_uri": "https://localhost:8080/",
     "height": 35
    },
    "colab_type": "code",
    "executionInfo": {
     "elapsed": 217,
     "status": "ok",
     "timestamp": 1561488913296,
     "user": {
      "displayName": "Gharib Gharibi",
      "photoUrl": "https://lh3.googleusercontent.com/-jKnQDkmhZKk/AAAAAAAAAAI/AAAAAAAAAPw/6ddzRde_d0Q/s64/photo.jpg",
      "userId": "12269101840630561007"
     },
     "user_tz": 300
    },
    "id": "rSxjnCHz32Yb",
    "outputId": "fec02f50-8312-4481-d384-139e2cc8caf3"
   },
   "outputs": [
    {
     "data": {
      "text/plain": [
       "tensor([1, 2, 3, 4, 5])"
      ]
     },
     "execution_count": 36,
     "metadata": {
      "tags": []
     },
     "output_type": "execute_result"
    }
   ],
   "source": [
    "x = x.get()\n",
    "x"
   ]
  },
  {
   "cell_type": "code",
   "execution_count": 0,
   "metadata": {
    "colab": {
     "base_uri": "https://localhost:8080/",
     "height": 35
    },
    "colab_type": "code",
    "executionInfo": {
     "elapsed": 224,
     "status": "ok",
     "timestamp": 1561488915735,
     "user": {
      "displayName": "Gharib Gharibi",
      "photoUrl": "https://lh3.googleusercontent.com/-jKnQDkmhZKk/AAAAAAAAAAI/AAAAAAAAAPw/6ddzRde_d0Q/s64/photo.jpg",
      "userId": "12269101840630561007"
     },
     "user_tz": 300
    },
    "id": "6pIvIRIU32Yg",
    "outputId": "4498aca4-2efe-45a2-d284-8272977d3007"
   },
   "outputs": [
    {
     "data": {
      "text/plain": [
       "{}"
      ]
     },
     "execution_count": 37,
     "metadata": {
      "tags": []
     },
     "output_type": "execute_result"
    }
   ],
   "source": [
    "bob._objects"
   ]
  },
  {
   "cell_type": "markdown",
   "metadata": {
    "colab_type": "text",
    "id": "hFCf4uBL32Yj"
   },
   "source": [
    "# Project: Experience with Remote Tensors\n",
    "\n",
    "In this project, I want you to .send() and .get() a tensor to TWO workers by calling .send(bob,alice). This will first require the creation of another VirtualWorker called alice."
   ]
  },
  {
   "cell_type": "code",
   "execution_count": 0,
   "metadata": {
    "colab": {},
    "colab_type": "code",
    "id": "TOj8r1EH32Yj"
   },
   "outputs": [],
   "source": [
    "# create a second Virtual worker and call it Alice\n"
   ]
  },
  {
   "cell_type": "code",
   "execution_count": 0,
   "metadata": {
    "colab": {},
    "colab_type": "code",
    "id": "UGCBcN5432Yk"
   },
   "outputs": [],
   "source": [
    "# 1 - create some data (a tensor)\n",
    "# 2- send the data to bob and alice\n"
   ]
  },
  {
   "cell_type": "code",
   "execution_count": 0,
   "metadata": {
    "colab": {},
    "colab_type": "code",
    "id": "5tMKnVk8BePJ"
   },
   "outputs": [],
   "source": [
    "# notice what does the send fucntion on two workers return; a multi-pointer\n",
    "x_ptr"
   ]
  },
  {
   "cell_type": "code",
   "execution_count": 0,
   "metadata": {
    "colab": {},
    "colab_type": "code",
    "id": "fCG8tejY32Ym"
   },
   "outputs": [],
   "source": [
    "# what does .child on the pointer object return?\n",
    "# what does .child.child on the pointer object return? "
   ]
  },
  {
   "cell_type": "code",
   "execution_count": 0,
   "metadata": {
    "colab": {},
    "colab_type": "code",
    "id": "1opwMKn032Yn"
   },
   "outputs": [],
   "source": [
    "# try the .get() on the pointer\n"
   ]
  },
  {
   "cell_type": "code",
   "execution_count": 0,
   "metadata": {
    "colab": {},
    "colab_type": "code",
    "id": "q7WoeOC332Yp"
   },
   "outputs": [],
   "source": [
    "# try the .get(sum_results=True) on your pointer\n"
   ]
  },
  {
   "cell_type": "code",
   "execution_count": 0,
   "metadata": {
    "colab": {},
    "colab_type": "code",
    "id": "s-PyPehJ32Yr"
   },
   "outputs": [],
   "source": []
  },
  {
   "cell_type": "markdown",
   "metadata": {
    "colab_type": "text",
    "id": "AC4sZVU432Yx"
   },
   "source": [
    "# Lesson: Introducing Remote Arithmetic"
   ]
  },
  {
   "cell_type": "code",
   "execution_count": 0,
   "metadata": {
    "colab": {},
    "colab_type": "code",
    "id": "72uTD_9N32Yy"
   },
   "outputs": [],
   "source": [
    "x = th.tensor([1,2,3,4,5]).send(bob)\n",
    "y = th.tensor([1,1,1,1,1]).send(bob)"
   ]
  },
  {
   "cell_type": "code",
   "execution_count": 0,
   "metadata": {
    "colab": {
     "base_uri": "https://localhost:8080/",
     "height": 35
    },
    "colab_type": "code",
    "executionInfo": {
     "elapsed": 249,
     "status": "ok",
     "timestamp": 1561489816861,
     "user": {
      "displayName": "Gharib Gharibi",
      "photoUrl": "https://lh3.googleusercontent.com/-jKnQDkmhZKk/AAAAAAAAAAI/AAAAAAAAAPw/6ddzRde_d0Q/s64/photo.jpg",
      "userId": "12269101840630561007"
     },
     "user_tz": 300
    },
    "id": "uC3ZI3oC32Yz",
    "outputId": "8aa12135-ddf7-4781-b06b-ec51b24bfcc7"
   },
   "outputs": [
    {
     "data": {
      "text/plain": [
       "(Wrapper)>[PointerTensor | me:96502616908 -> bob:83999397113]"
      ]
     },
     "execution_count": 54,
     "metadata": {
      "tags": []
     },
     "output_type": "execute_result"
    }
   ],
   "source": [
    "x # a pointer to a remote tensor located at bob"
   ]
  },
  {
   "cell_type": "code",
   "execution_count": 0,
   "metadata": {
    "colab": {
     "base_uri": "https://localhost:8080/",
     "height": 35
    },
    "colab_type": "code",
    "executionInfo": {
     "elapsed": 224,
     "status": "ok",
     "timestamp": 1561489817745,
     "user": {
      "displayName": "Gharib Gharibi",
      "photoUrl": "https://lh3.googleusercontent.com/-jKnQDkmhZKk/AAAAAAAAAAI/AAAAAAAAAPw/6ddzRde_d0Q/s64/photo.jpg",
      "userId": "12269101840630561007"
     },
     "user_tz": 300
    },
    "id": "xwnAMDNF32Y1",
    "outputId": "0a230d18-03d3-4a95-dd32-98cf9082d7ea"
   },
   "outputs": [
    {
     "data": {
      "text/plain": [
       "(Wrapper)>[PointerTensor | me:35900922850 -> bob:59092289169]"
      ]
     },
     "execution_count": 55,
     "metadata": {
      "tags": []
     },
     "output_type": "execute_result"
    }
   ],
   "source": [
    "y # a pointer to another remote tensor located at bob"
   ]
  },
  {
   "cell_type": "code",
   "execution_count": 0,
   "metadata": {
    "colab": {
     "base_uri": "https://localhost:8080/",
     "height": 35
    },
    "colab_type": "code",
    "executionInfo": {
     "elapsed": 224,
     "status": "ok",
     "timestamp": 1561489818711,
     "user": {
      "displayName": "Gharib Gharibi",
      "photoUrl": "https://lh3.googleusercontent.com/-jKnQDkmhZKk/AAAAAAAAAAI/AAAAAAAAAPw/6ddzRde_d0Q/s64/photo.jpg",
      "userId": "12269101840630561007"
     },
     "user_tz": 300
    },
    "id": "2Wfd_mMm32Y3",
    "outputId": "e074cabf-bd62-4cb9-9cdc-a1e92dd82003"
   },
   "outputs": [
    {
     "data": {
      "text/plain": [
       "(Wrapper)>[PointerTensor | me:12996980457 -> bob:54222168809]"
      ]
     },
     "execution_count": 56,
     "metadata": {
      "tags": []
     },
     "output_type": "execute_result"
    }
   ],
   "source": [
    "z = x + y # treat those tensors (i.e., x and y) as local tensors, but they are actually executed remotely\n",
    "z"
   ]
  },
  {
   "cell_type": "code",
   "execution_count": 0,
   "metadata": {
    "colab": {},
    "colab_type": "code",
    "id": "0obq72QX32Y6",
    "outputId": "f8b2025d-8d19-4bc8-a793-25b4306f7841"
   },
   "outputs": [
    {
     "data": {
      "text/plain": [
       "tensor([2, 3, 4, 5, 6])"
      ]
     },
     "execution_count": 32,
     "metadata": {
      "tags": []
     },
     "output_type": "execute_result"
    }
   ],
   "source": [
    "z = z.get()\n",
    "z"
   ]
  },
  {
   "cell_type": "code",
   "execution_count": 0,
   "metadata": {
    "colab": {},
    "colab_type": "code",
    "id": "B95iREcX32Y8",
    "outputId": "1d2fae30-dcc1-4b62-b18b-e6ba788f0f2a"
   },
   "outputs": [
    {
     "data": {
      "text/plain": [
       "(Wrapper)>[PointerTensor | me:28437210120 -> bob:28437210120]"
      ]
     },
     "execution_count": 33,
     "metadata": {
      "tags": []
     },
     "output_type": "execute_result"
    }
   ],
   "source": [
    "z = th.add(x,y) # we can also use Torch operation on these tensors to be executed remotely\n",
    "z"
   ]
  },
  {
   "cell_type": "code",
   "execution_count": 0,
   "metadata": {
    "colab": {},
    "colab_type": "code",
    "id": "VYNMaNfW32Y9",
    "outputId": "65bd2878-54b5-4cfe-ba55-95424e73c36c"
   },
   "outputs": [
    {
     "data": {
      "text/plain": [
       "tensor([2, 3, 4, 5, 6])"
      ]
     },
     "execution_count": 34,
     "metadata": {
      "tags": []
     },
     "output_type": "execute_result"
    }
   ],
   "source": [
    "z = z.get() # yup! same results!\n",
    "z"
   ]
  },
  {
   "cell_type": "code",
   "execution_count": 0,
   "metadata": {
    "colab": {},
    "colab_type": "code",
    "id": "bP7LsIm732ZA"
   },
   "outputs": [],
   "source": [
    "x = th.tensor([1.,2,3,4,5], requires_grad=True).send(bob)\n",
    "y = th.tensor([1.,1,1,1,1], requires_grad=True).send(bob)"
   ]
  },
  {
   "cell_type": "code",
   "execution_count": 0,
   "metadata": {
    "colab": {
     "base_uri": "https://localhost:8080/",
     "height": 35
    },
    "colab_type": "code",
    "executionInfo": {
     "elapsed": 236,
     "status": "ok",
     "timestamp": 1561490137016,
     "user": {
      "displayName": "Gharib Gharibi",
      "photoUrl": "https://lh3.googleusercontent.com/-jKnQDkmhZKk/AAAAAAAAAAI/AAAAAAAAAPw/6ddzRde_d0Q/s64/photo.jpg",
      "userId": "12269101840630561007"
     },
     "user_tz": 300
    },
    "id": "gliLPnZf32ZB",
    "outputId": "aa34497c-419c-4cdd-da28-0ff7924f9dd9"
   },
   "outputs": [
    {
     "data": {
      "text/plain": [
       "tensor(20., requires_grad=True)"
      ]
     },
     "execution_count": 62,
     "metadata": {
      "tags": []
     },
     "output_type": "execute_result"
    }
   ],
   "source": [
    "z = (x + y).sum()\n",
    "z = z.get()\n",
    "z"
   ]
  },
  {
   "cell_type": "code",
   "execution_count": 0,
   "metadata": {
    "colab": {
     "base_uri": "https://localhost:8080/",
     "height": 35
    },
    "colab_type": "code",
    "executionInfo": {
     "elapsed": 231,
     "status": "ok",
     "timestamp": 1561490277932,
     "user": {
      "displayName": "Gharib Gharibi",
      "photoUrl": "https://lh3.googleusercontent.com/-jKnQDkmhZKk/AAAAAAAAAAI/AAAAAAAAAPw/6ddzRde_d0Q/s64/photo.jpg",
      "userId": "12269101840630561007"
     },
     "user_tz": 300
    },
    "id": "bz42j5Cg32ZF",
    "outputId": "d1e1848b-3444-47e3-e712-2bd0577f0818"
   },
   "outputs": [
    {
     "data": {
      "text/plain": [
       "tensor(20., requires_grad=True)"
      ]
     },
     "execution_count": 65,
     "metadata": {
      "tags": []
     },
     "output_type": "execute_result"
    }
   ],
   "source": [
    "z.backward() "
   ]
  },
  {
   "cell_type": "code",
   "execution_count": 0,
   "metadata": {
    "colab": {},
    "colab_type": "code",
    "id": "eZzANriK32ZJ"
   },
   "outputs": [],
   "source": [
    "x = x.get()"
   ]
  },
  {
   "cell_type": "code",
   "execution_count": 0,
   "metadata": {
    "colab": {
     "base_uri": "https://localhost:8080/",
     "height": 35
    },
    "colab_type": "code",
    "executionInfo": {
     "elapsed": 242,
     "status": "ok",
     "timestamp": 1561490370005,
     "user": {
      "displayName": "Gharib Gharibi",
      "photoUrl": "https://lh3.googleusercontent.com/-jKnQDkmhZKk/AAAAAAAAAAI/AAAAAAAAAPw/6ddzRde_d0Q/s64/photo.jpg",
      "userId": "12269101840630561007"
     },
     "user_tz": 300
    },
    "id": "dus-EeBC32ZL",
    "outputId": "58452062-6f32-4e32-c33d-726ec8c37c0b"
   },
   "outputs": [
    {
     "data": {
      "text/plain": [
       "tensor([1., 2., 3., 4., 5.], requires_grad=True)"
      ]
     },
     "execution_count": 67,
     "metadata": {
      "tags": []
     },
     "output_type": "execute_result"
    }
   ],
   "source": [
    "x"
   ]
  },
  {
   "cell_type": "code",
   "execution_count": 0,
   "metadata": {
    "colab": {
     "base_uri": "https://localhost:8080/",
     "height": 35
    },
    "colab_type": "code",
    "executionInfo": {
     "elapsed": 268,
     "status": "ok",
     "timestamp": 1561490381908,
     "user": {
      "displayName": "Gharib Gharibi",
      "photoUrl": "https://lh3.googleusercontent.com/-jKnQDkmhZKk/AAAAAAAAAAI/AAAAAAAAAPw/6ddzRde_d0Q/s64/photo.jpg",
      "userId": "12269101840630561007"
     },
     "user_tz": 300
    },
    "id": "yEGhtZTn32ZO",
    "outputId": "21e61310-83e9-4cc9-83fa-067e6a2864eb"
   },
   "outputs": [
    {
     "data": {
      "text/plain": [
       "tensor([1., 1., 1., 1., 1.])"
      ]
     },
     "execution_count": 68,
     "metadata": {
      "tags": []
     },
     "output_type": "execute_result"
    }
   ],
   "source": [
    "x.grad"
   ]
  },
  {
   "cell_type": "code",
   "execution_count": 0,
   "metadata": {
    "colab": {},
    "colab_type": "code",
    "id": "aI34DFoz32ZR"
   },
   "outputs": [],
   "source": []
  },
  {
   "cell_type": "markdown",
   "metadata": {
    "colab_type": "text",
    "id": "rIqBnp-632ZS"
   },
   "source": [
    "# Project: Learn a Simple Linear Model\n",
    "\n",
    "In this project, I'd like for you to create a simple linear model which will solve for the following dataset below. You should use only Variables and .backward() to do so (no optimizers or nn.Modules). \n",
    "\n",
    "Furthermore, you must do so with both the data and the model being located on Bob's machine."
   ]
  },
  {
   "cell_type": "code",
   "execution_count": 9,
   "metadata": {
    "colab": {
     "base_uri": "https://localhost:8080/",
     "height": 124
    },
    "colab_type": "code",
    "executionInfo": {
     "elapsed": 2753,
     "status": "ok",
     "timestamp": 1562090126102,
     "user": {
      "displayName": "Gharib Gharibi",
      "photoUrl": "https://lh3.googleusercontent.com/-jKnQDkmhZKk/AAAAAAAAAAI/AAAAAAAAAPw/6ddzRde_d0Q/s64/photo.jpg",
      "userId": "12269101840630561007"
     },
     "user_tz": 300
    },
    "id": "O9iqtcTavQ6P",
    "outputId": "9e25beb4-9965-479e-fff9-5056010eedff"
   },
   "outputs": [
    {
     "name": "stderr",
     "output_type": "stream",
     "text": [
      "W0702 17:32:31.042841  4928 hook.py:97] Torch was already hooked... skipping hooking process\n"
     ]
    },
    {
     "data": {
      "text/plain": [
       "<VirtualWorker id:bob #objects:0>"
      ]
     },
     "execution_count": 9,
     "metadata": {},
     "output_type": "execute_result"
    }
   ],
   "source": [
    "import torch as th\n",
    "import syft as sy\n",
    "\n",
    "hook = sy.TorchHook(th)  \n",
    "bob = sy.VirtualWorker(hook, id=\"bob\")\n",
    "\n",
    "bob"
   ]
  },
  {
   "cell_type": "code",
   "execution_count": 10,
   "metadata": {
    "colab": {},
    "colab_type": "code",
    "id": "8ZSg5hS932ZT"
   },
   "outputs": [],
   "source": [
    "# create some toy data for our model\n",
    "input_data = th.tensor([[1.,1],[0.5,1],[1,0],[0,0]], requires_grad=True).send(bob)\n",
    "output_data = th.tensor([[1.],[1],[0],[0]], requires_grad=True).send(bob)"
   ]
  },
  {
   "cell_type": "code",
   "execution_count": 11,
   "metadata": {
    "colab": {
     "base_uri": "https://localhost:8080/",
     "height": 35
    },
    "colab_type": "code",
    "executionInfo": {
     "elapsed": 240,
     "status": "ok",
     "timestamp": 1562088501220,
     "user": {
      "displayName": "Gharib Gharibi",
      "photoUrl": "https://lh3.googleusercontent.com/-jKnQDkmhZKk/AAAAAAAAAAI/AAAAAAAAAPw/6ddzRde_d0Q/s64/photo.jpg",
      "userId": "12269101840630561007"
     },
     "user_tz": 300
    },
    "id": "2ooUnUDw32ZU",
    "outputId": "29e794e6-acfd-46b3-f21b-dc69ed167a18"
   },
   "outputs": [],
   "source": [
    "# send the data to bob"
   ]
  },
  {
   "cell_type": "code",
   "execution_count": 12,
   "metadata": {
    "colab": {},
    "colab_type": "code",
    "id": "ZMufuzwa32ZX"
   },
   "outputs": [],
   "source": [
    "# create some linear weights and send them to bob\n",
    "weights = th.tensor([[0.01],[0.01]], requires_grad = True).send(bob)"
   ]
  },
  {
   "cell_type": "code",
   "execution_count": 13,
   "metadata": {
    "colab": {
     "base_uri": "https://localhost:8080/",
     "height": 35
    },
    "colab_type": "code",
    "executionInfo": {
     "elapsed": 255,
     "status": "ok",
     "timestamp": 1562089668197,
     "user": {
      "displayName": "Gharib Gharibi",
      "photoUrl": "https://lh3.googleusercontent.com/-jKnQDkmhZKk/AAAAAAAAAAI/AAAAAAAAAPw/6ddzRde_d0Q/s64/photo.jpg",
      "userId": "12269101840630561007"
     },
     "user_tz": 300
    },
    "id": "zFtaEncY32ZY",
    "outputId": "05c206d0-d297-4c9e-acc0-f9c8a908e430"
   },
   "outputs": [
    {
     "data": {
      "text/plain": [
       "(Wrapper)>[PointerTensor | me:73308057913 -> bob:80243898514]"
      ]
     },
     "execution_count": 13,
     "metadata": {},
     "output_type": "execute_result"
    }
   ],
   "source": [
    "# create a linear model and train it on Bob's machine\n",
    "# remember how to create a linear model? No? :( \n",
    "# Here's the main steps:\n",
    "#    1- find a prediction\n",
    "#    2- calcualte the loss (a mean square loss)\n",
    "#    3- backpropogate using the backword() function\n",
    "#    4- DO NOT forget to clear your gradients after updating the weights\n",
    "#    weights.data.sub_(weights.grad * lr)\n",
    "\n",
    "prediction = input_data.mm(weights)\n",
    "prediction"
   ]
  },
  {
   "cell_type": "code",
   "execution_count": 14,
   "metadata": {
    "colab": {
     "base_uri": "https://localhost:8080/",
     "height": 191
    },
    "colab_type": "code",
    "executionInfo": {
     "elapsed": 265,
     "status": "ok",
     "timestamp": 1562089879957,
     "user": {
      "displayName": "Gharib Gharibi",
      "photoUrl": "https://lh3.googleusercontent.com/-jKnQDkmhZKk/AAAAAAAAAAI/AAAAAAAAAPw/6ddzRde_d0Q/s64/photo.jpg",
      "userId": "12269101840630561007"
     },
     "user_tz": 300
    },
    "id": "nHVubTe832Za",
    "outputId": "54d562f4-e938-43c5-8e4b-9a7699d69109"
   },
   "outputs": [
    {
     "name": "stdout",
     "output_type": "stream",
     "text": [
      "tensor(0.4827)\n",
      "tensor(0.3459)\n",
      "tensor(0.2529)\n",
      "tensor(0.1893)\n",
      "tensor(0.1455)\n",
      "tensor(0.1150)\n",
      "tensor(0.0935)\n",
      "tensor(0.0781)\n",
      "tensor(0.0668)\n",
      "tensor(0.0584)\n"
     ]
    }
   ],
   "source": [
    "lr = 0.1\n",
    "\n",
    "for i in range(10):\n",
    "  prediction = input_data.mm(weights)\n",
    "  loss = ((prediction - output_data)**2).mean()\n",
    "  loss.backward()\n",
    "  weights.data.sub_(weights.grad * lr)\n",
    "  weights.grad *= 0\n",
    "\n",
    "  print(loss.get().data)"
   ]
  },
  {
   "cell_type": "markdown",
   "metadata": {
    "colab_type": "text",
    "id": "SyUhip8j32Ze"
   },
   "source": [
    "# Lesson: Garbage Collection and Common Errors\n"
   ]
  },
  {
   "cell_type": "code",
   "execution_count": 15,
   "metadata": {
    "colab": {},
    "colab_type": "code",
    "id": "zQrCsqG732Zf"
   },
   "outputs": [],
   "source": [
    "bob = bob.clear_objects() # clear the contents of a remote object"
   ]
  },
  {
   "cell_type": "code",
   "execution_count": 16,
   "metadata": {
    "colab": {
     "base_uri": "https://localhost:8080/",
     "height": 35
    },
    "colab_type": "code",
    "executionInfo": {
     "elapsed": 239,
     "status": "ok",
     "timestamp": 1562090375446,
     "user": {
      "displayName": "Gharib Gharibi",
      "photoUrl": "https://lh3.googleusercontent.com/-jKnQDkmhZKk/AAAAAAAAAAI/AAAAAAAAAPw/6ddzRde_d0Q/s64/photo.jpg",
      "userId": "12269101840630561007"
     },
     "user_tz": 300
    },
    "id": "72w2jjpO32Zg",
    "outputId": "361bd41b-85c3-4478-d8ce-9e459bb2e5a0"
   },
   "outputs": [
    {
     "data": {
      "text/plain": [
       "{}"
      ]
     },
     "execution_count": 16,
     "metadata": {},
     "output_type": "execute_result"
    }
   ],
   "source": [
    "bob._objects"
   ]
  },
  {
   "cell_type": "code",
   "execution_count": 0,
   "metadata": {
    "colab": {},
    "colab_type": "code",
    "id": "lfRo7myk32Zl"
   },
   "outputs": [],
   "source": [
    "x = th.tensor([1,2,3,4,5]).send(bob)"
   ]
  },
  {
   "cell_type": "code",
   "execution_count": 0,
   "metadata": {
    "colab": {
     "base_uri": "https://localhost:8080/",
     "height": 35
    },
    "colab_type": "code",
    "executionInfo": {
     "elapsed": 253,
     "status": "ok",
     "timestamp": 1562090377442,
     "user": {
      "displayName": "Gharib Gharibi",
      "photoUrl": "https://lh3.googleusercontent.com/-jKnQDkmhZKk/AAAAAAAAAAI/AAAAAAAAAPw/6ddzRde_d0Q/s64/photo.jpg",
      "userId": "12269101840630561007"
     },
     "user_tz": 300
    },
    "id": "NfIkWeNW32Zm",
    "outputId": "3d4cbf52-6b19-403a-a5de-d7d889558a2d"
   },
   "outputs": [
    {
     "data": {
      "text/plain": [
       "{85910937763: tensor([1, 2, 3, 4, 5])}"
      ]
     },
     "execution_count": 26,
     "metadata": {
      "tags": []
     },
     "output_type": "execute_result"
    }
   ],
   "source": [
    "bob._objects"
   ]
  },
  {
   "cell_type": "code",
   "execution_count": 0,
   "metadata": {
    "colab": {},
    "colab_type": "code",
    "id": "ZC0w8mRB32Zo"
   },
   "outputs": [],
   "source": [
    "del x  # delete the pointer to the remote object"
   ]
  },
  {
   "cell_type": "code",
   "execution_count": 0,
   "metadata": {
    "colab": {
     "base_uri": "https://localhost:8080/",
     "height": 35
    },
    "colab_type": "code",
    "executionInfo": {
     "elapsed": 252,
     "status": "ok",
     "timestamp": 1562090381608,
     "user": {
      "displayName": "Gharib Gharibi",
      "photoUrl": "https://lh3.googleusercontent.com/-jKnQDkmhZKk/AAAAAAAAAAI/AAAAAAAAAPw/6ddzRde_d0Q/s64/photo.jpg",
      "userId": "12269101840630561007"
     },
     "user_tz": 300
    },
    "id": "V5Waa1Dz32Zp",
    "outputId": "cb5a3bd3-267d-448d-918c-fe0ae98df962"
   },
   "outputs": [
    {
     "data": {
      "text/plain": [
       "{}"
      ]
     },
     "execution_count": 28,
     "metadata": {
      "tags": []
     },
     "output_type": "execute_result"
    }
   ],
   "source": [
    "bob._objects"
   ]
  },
  {
   "cell_type": "code",
   "execution_count": 0,
   "metadata": {
    "colab": {
     "base_uri": "https://localhost:8080/",
     "height": 35
    },
    "colab_type": "code",
    "executionInfo": {
     "elapsed": 266,
     "status": "ok",
     "timestamp": 1562090392126,
     "user": {
      "displayName": "Gharib Gharibi",
      "photoUrl": "https://lh3.googleusercontent.com/-jKnQDkmhZKk/AAAAAAAAAAI/AAAAAAAAAPw/6ddzRde_d0Q/s64/photo.jpg",
      "userId": "12269101840630561007"
     },
     "user_tz": 300
    },
    "id": "VGQHu4wZ1Ju4",
    "outputId": "d9e1d9a6-46c4-458a-bd6a-405e4bc4ea8e"
   },
   "outputs": [
    {
     "data": {
      "text/plain": [
       "True"
      ]
     },
     "execution_count": 31,
     "metadata": {
      "tags": []
     },
     "output_type": "execute_result"
    }
   ],
   "source": [
    "x.child.garbage_collect_data  # True by default"
   ]
  },
  {
   "cell_type": "code",
   "execution_count": 0,
   "metadata": {
    "colab": {},
    "colab_type": "code",
    "id": "CsWUzR1W32Zr"
   },
   "outputs": [],
   "source": [
    "x = th.tensor([1,2,3,4,5]).send(bob)"
   ]
  },
  {
   "cell_type": "code",
   "execution_count": 0,
   "metadata": {
    "colab": {
     "base_uri": "https://localhost:8080/",
     "height": 35
    },
    "colab_type": "code",
    "executionInfo": {
     "elapsed": 269,
     "status": "ok",
     "timestamp": 1562090422284,
     "user": {
      "displayName": "Gharib Gharibi",
      "photoUrl": "https://lh3.googleusercontent.com/-jKnQDkmhZKk/AAAAAAAAAAI/AAAAAAAAAPw/6ddzRde_d0Q/s64/photo.jpg",
      "userId": "12269101840630561007"
     },
     "user_tz": 300
    },
    "id": "fKVri-Wf32Zs",
    "outputId": "e203f01a-3e37-4184-f14a-9576f12cc635"
   },
   "outputs": [
    {
     "data": {
      "text/plain": [
       "{84615314564: tensor([1, 2, 3, 4, 5])}"
      ]
     },
     "execution_count": 33,
     "metadata": {
      "tags": []
     },
     "output_type": "execute_result"
    }
   ],
   "source": [
    "bob._objects"
   ]
  },
  {
   "cell_type": "code",
   "execution_count": 0,
   "metadata": {
    "colab": {},
    "colab_type": "code",
    "id": "WY9F5ZdG32Zu"
   },
   "outputs": [],
   "source": [
    "x = \"asdf\""
   ]
  },
  {
   "cell_type": "code",
   "execution_count": 0,
   "metadata": {
    "colab": {
     "base_uri": "https://localhost:8080/",
     "height": 35
    },
    "colab_type": "code",
    "executionInfo": {
     "elapsed": 257,
     "status": "ok",
     "timestamp": 1562090430783,
     "user": {
      "displayName": "Gharib Gharibi",
      "photoUrl": "https://lh3.googleusercontent.com/-jKnQDkmhZKk/AAAAAAAAAAI/AAAAAAAAAPw/6ddzRde_d0Q/s64/photo.jpg",
      "userId": "12269101840630561007"
     },
     "user_tz": 300
    },
    "id": "FW4VKLTP32Zu",
    "outputId": "ad748bfd-88f4-43c5-96c7-c79b518085a6"
   },
   "outputs": [
    {
     "data": {
      "text/plain": [
       "{}"
      ]
     },
     "execution_count": 35,
     "metadata": {
      "tags": []
     },
     "output_type": "execute_result"
    }
   ],
   "source": [
    "bob._objects"
   ]
  },
  {
   "cell_type": "code",
   "execution_count": 0,
   "metadata": {
    "colab": {},
    "colab_type": "code",
    "id": "KBKsQr7B32Zw"
   },
   "outputs": [],
   "source": [
    "x = th.tensor([1,2,3,4,5]).send(bob)"
   ]
  },
  {
   "cell_type": "code",
   "execution_count": 0,
   "metadata": {
    "colab": {
     "base_uri": "https://localhost:8080/",
     "height": 35
    },
    "colab_type": "code",
    "executionInfo": {
     "elapsed": 282,
     "status": "ok",
     "timestamp": 1562090482638,
     "user": {
      "displayName": "Gharib Gharibi",
      "photoUrl": "https://lh3.googleusercontent.com/-jKnQDkmhZKk/AAAAAAAAAAI/AAAAAAAAAPw/6ddzRde_d0Q/s64/photo.jpg",
      "userId": "12269101840630561007"
     },
     "user_tz": 300
    },
    "id": "10TeCNGD32Zx",
    "outputId": "4d3cda88-9017-4c8b-8635-7d6efc8d24c9"
   },
   "outputs": [
    {
     "data": {
      "text/plain": [
       "(Wrapper)>[PointerTensor | me:39795892651 -> bob:12911623213]"
      ]
     },
     "execution_count": 37,
     "metadata": {
      "tags": []
     },
     "output_type": "execute_result"
    }
   ],
   "source": [
    "x"
   ]
  },
  {
   "cell_type": "code",
   "execution_count": 0,
   "metadata": {
    "colab": {
     "base_uri": "https://localhost:8080/",
     "height": 35
    },
    "colab_type": "code",
    "executionInfo": {
     "elapsed": 248,
     "status": "ok",
     "timestamp": 1562090484816,
     "user": {
      "displayName": "Gharib Gharibi",
      "photoUrl": "https://lh3.googleusercontent.com/-jKnQDkmhZKk/AAAAAAAAAAI/AAAAAAAAAPw/6ddzRde_d0Q/s64/photo.jpg",
      "userId": "12269101840630561007"
     },
     "user_tz": 300
    },
    "id": "rRJEhnC032Zz",
    "outputId": "59462aeb-9d1d-4635-a7c2-67e5c9752cec"
   },
   "outputs": [
    {
     "data": {
      "text/plain": [
       "{12911623213: tensor([1, 2, 3, 4, 5])}"
      ]
     },
     "execution_count": 38,
     "metadata": {
      "tags": []
     },
     "output_type": "execute_result"
    }
   ],
   "source": [
    "bob._objects"
   ]
  },
  {
   "cell_type": "code",
   "execution_count": 0,
   "metadata": {
    "colab": {},
    "colab_type": "code",
    "id": "8ePrc0Li32Z1"
   },
   "outputs": [],
   "source": [
    "x = \"asdf\""
   ]
  },
  {
   "cell_type": "code",
   "execution_count": 0,
   "metadata": {
    "colab": {
     "base_uri": "https://localhost:8080/",
     "height": 35
    },
    "colab_type": "code",
    "executionInfo": {
     "elapsed": 242,
     "status": "ok",
     "timestamp": 1562090487574,
     "user": {
      "displayName": "Gharib Gharibi",
      "photoUrl": "https://lh3.googleusercontent.com/-jKnQDkmhZKk/AAAAAAAAAAI/AAAAAAAAAPw/6ddzRde_d0Q/s64/photo.jpg",
      "userId": "12269101840630561007"
     },
     "user_tz": 300
    },
    "id": "oqqD8G5Z32Z2",
    "outputId": "c377f177-7ca9-44ba-905d-cd8bf1d7d45f"
   },
   "outputs": [
    {
     "data": {
      "text/plain": [
       "{12911623213: tensor([1, 2, 3, 4, 5])}"
      ]
     },
     "execution_count": 40,
     "metadata": {
      "tags": []
     },
     "output_type": "execute_result"
    }
   ],
   "source": [
    "bob._objects  # some error from Jupyter is casuing this to appear!"
   ]
  },
  {
   "cell_type": "code",
   "execution_count": 0,
   "metadata": {
    "colab": {},
    "colab_type": "code",
    "id": "1sTQon1h32Z4"
   },
   "outputs": [],
   "source": [
    "del x"
   ]
  },
  {
   "cell_type": "code",
   "execution_count": 0,
   "metadata": {
    "colab": {
     "base_uri": "https://localhost:8080/",
     "height": 35
    },
    "colab_type": "code",
    "executionInfo": {
     "elapsed": 247,
     "status": "ok",
     "timestamp": 1562090495025,
     "user": {
      "displayName": "Gharib Gharibi",
      "photoUrl": "https://lh3.googleusercontent.com/-jKnQDkmhZKk/AAAAAAAAAAI/AAAAAAAAAPw/6ddzRde_d0Q/s64/photo.jpg",
      "userId": "12269101840630561007"
     },
     "user_tz": 300
    },
    "id": "H-Ef8aWw32Z6",
    "outputId": "4e4c1312-900b-404a-b752-d0255e43af40"
   },
   "outputs": [
    {
     "data": {
      "text/plain": [
       "{12911623213: tensor([1, 2, 3, 4, 5])}"
      ]
     },
     "execution_count": 42,
     "metadata": {
      "tags": []
     },
     "output_type": "execute_result"
    }
   ],
   "source": [
    "bob._objects"
   ]
  },
  {
   "cell_type": "code",
   "execution_count": 0,
   "metadata": {
    "colab": {
     "base_uri": "https://localhost:8080/",
     "height": 35
    },
    "colab_type": "code",
    "executionInfo": {
     "elapsed": 268,
     "status": "ok",
     "timestamp": 1562090500042,
     "user": {
      "displayName": "Gharib Gharibi",
      "photoUrl": "https://lh3.googleusercontent.com/-jKnQDkmhZKk/AAAAAAAAAAI/AAAAAAAAAPw/6ddzRde_d0Q/s64/photo.jpg",
      "userId": "12269101840630561007"
     },
     "user_tz": 300
    },
    "id": "zDtbBgHH32Z8",
    "outputId": "f735ec64-24a4-40b6-e892-f8863c3916e5"
   },
   "outputs": [
    {
     "data": {
      "text/plain": [
       "{}"
      ]
     },
     "execution_count": 43,
     "metadata": {
      "tags": []
     },
     "output_type": "execute_result"
    }
   ],
   "source": [
    "bob = bob.clear_objects() # erase force \n",
    "bob._objects"
   ]
  },
  {
   "cell_type": "code",
   "execution_count": 0,
   "metadata": {
    "colab": {},
    "colab_type": "code",
    "id": "wDxcbeLB32Z9"
   },
   "outputs": [],
   "source": [
    "for i in range(1000):\n",
    "    x = th.tensor([1,2,3,4,5]).send(bob)"
   ]
  },
  {
   "cell_type": "code",
   "execution_count": 0,
   "metadata": {
    "colab": {
     "base_uri": "https://localhost:8080/",
     "height": 35
    },
    "colab_type": "code",
    "executionInfo": {
     "elapsed": 245,
     "status": "ok",
     "timestamp": 1562090558130,
     "user": {
      "displayName": "Gharib Gharibi",
      "photoUrl": "https://lh3.googleusercontent.com/-jKnQDkmhZKk/AAAAAAAAAAI/AAAAAAAAAPw/6ddzRde_d0Q/s64/photo.jpg",
      "userId": "12269101840630561007"
     },
     "user_tz": 300
    },
    "id": "ceJEpnbS32Z-",
    "outputId": "731bc763-fc13-4330-e6ff-91986e684244"
   },
   "outputs": [
    {
     "data": {
      "text/plain": [
       "{15601760445: tensor([1, 2, 3, 4, 5])}"
      ]
     },
     "execution_count": 45,
     "metadata": {
      "tags": []
     },
     "output_type": "execute_result"
    }
   ],
   "source": [
    "bob._objects # notice that there is only a single tensor in bob"
   ]
  },
  {
   "cell_type": "code",
   "execution_count": 0,
   "metadata": {
    "colab": {},
    "colab_type": "code",
    "id": "9R-jQWze32aA"
   },
   "outputs": [],
   "source": [
    "x = th.tensor([1,2,3,4,5]).send(bob)\n",
    "y = th.tensor([1,1,1,1,1])"
   ]
  },
  {
   "cell_type": "code",
   "execution_count": 0,
   "metadata": {
    "colab": {},
    "colab_type": "code",
    "id": "Es8wzWZc32aB",
    "outputId": "c7152c78-54e0-4597-e51a-09214bc93bd9"
   },
   "outputs": [
    {
     "ename": "TensorsNotCollocatedException",
     "evalue": "You tried to call a method involving two tensors where one tensor is actually locatedon another machine (is a PointerTensor). Call .get() on the PointerTensor or .send(bob) on the other tensor.\n\nTensor A: [PointerTensor | me:46419059800 -> bob:14412738960]\nTensor B: tensor([1, 1, 1, 1, 1])",
     "output_type": "error",
     "traceback": [
      "\u001b[0;31m---------------------------------------------------------------------------\u001b[0m",
      "\u001b[0;31mPureTorchTensorFoundError\u001b[0m                 Traceback (most recent call last)",
      "\u001b[0;32m/Users/atrask/anaconda/lib/python3.6/site-packages/syft-0.1.2a1-py3.6.egg/syft/frameworks/torch/hook.py\u001b[0m in \u001b[0;36moverloaded_native_method\u001b[0;34m(self, *args, **kwargs)\u001b[0m\n\u001b[1;32m    561\u001b[0m                     new_self, new_args = syft.frameworks.torch.hook_args.hook_method_args(\n\u001b[0;32m--> 562\u001b[0;31m                         \u001b[0mmethod_name\u001b[0m\u001b[0;34m,\u001b[0m \u001b[0mself\u001b[0m\u001b[0;34m,\u001b[0m \u001b[0margs\u001b[0m\u001b[0;34m\u001b[0m\u001b[0m\n\u001b[0m\u001b[1;32m    563\u001b[0m                     )\n",
      "\u001b[0;32m/Users/atrask/anaconda/lib/python3.6/site-packages/syft-0.1.2a1-py3.6.egg/syft/frameworks/torch/hook_args.py\u001b[0m in \u001b[0;36mhook_method_args\u001b[0;34m(attr, method_self, args)\u001b[0m\n\u001b[1;32m     85\u001b[0m         \u001b[0;31m# Try running it\u001b[0m\u001b[0;34m\u001b[0m\u001b[0;34m\u001b[0m\u001b[0m\n\u001b[0;32m---> 86\u001b[0;31m         \u001b[0mnew_self\u001b[0m\u001b[0;34m,\u001b[0m \u001b[0mnew_args\u001b[0m \u001b[0;34m=\u001b[0m \u001b[0mhook_args\u001b[0m\u001b[0;34m(\u001b[0m\u001b[0;34m(\u001b[0m\u001b[0mmethod_self\u001b[0m\u001b[0;34m,\u001b[0m \u001b[0margs\u001b[0m\u001b[0;34m)\u001b[0m\u001b[0;34m)\u001b[0m\u001b[0;34m\u001b[0m\u001b[0m\n\u001b[0m\u001b[1;32m     87\u001b[0m \u001b[0;34m\u001b[0m\u001b[0m\n",
      "\u001b[0;32m/Users/atrask/anaconda/lib/python3.6/site-packages/syft-0.1.2a1-py3.6.egg/syft/frameworks/torch/hook_args.py\u001b[0m in \u001b[0;36m<lambda>\u001b[0;34m(x)\u001b[0m\n\u001b[1;32m    270\u001b[0m \u001b[0;34m\u001b[0m\u001b[0m\n\u001b[0;32m--> 271\u001b[0;31m     \u001b[0;32mreturn\u001b[0m \u001b[0;32mlambda\u001b[0m \u001b[0mx\u001b[0m\u001b[0;34m:\u001b[0m \u001b[0mf\u001b[0m\u001b[0;34m(\u001b[0m\u001b[0mlambdas\u001b[0m\u001b[0;34m,\u001b[0m \u001b[0mx\u001b[0m\u001b[0;34m)\u001b[0m\u001b[0;34m\u001b[0m\u001b[0m\n\u001b[0m\u001b[1;32m    272\u001b[0m \u001b[0;34m\u001b[0m\u001b[0m\n",
      "\u001b[0;32m/Users/atrask/anaconda/lib/python3.6/site-packages/syft-0.1.2a1-py3.6.egg/syft/frameworks/torch/hook_args.py\u001b[0m in \u001b[0;36mtwo_fold\u001b[0;34m(lambdas, args)\u001b[0m\n\u001b[1;32m    420\u001b[0m \u001b[0;32mdef\u001b[0m \u001b[0mtwo_fold\u001b[0m\u001b[0;34m(\u001b[0m\u001b[0mlambdas\u001b[0m\u001b[0;34m,\u001b[0m \u001b[0margs\u001b[0m\u001b[0;34m)\u001b[0m\u001b[0;34m:\u001b[0m\u001b[0;34m\u001b[0m\u001b[0m\n\u001b[0;32m--> 421\u001b[0;31m     \u001b[0;32mreturn\u001b[0m \u001b[0mlambdas\u001b[0m\u001b[0;34m[\u001b[0m\u001b[0;36m0\u001b[0m\u001b[0;34m]\u001b[0m\u001b[0;34m(\u001b[0m\u001b[0margs\u001b[0m\u001b[0;34m[\u001b[0m\u001b[0;36m0\u001b[0m\u001b[0;34m]\u001b[0m\u001b[0;34m)\u001b[0m\u001b[0;34m,\u001b[0m \u001b[0mlambdas\u001b[0m\u001b[0;34m[\u001b[0m\u001b[0;36m1\u001b[0m\u001b[0;34m]\u001b[0m\u001b[0;34m(\u001b[0m\u001b[0margs\u001b[0m\u001b[0;34m[\u001b[0m\u001b[0;36m1\u001b[0m\u001b[0;34m]\u001b[0m\u001b[0;34m)\u001b[0m\u001b[0;34m\u001b[0m\u001b[0m\n\u001b[0m\u001b[1;32m    422\u001b[0m \u001b[0;34m\u001b[0m\u001b[0m\n",
      "\u001b[0;32m/Users/atrask/anaconda/lib/python3.6/site-packages/syft-0.1.2a1-py3.6.egg/syft/frameworks/torch/hook_args.py\u001b[0m in \u001b[0;36m<lambda>\u001b[0;34m(x)\u001b[0m\n\u001b[1;32m    270\u001b[0m \u001b[0;34m\u001b[0m\u001b[0m\n\u001b[0;32m--> 271\u001b[0;31m     \u001b[0;32mreturn\u001b[0m \u001b[0;32mlambda\u001b[0m \u001b[0mx\u001b[0m\u001b[0;34m:\u001b[0m \u001b[0mf\u001b[0m\u001b[0;34m(\u001b[0m\u001b[0mlambdas\u001b[0m\u001b[0;34m,\u001b[0m \u001b[0mx\u001b[0m\u001b[0;34m)\u001b[0m\u001b[0;34m\u001b[0m\u001b[0m\n\u001b[0m\u001b[1;32m    272\u001b[0m \u001b[0;34m\u001b[0m\u001b[0m\n",
      "\u001b[0;32m/Users/atrask/anaconda/lib/python3.6/site-packages/syft-0.1.2a1-py3.6.egg/syft/frameworks/torch/hook_args.py\u001b[0m in \u001b[0;36mtuple_one_fold\u001b[0;34m(lambdas, args)\u001b[0m\n\u001b[1;32m    414\u001b[0m     \u001b[0;32mdef\u001b[0m \u001b[0mtuple_one_fold\u001b[0m\u001b[0;34m(\u001b[0m\u001b[0mlambdas\u001b[0m\u001b[0;34m,\u001b[0m \u001b[0margs\u001b[0m\u001b[0;34m)\u001b[0m\u001b[0;34m:\u001b[0m\u001b[0;34m\u001b[0m\u001b[0m\n\u001b[0;32m--> 415\u001b[0;31m         \u001b[0;32mreturn\u001b[0m \u001b[0;34m(\u001b[0m\u001b[0mlambdas\u001b[0m\u001b[0;34m[\u001b[0m\u001b[0;36m0\u001b[0m\u001b[0;34m]\u001b[0m\u001b[0;34m(\u001b[0m\u001b[0margs\u001b[0m\u001b[0;34m[\u001b[0m\u001b[0;36m0\u001b[0m\u001b[0;34m]\u001b[0m\u001b[0;34m)\u001b[0m\u001b[0;34m,\u001b[0m\u001b[0;34m)\u001b[0m\u001b[0;34m\u001b[0m\u001b[0m\n\u001b[0m\u001b[1;32m    416\u001b[0m \u001b[0;34m\u001b[0m\u001b[0m\n",
      "\u001b[0;32m/Users/atrask/anaconda/lib/python3.6/site-packages/syft-0.1.2a1-py3.6.egg/syft/frameworks/torch/hook_args.py\u001b[0m in \u001b[0;36m<lambda>\u001b[0;34m(i)\u001b[0m\n\u001b[1;32m    248\u001b[0m         \u001b[0;31m# Last if not, rule is probably == 1 so use type to return the right transformation.\u001b[0m\u001b[0;34m\u001b[0m\u001b[0;34m\u001b[0m\u001b[0m\n\u001b[0;32m--> 249\u001b[0;31m         \u001b[0;32melse\u001b[0m \u001b[0;32mlambda\u001b[0m \u001b[0mi\u001b[0m\u001b[0;34m:\u001b[0m \u001b[0mforward_func\u001b[0m\u001b[0;34m[\u001b[0m\u001b[0mtype\u001b[0m\u001b[0;34m(\u001b[0m\u001b[0mi\u001b[0m\u001b[0;34m)\u001b[0m\u001b[0;34m]\u001b[0m\u001b[0;34m(\u001b[0m\u001b[0mi\u001b[0m\u001b[0;34m)\u001b[0m\u001b[0;34m\u001b[0m\u001b[0m\n\u001b[0m\u001b[1;32m    250\u001b[0m         \u001b[0;32mfor\u001b[0m \u001b[0ma\u001b[0m\u001b[0;34m,\u001b[0m \u001b[0mr\u001b[0m \u001b[0;32min\u001b[0m \u001b[0mzip\u001b[0m\u001b[0;34m(\u001b[0m\u001b[0margs\u001b[0m\u001b[0;34m,\u001b[0m \u001b[0mrules\u001b[0m\u001b[0;34m)\u001b[0m  \u001b[0;31m# And do this for all the args / rules provided\u001b[0m\u001b[0;34m\u001b[0m\u001b[0m\n",
      "\u001b[0;32m/Users/atrask/anaconda/lib/python3.6/site-packages/syft-0.1.2a1-py3.6.egg/syft/frameworks/torch/hook_args.py\u001b[0m in \u001b[0;36m<lambda>\u001b[0;34m(i)\u001b[0m\n\u001b[1;32m     34\u001b[0m     \u001b[0;32mif\u001b[0m \u001b[0mhasattr\u001b[0m\u001b[0;34m(\u001b[0m\u001b[0mi\u001b[0m\u001b[0;34m,\u001b[0m \u001b[0;34m\"child\"\u001b[0m\u001b[0;34m)\u001b[0m\u001b[0;34m\u001b[0m\u001b[0m\n\u001b[0;32m---> 35\u001b[0;31m     \u001b[0;32melse\u001b[0m \u001b[0;34m(\u001b[0m\u001b[0m_\u001b[0m \u001b[0;32mfor\u001b[0m \u001b[0m_\u001b[0m \u001b[0;32min\u001b[0m \u001b[0;34m(\u001b[0m\u001b[0;34m)\u001b[0m\u001b[0;34m)\u001b[0m\u001b[0;34m.\u001b[0m\u001b[0mthrow\u001b[0m\u001b[0;34m(\u001b[0m\u001b[0mPureTorchTensorFoundError\u001b[0m\u001b[0;34m(\u001b[0m\u001b[0mi\u001b[0m\u001b[0;34m)\u001b[0m\u001b[0;34m)\u001b[0m\u001b[0;34m,\u001b[0m\u001b[0;34m\u001b[0m\u001b[0m\n\u001b[0m\u001b[1;32m     36\u001b[0m     \u001b[0mtorch\u001b[0m\u001b[0;34m.\u001b[0m\u001b[0mnn\u001b[0m\u001b[0;34m.\u001b[0m\u001b[0mParameter\u001b[0m\u001b[0;34m:\u001b[0m \u001b[0;32mlambda\u001b[0m \u001b[0mi\u001b[0m\u001b[0;34m:\u001b[0m \u001b[0mi\u001b[0m\u001b[0;34m.\u001b[0m\u001b[0mchild\u001b[0m\u001b[0;34m\u001b[0m\u001b[0m\n",
      "\u001b[0;32m/Users/atrask/anaconda/lib/python3.6/site-packages/syft-0.1.2a1-py3.6.egg/syft/frameworks/torch/hook_args.py\u001b[0m in \u001b[0;36m<genexpr>\u001b[0;34m(.0)\u001b[0m\n\u001b[1;32m     34\u001b[0m     \u001b[0;32mif\u001b[0m \u001b[0mhasattr\u001b[0m\u001b[0;34m(\u001b[0m\u001b[0mi\u001b[0m\u001b[0;34m,\u001b[0m \u001b[0;34m\"child\"\u001b[0m\u001b[0;34m)\u001b[0m\u001b[0;34m\u001b[0m\u001b[0m\n\u001b[0;32m---> 35\u001b[0;31m     \u001b[0;32melse\u001b[0m \u001b[0;34m(\u001b[0m\u001b[0m_\u001b[0m \u001b[0;32mfor\u001b[0m \u001b[0m_\u001b[0m \u001b[0;32min\u001b[0m \u001b[0;34m(\u001b[0m\u001b[0;34m)\u001b[0m\u001b[0;34m)\u001b[0m\u001b[0;34m.\u001b[0m\u001b[0mthrow\u001b[0m\u001b[0;34m(\u001b[0m\u001b[0mPureTorchTensorFoundError\u001b[0m\u001b[0;34m(\u001b[0m\u001b[0mi\u001b[0m\u001b[0;34m)\u001b[0m\u001b[0;34m)\u001b[0m\u001b[0;34m,\u001b[0m\u001b[0;34m\u001b[0m\u001b[0m\n\u001b[0m\u001b[1;32m     36\u001b[0m     \u001b[0mtorch\u001b[0m\u001b[0;34m.\u001b[0m\u001b[0mnn\u001b[0m\u001b[0;34m.\u001b[0m\u001b[0mParameter\u001b[0m\u001b[0;34m:\u001b[0m \u001b[0;32mlambda\u001b[0m \u001b[0mi\u001b[0m\u001b[0;34m:\u001b[0m \u001b[0mi\u001b[0m\u001b[0;34m.\u001b[0m\u001b[0mchild\u001b[0m\u001b[0;34m\u001b[0m\u001b[0m\n",
      "\u001b[0;31mPureTorchTensorFoundError\u001b[0m: tensor([1, 1, 1, 1, 1])",
      "\nDuring handling of the above exception, another exception occurred:\n",
      "\u001b[0;31mTensorsNotCollocatedException\u001b[0m             Traceback (most recent call last)",
      "\u001b[0;32m<ipython-input-65-d63d93af9bc6>\u001b[0m in \u001b[0;36m<module>\u001b[0;34m()\u001b[0m\n\u001b[0;32m----> 1\u001b[0;31m \u001b[0mz\u001b[0m \u001b[0;34m=\u001b[0m \u001b[0mx\u001b[0m \u001b[0;34m+\u001b[0m \u001b[0my\u001b[0m\u001b[0;34m\u001b[0m\u001b[0m\n\u001b[0m",
      "\u001b[0;32m/Users/atrask/anaconda/lib/python3.6/site-packages/syft-0.1.2a1-py3.6.egg/syft/frameworks/torch/hook.py\u001b[0m in \u001b[0;36moverloaded_native_method\u001b[0;34m(self, *args, **kwargs)\u001b[0m\n\u001b[1;32m    564\u001b[0m                 \u001b[0;32mexcept\u001b[0m \u001b[0mBaseException\u001b[0m \u001b[0;32mas\u001b[0m \u001b[0me\u001b[0m\u001b[0;34m:\u001b[0m\u001b[0;34m\u001b[0m\u001b[0m\n\u001b[1;32m    565\u001b[0m                     \u001b[0;31m# we can make some errors more descriptive with this method\u001b[0m\u001b[0;34m\u001b[0m\u001b[0;34m\u001b[0m\u001b[0m\n\u001b[0;32m--> 566\u001b[0;31m                     \u001b[0;32mraise\u001b[0m \u001b[0mroute_method_exception\u001b[0m\u001b[0;34m(\u001b[0m\u001b[0me\u001b[0m\u001b[0;34m,\u001b[0m \u001b[0mself\u001b[0m\u001b[0;34m,\u001b[0m \u001b[0margs\u001b[0m\u001b[0;34m,\u001b[0m \u001b[0mkwargs\u001b[0m\u001b[0;34m)\u001b[0m\u001b[0;34m\u001b[0m\u001b[0m\n\u001b[0m\u001b[1;32m    567\u001b[0m \u001b[0;34m\u001b[0m\u001b[0m\n\u001b[1;32m    568\u001b[0m                 \u001b[0;31m# Send the new command to the appropriate class and get the response\u001b[0m\u001b[0;34m\u001b[0m\u001b[0;34m\u001b[0m\u001b[0m\n",
      "\u001b[0;31mTensorsNotCollocatedException\u001b[0m: You tried to call a method involving two tensors where one tensor is actually locatedon another machine (is a PointerTensor). Call .get() on the PointerTensor or .send(bob) on the other tensor.\n\nTensor A: [PointerTensor | me:46419059800 -> bob:14412738960]\nTensor B: tensor([1, 1, 1, 1, 1])"
     ]
    }
   ],
   "source": [
    "z = x + y"
   ]
  },
  {
   "cell_type": "code",
   "execution_count": 0,
   "metadata": {
    "colab": {},
    "colab_type": "code",
    "id": "CPB9BfQI32aD"
   },
   "outputs": [],
   "source": [
    "alice = sy.VirtualWorker(hook, id=\"alice\")\n",
    "x = th.tensor([1,2,3,4,5]).send(bob)\n",
    "y = th.tensor([1,1,1,1,1]).send(alice)"
   ]
  },
  {
   "cell_type": "code",
   "execution_count": 0,
   "metadata": {
    "colab": {
     "base_uri": "https://localhost:8080/",
     "height": 331
    },
    "colab_type": "code",
    "executionInfo": {
     "elapsed": 252,
     "status": "error",
     "timestamp": 1562090742051,
     "user": {
      "displayName": "Gharib Gharibi",
      "photoUrl": "https://lh3.googleusercontent.com/-jKnQDkmhZKk/AAAAAAAAAAI/AAAAAAAAAPw/6ddzRde_d0Q/s64/photo.jpg",
      "userId": "12269101840630561007"
     },
     "user_tz": 300
    },
    "id": "_AmyuCG332aF",
    "outputId": "5d62cd2a-5d89-422f-f23a-e670dea2fc90"
   },
   "outputs": [
    {
     "ename": "TensorsNotCollocatedException",
     "evalue": "ignored",
     "output_type": "error",
     "traceback": [
      "\u001b[0;31m---------------------------------------------------------------------------\u001b[0m",
      "\u001b[0;31mTensorsNotCollocatedException\u001b[0m             Traceback (most recent call last)",
      "\u001b[0;32m<ipython-input-48-8c8f78e0676d>\u001b[0m in \u001b[0;36m<module>\u001b[0;34m()\u001b[0m\n\u001b[0;32m----> 1\u001b[0;31m \u001b[0mz\u001b[0m \u001b[0;34m=\u001b[0m \u001b[0mx\u001b[0m \u001b[0;34m+\u001b[0m \u001b[0my\u001b[0m\u001b[0;34m\u001b[0m\u001b[0;34m\u001b[0m\u001b[0m\n\u001b[0m",
      "\u001b[0;32m/usr/local/lib/python3.6/dist-packages/syft/frameworks/torch/hook/hook.py\u001b[0m in \u001b[0;36moverloaded_native_method\u001b[0;34m(self, *args, **kwargs)\u001b[0m\n\u001b[1;32m    672\u001b[0m                 \u001b[0;31m# Send the new command to the appropriate class and get the response\u001b[0m\u001b[0;34m\u001b[0m\u001b[0;34m\u001b[0m\u001b[0;34m\u001b[0m\u001b[0m\n\u001b[1;32m    673\u001b[0m                 \u001b[0mmethod\u001b[0m \u001b[0;34m=\u001b[0m \u001b[0mgetattr\u001b[0m\u001b[0;34m(\u001b[0m\u001b[0mnew_self\u001b[0m\u001b[0;34m,\u001b[0m \u001b[0mmethod_name\u001b[0m\u001b[0;34m)\u001b[0m\u001b[0;34m\u001b[0m\u001b[0;34m\u001b[0m\u001b[0m\n\u001b[0;32m--> 674\u001b[0;31m                 \u001b[0mresponse\u001b[0m \u001b[0;34m=\u001b[0m \u001b[0mmethod\u001b[0m\u001b[0;34m(\u001b[0m\u001b[0;34m*\u001b[0m\u001b[0mnew_args\u001b[0m\u001b[0;34m,\u001b[0m \u001b[0;34m**\u001b[0m\u001b[0mnew_kwargs\u001b[0m\u001b[0;34m)\u001b[0m\u001b[0;34m\u001b[0m\u001b[0;34m\u001b[0m\u001b[0m\n\u001b[0m\u001b[1;32m    675\u001b[0m \u001b[0;34m\u001b[0m\u001b[0m\n\u001b[1;32m    676\u001b[0m                 \u001b[0;31m# For inplace methods, just directly return self\u001b[0m\u001b[0;34m\u001b[0m\u001b[0;34m\u001b[0m\u001b[0;34m\u001b[0m\u001b[0m\n",
      "\u001b[0;32m/usr/local/lib/python3.6/dist-packages/syft/frameworks/torch/hook/hook.py\u001b[0m in \u001b[0;36moverloaded_pointer_method\u001b[0;34m(self, *args, **kwargs)\u001b[0m\n\u001b[1;32m    503\u001b[0m                 \u001b[0;32mif\u001b[0m \u001b[0misinstance\u001b[0m\u001b[0;34m(\u001b[0m\u001b[0margs\u001b[0m\u001b[0;34m[\u001b[0m\u001b[0;36m0\u001b[0m\u001b[0;34m]\u001b[0m\u001b[0;34m,\u001b[0m \u001b[0mPointerTensor\u001b[0m\u001b[0;34m)\u001b[0m\u001b[0;34m:\u001b[0m\u001b[0;34m\u001b[0m\u001b[0;34m\u001b[0m\u001b[0m\n\u001b[1;32m    504\u001b[0m                     \u001b[0;32mif\u001b[0m \u001b[0margs\u001b[0m\u001b[0;34m[\u001b[0m\u001b[0;36m0\u001b[0m\u001b[0;34m]\u001b[0m\u001b[0;34m.\u001b[0m\u001b[0mlocation\u001b[0m\u001b[0;34m.\u001b[0m\u001b[0mid\u001b[0m \u001b[0;34m!=\u001b[0m \u001b[0mlocation\u001b[0m\u001b[0;34m.\u001b[0m\u001b[0mid\u001b[0m\u001b[0;34m:\u001b[0m\u001b[0;34m\u001b[0m\u001b[0;34m\u001b[0m\u001b[0m\n\u001b[0;32m--> 505\u001b[0;31m                         \u001b[0;32mraise\u001b[0m \u001b[0mTensorsNotCollocatedException\u001b[0m\u001b[0;34m(\u001b[0m\u001b[0mpointer\u001b[0m\u001b[0;34m,\u001b[0m \u001b[0margs\u001b[0m\u001b[0;34m[\u001b[0m\u001b[0;36m0\u001b[0m\u001b[0;34m]\u001b[0m\u001b[0;34m,\u001b[0m \u001b[0mattr\u001b[0m\u001b[0;34m)\u001b[0m\u001b[0;34m\u001b[0m\u001b[0;34m\u001b[0m\u001b[0m\n\u001b[0m\u001b[1;32m    506\u001b[0m \u001b[0;34m\u001b[0m\u001b[0m\n\u001b[1;32m    507\u001b[0m             \u001b[0;31m# Send the command\u001b[0m\u001b[0;34m\u001b[0m\u001b[0;34m\u001b[0m\u001b[0;34m\u001b[0m\u001b[0m\n",
      "\u001b[0;31mTensorsNotCollocatedException\u001b[0m: You tried to call __add__ involving two tensors which are not on the same machine! One tensor is on <VirtualWorker id:bob #objects:1> while the other is on <VirtualWorker id:alice #objects:1>. Use a combination of .move(), .get(), and/or .send() to co-locate them to the same machine."
     ]
    }
   ],
   "source": [
    "z = x + y"
   ]
  },
  {
   "cell_type": "markdown",
   "metadata": {
    "colab_type": "text",
    "id": "Owy4VgO732aJ"
   },
   "source": [
    "# Lesson: Toy Federated Learning\n",
    "\n",
    "Let's start by training a toy model the centralized way. This is about a simple as models get. We first need:\n",
    "\n",
    "- a toy dataset\n",
    "- a model\n",
    "- some basic training logic for training a model to fit the data."
   ]
  },
  {
   "cell_type": "code",
   "execution_count": 24,
   "metadata": {
    "colab": {},
    "colab_type": "code",
    "id": "JS0sSkAX32aK"
   },
   "outputs": [],
   "source": [
    "from torch import nn, optim"
   ]
  },
  {
   "cell_type": "code",
   "execution_count": 19,
   "metadata": {
    "colab": {},
    "colab_type": "code",
    "id": "XZg8fUBn32aL"
   },
   "outputs": [],
   "source": [
    "# A Toy Dataset\n",
    "data = th.tensor([[1.,1],[0,1],[1,0],[0,0]], requires_grad=True)\n",
    "target = th.tensor([[1.],[1], [0], [0]], requires_grad=True)"
   ]
  },
  {
   "cell_type": "code",
   "execution_count": 0,
   "metadata": {
    "colab": {},
    "colab_type": "code",
    "id": "GFnD_3YX32aN"
   },
   "outputs": [],
   "source": [
    "# A Toy Model\n",
    "model = nn.Linear(2,1)"
   ]
  },
  {
   "cell_type": "code",
   "execution_count": 0,
   "metadata": {
    "colab": {},
    "colab_type": "code",
    "id": "9_OrUl2q32aO"
   },
   "outputs": [],
   "source": [
    "opt = optim.SGD(params=model.parameters(), lr=0.1)"
   ]
  },
  {
   "cell_type": "code",
   "execution_count": 0,
   "metadata": {
    "colab": {
     "base_uri": "https://localhost:8080/",
     "height": 191
    },
    "colab_type": "code",
    "executionInfo": {
     "elapsed": 252,
     "status": "ok",
     "timestamp": 1562091285948,
     "user": {
      "displayName": "Gharib Gharibi",
      "photoUrl": "https://lh3.googleusercontent.com/-jKnQDkmhZKk/AAAAAAAAAAI/AAAAAAAAAPw/6ddzRde_d0Q/s64/photo.jpg",
      "userId": "12269101840630561007"
     },
     "user_tz": 300
    },
    "id": "SolvJnx_32aQ",
    "outputId": "bccfd2f2-d833-428c-b1b0-41b937ed103f"
   },
   "outputs": [
    {
     "name": "stdout",
     "output_type": "stream",
     "text": [
      "tensor(1.4499)\n",
      "tensor(0.7783)\n",
      "tensor(0.5051)\n",
      "tensor(0.3378)\n",
      "tensor(0.2280)\n",
      "tensor(0.1549)\n",
      "tensor(0.1061)\n",
      "tensor(0.0732)\n",
      "tensor(0.0509)\n",
      "tensor(0.0357)\n"
     ]
    }
   ],
   "source": [
    "def train(iterations=10):\n",
    "    for iter in range(iterations):\n",
    "        opt.zero_grad()\n",
    "\n",
    "        pred = model(data)\n",
    "\n",
    "        loss = ((pred - target)**2).mean()\n",
    "\n",
    "        loss.backward()\n",
    "\n",
    "        opt.step()\n",
    "\n",
    "        print(loss.data)\n",
    "        \n",
    "train()"
   ]
  },
  {
   "cell_type": "code",
   "execution_count": 17,
   "metadata": {
    "colab": {
     "base_uri": "https://localhost:8080/",
     "height": 107
    },
    "colab_type": "code",
    "executionInfo": {
     "elapsed": 2806,
     "status": "ok",
     "timestamp": 1562093255709,
     "user": {
      "displayName": "Gharib Gharibi",
      "photoUrl": "https://lh3.googleusercontent.com/-jKnQDkmhZKk/AAAAAAAAAAI/AAAAAAAAAPw/6ddzRde_d0Q/s64/photo.jpg",
      "userId": "12269101840630561007"
     },
     "user_tz": 300
    },
    "id": "iAs7H_XU32aS",
    "outputId": "dbaf5098-795a-4a22-a652-0af1b936d495"
   },
   "outputs": [
    {
     "name": "stderr",
     "output_type": "stream",
     "text": [
      "W0702 18:12:11.613148  4928 hook.py:97] Torch was already hooked... skipping hooking process\n"
     ]
    }
   ],
   "source": [
    "# nothing was federated up to this point!\n",
    "\n",
    "import torch as th\n",
    "import syft as sy\n",
    "\n",
    "hook = sy.TorchHook(th)  \n",
    "bob = sy.VirtualWorker(hook, id=\"bob\")\n",
    "alice = sy.VirtualWorker(hook, id=\"alice\")\n",
    "\n"
   ]
  },
  {
   "cell_type": "code",
   "execution_count": 20,
   "metadata": {
    "colab": {},
    "colab_type": "code",
    "id": "pNb7jfWg5nL6"
   },
   "outputs": [],
   "source": [
    "# create local datasets at Bob and Alice\n",
    "data_bob = data[0:2].send(bob)\n",
    "target_bob = target[0:2].send(bob)\n",
    "\n",
    "data_alice = data[2:4].send(alice)\n",
    "target_alice = target[2:4].send(alice)"
   ]
  },
  {
   "cell_type": "code",
   "execution_count": 21,
   "metadata": {
    "colab": {
     "base_uri": "https://localhost:8080/",
     "height": 87
    },
    "colab_type": "code",
    "executionInfo": {
     "elapsed": 247,
     "status": "ok",
     "timestamp": 1562091475460,
     "user": {
      "displayName": "Gharib Gharibi",
      "photoUrl": "https://lh3.googleusercontent.com/-jKnQDkmhZKk/AAAAAAAAAAI/AAAAAAAAAPw/6ddzRde_d0Q/s64/photo.jpg",
      "userId": "12269101840630561007"
     },
     "user_tz": 300
    },
    "id": "jY3xup6N32aV",
    "outputId": "978db7e1-2f9d-48ff-bf57-aaebb830d42a"
   },
   "outputs": [
    {
     "data": {
      "text/plain": [
       "[((Wrapper)>[PointerTensor | me:68689154551 -> bob:78066767772],\n",
       "  (Wrapper)>[PointerTensor | me:98145621379 -> bob:41728598389]),\n",
       " ((Wrapper)>[PointerTensor | me:80222381366 -> alice:85677510965],\n",
       "  (Wrapper)>[PointerTensor | me:65633943407 -> alice:61996087797])]"
      ]
     },
     "execution_count": 21,
     "metadata": {},
     "output_type": "execute_result"
    }
   ],
   "source": [
    "datasets = [(data_bob, target_bob), (data_alice, target_alice)]\n",
    "datasets"
   ]
  },
  {
   "cell_type": "code",
   "execution_count": 22,
   "metadata": {
    "colab": {},
    "colab_type": "code",
    "id": "sQHrq9Mo32aX"
   },
   "outputs": [],
   "source": [
    "def train(iterations=1):\n",
    "\n",
    "    model = nn.Linear(2,1)\n",
    "    opt = optim.SGD(params=model.parameters(), lr=0.1)\n",
    "    \n",
    "    for iter in range(iterations):\n",
    "\n",
    "        for _data, _target in datasets:\n",
    "\n",
    "            # send model to the data\n",
    "            model = model.send(_data.location)\n",
    "\n",
    "            # do training on the remote machine\n",
    "            opt.zero_grad()\n",
    "            pred = model(_data)\n",
    "            loss = ((pred - _target)**2).mean()\n",
    "            loss.backward()\n",
    "            opt.step()\n",
    "\n",
    "            # get smarter model back\n",
    "            model = model.get()\n",
    "\n",
    "            print(loss.get())"
   ]
  },
  {
   "cell_type": "code",
   "execution_count": 25,
   "metadata": {
    "colab": {
     "base_uri": "https://localhost:8080/",
     "height": 52
    },
    "colab_type": "code",
    "executionInfo": {
     "elapsed": 324,
     "status": "ok",
     "timestamp": 1562092469025,
     "user": {
      "displayName": "Gharib Gharibi",
      "photoUrl": "https://lh3.googleusercontent.com/-jKnQDkmhZKk/AAAAAAAAAAI/AAAAAAAAAPw/6ddzRde_d0Q/s64/photo.jpg",
      "userId": "12269101840630561007"
     },
     "user_tz": 300
    },
    "id": "Dk9s6DQU32aY",
    "outputId": "c207b47c-844d-47be-df1e-62c82cb49d1f"
   },
   "outputs": [
    {
     "name": "stdout",
     "output_type": "stream",
     "text": [
      "tensor(1.9346, requires_grad=True)\n",
      "tensor(0.2582, requires_grad=True)\n",
      "tensor(0.8223, requires_grad=True)\n",
      "tensor(0.3532, requires_grad=True)\n",
      "tensor(0.4425, requires_grad=True)\n",
      "tensor(0.3549, requires_grad=True)\n",
      "tensor(0.2826, requires_grad=True)\n",
      "tensor(0.3174, requires_grad=True)\n",
      "tensor(0.2006, requires_grad=True)\n",
      "tensor(0.2699, requires_grad=True)\n",
      "tensor(0.1510, requires_grad=True)\n",
      "tensor(0.2242, requires_grad=True)\n",
      "tensor(0.1173, requires_grad=True)\n",
      "tensor(0.1843, requires_grad=True)\n",
      "tensor(0.0926, requires_grad=True)\n",
      "tensor(0.1508, requires_grad=True)\n",
      "tensor(0.0738, requires_grad=True)\n",
      "tensor(0.1232, requires_grad=True)\n",
      "tensor(0.0591, requires_grad=True)\n",
      "tensor(0.1007, requires_grad=True)\n"
     ]
    }
   ],
   "source": [
    "train()"
   ]
  },
  {
   "cell_type": "markdown",
   "metadata": {
    "colab_type": "text",
    "id": "HXE00DaS32ad"
   },
   "source": [
    "# Lesson: Advanced Remote Execution Tools\n",
    "\n",
    "In the last section we trained a toy model using Federated Learning. We did this by calling .send() and .get() on our model, sending it to the location of training data, updating it, and then bringing it back. However, at the end of the example we realized that we needed to go a bit further to protect people privacy. Namely, we want to average the gradients BEFORE calling .get(). That way, we won't ever see anyone's exact gradient (thus better protecting their privacy!!!)\n",
    "\n",
    "But, in order to do this, we need a few more pieces:\n",
    "\n",
    "- use a pointer to send a Tensor directly to another worker\n",
    "\n",
    "And in addition, while we're here, we're going to learn about a few more advanced tensor operations as well which will help us both with this example and a few in the future!"
   ]
  },
  {
   "cell_type": "code",
   "execution_count": 26,
   "metadata": {
    "colab": {
     "base_uri": "https://localhost:8080/",
     "height": 35
    },
    "colab_type": "code",
    "executionInfo": {
     "elapsed": 255,
     "status": "ok",
     "timestamp": 1562093262419,
     "user": {
      "displayName": "Gharib Gharibi",
      "photoUrl": "https://lh3.googleusercontent.com/-jKnQDkmhZKk/AAAAAAAAAAI/AAAAAAAAAPw/6ddzRde_d0Q/s64/photo.jpg",
      "userId": "12269101840630561007"
     },
     "user_tz": 300
    },
    "id": "6ka4I65232ae",
    "outputId": "18a27142-3f59-46bc-ba2c-1748400b9787"
   },
   "outputs": [
    {
     "data": {
      "text/plain": [
       "<VirtualWorker id:alice #objects:0>"
      ]
     },
     "execution_count": 26,
     "metadata": {},
     "output_type": "execute_result"
    }
   ],
   "source": [
    "bob.clear_objects()\n",
    "alice.clear_objects()"
   ]
  },
  {
   "cell_type": "code",
   "execution_count": 0,
   "metadata": {
    "colab": {},
    "colab_type": "code",
    "id": "sgHmOrCn32ag"
   },
   "outputs": [],
   "source": [
    "x = th.tensor([1,2,3,4,5]).send(bob)"
   ]
  },
  {
   "cell_type": "code",
   "execution_count": 0,
   "metadata": {
    "colab": {},
    "colab_type": "code",
    "id": "wEERr6do32ah"
   },
   "outputs": [],
   "source": [
    "x = x.send(alice)"
   ]
  },
  {
   "cell_type": "code",
   "execution_count": 0,
   "metadata": {
    "colab": {
     "base_uri": "https://localhost:8080/",
     "height": 35
    },
    "colab_type": "code",
    "executionInfo": {
     "elapsed": 266,
     "status": "ok",
     "timestamp": 1562093268070,
     "user": {
      "displayName": "Gharib Gharibi",
      "photoUrl": "https://lh3.googleusercontent.com/-jKnQDkmhZKk/AAAAAAAAAAI/AAAAAAAAAPw/6ddzRde_d0Q/s64/photo.jpg",
      "userId": "12269101840630561007"
     },
     "user_tz": 300
    },
    "id": "JowgsXB832ah",
    "outputId": "8480a73b-ee73-4e7c-80f5-5ff9b43b245d"
   },
   "outputs": [
    {
     "data": {
      "text/plain": [
       "{681755396: tensor([1, 2, 3, 4, 5])}"
      ]
     },
     "execution_count": 5,
     "metadata": {
      "tags": []
     },
     "output_type": "execute_result"
    }
   ],
   "source": [
    "bob._objects"
   ]
  },
  {
   "cell_type": "code",
   "execution_count": 0,
   "metadata": {
    "colab": {
     "base_uri": "https://localhost:8080/",
     "height": 35
    },
    "colab_type": "code",
    "executionInfo": {
     "elapsed": 244,
     "status": "ok",
     "timestamp": 1562093270066,
     "user": {
      "displayName": "Gharib Gharibi",
      "photoUrl": "https://lh3.googleusercontent.com/-jKnQDkmhZKk/AAAAAAAAAAI/AAAAAAAAAPw/6ddzRde_d0Q/s64/photo.jpg",
      "userId": "12269101840630561007"
     },
     "user_tz": 300
    },
    "id": "SLmoHyVm32aj",
    "outputId": "5fa1d54f-4af3-408e-df58-d50f2d4ad88c"
   },
   "outputs": [
    {
     "data": {
      "text/plain": [
       "{59232059007: (Wrapper)>[PointerTensor | alice:59232059007 -> bob:681755396]}"
      ]
     },
     "execution_count": 6,
     "metadata": {
      "tags": []
     },
     "output_type": "execute_result"
    }
   ],
   "source": [
    "alice._objects"
   ]
  },
  {
   "cell_type": "code",
   "execution_count": 0,
   "metadata": {
    "colab": {},
    "colab_type": "code",
    "id": "UeLUMyFe32ak"
   },
   "outputs": [],
   "source": [
    "y = x + x"
   ]
  },
  {
   "cell_type": "code",
   "execution_count": 0,
   "metadata": {
    "colab": {
     "base_uri": "https://localhost:8080/",
     "height": 35
    },
    "colab_type": "code",
    "executionInfo": {
     "elapsed": 264,
     "status": "ok",
     "timestamp": 1562093275021,
     "user": {
      "displayName": "Gharib Gharibi",
      "photoUrl": "https://lh3.googleusercontent.com/-jKnQDkmhZKk/AAAAAAAAAAI/AAAAAAAAAPw/6ddzRde_d0Q/s64/photo.jpg",
      "userId": "12269101840630561007"
     },
     "user_tz": 300
    },
    "id": "Fhu4IRAF32al",
    "outputId": "370f021e-570f-4c95-dc52-de4386207647"
   },
   "outputs": [
    {
     "data": {
      "text/plain": [
       "(Wrapper)>[PointerTensor | me:35076229352 -> alice:14700048988]"
      ]
     },
     "execution_count": 8,
     "metadata": {
      "tags": []
     },
     "output_type": "execute_result"
    }
   ],
   "source": [
    "y"
   ]
  },
  {
   "cell_type": "code",
   "execution_count": 0,
   "metadata": {
    "colab": {
     "base_uri": "https://localhost:8080/",
     "height": 35
    },
    "colab_type": "code",
    "executionInfo": {
     "elapsed": 261,
     "status": "ok",
     "timestamp": 1562093567533,
     "user": {
      "displayName": "Gharib Gharibi",
      "photoUrl": "https://lh3.googleusercontent.com/-jKnQDkmhZKk/AAAAAAAAAAI/AAAAAAAAAPw/6ddzRde_d0Q/s64/photo.jpg",
      "userId": "12269101840630561007"
     },
     "user_tz": 300
    },
    "id": "rcrIKECv32am",
    "outputId": "07a093a5-5ba3-46c3-e713-36df9c401aa4"
   },
   "outputs": [
    {
     "data": {
      "text/plain": [
       "{681755396: tensor([1, 2, 3, 4, 5]), 61259427323: tensor([ 2,  4,  6,  8, 10])}"
      ]
     },
     "execution_count": 9,
     "metadata": {
      "tags": []
     },
     "output_type": "execute_result"
    }
   ],
   "source": [
    "bob._objects"
   ]
  },
  {
   "cell_type": "code",
   "execution_count": 0,
   "metadata": {
    "colab": {
     "base_uri": "https://localhost:8080/",
     "height": 52
    },
    "colab_type": "code",
    "executionInfo": {
     "elapsed": 249,
     "status": "ok",
     "timestamp": 1562093569004,
     "user": {
      "displayName": "Gharib Gharibi",
      "photoUrl": "https://lh3.googleusercontent.com/-jKnQDkmhZKk/AAAAAAAAAAI/AAAAAAAAAPw/6ddzRde_d0Q/s64/photo.jpg",
      "userId": "12269101840630561007"
     },
     "user_tz": 300
    },
    "id": "NMzYB3UO32an",
    "outputId": "2d2c8baf-e32f-4ead-d3cd-d1299c2e50ff"
   },
   "outputs": [
    {
     "data": {
      "text/plain": [
       "{14700048988: (Wrapper)>[PointerTensor | alice:14700048988 -> bob:61259427323],\n",
       " 59232059007: (Wrapper)>[PointerTensor | alice:59232059007 -> bob:681755396]}"
      ]
     },
     "execution_count": 10,
     "metadata": {
      "tags": []
     },
     "output_type": "execute_result"
    }
   ],
   "source": [
    "alice._objects"
   ]
  },
  {
   "cell_type": "code",
   "execution_count": 0,
   "metadata": {
    "colab": {},
    "colab_type": "code",
    "id": "4Zx0cBw032ao"
   },
   "outputs": [],
   "source": [
    "jon = sy.VirtualWorker(hook, id=\"jon\")"
   ]
  },
  {
   "cell_type": "code",
   "execution_count": 0,
   "metadata": {
    "colab": {
     "base_uri": "https://localhost:8080/",
     "height": 35
    },
    "colab_type": "code",
    "executionInfo": {
     "elapsed": 256,
     "status": "ok",
     "timestamp": 1562093636602,
     "user": {
      "displayName": "Gharib Gharibi",
      "photoUrl": "https://lh3.googleusercontent.com/-jKnQDkmhZKk/AAAAAAAAAAI/AAAAAAAAAPw/6ddzRde_d0Q/s64/photo.jpg",
      "userId": "12269101840630561007"
     },
     "user_tz": 300
    },
    "id": "6wzp_D8-32aq",
    "outputId": "55d5b7a2-856f-4a4a-f8e5-d7a98db99ff3"
   },
   "outputs": [
    {
     "data": {
      "text/plain": [
       "<VirtualWorker id:alice #objects:0>"
      ]
     },
     "execution_count": 18,
     "metadata": {
      "tags": []
     },
     "output_type": "execute_result"
    }
   ],
   "source": [
    "bob.clear_objects()\n",
    "alice.clear_objects()\n",
    "\n"
   ]
  },
  {
   "cell_type": "code",
   "execution_count": 0,
   "metadata": {
    "colab": {},
    "colab_type": "code",
    "id": "FxiPcGMB32aq"
   },
   "outputs": [],
   "source": [
    "x = th.tensor([1,2,3,4,5]).send(bob).send(alice)\n",
    "y = th.tensor([1,2,3,4,5]).send(bob).send(jon)"
   ]
  },
  {
   "cell_type": "code",
   "execution_count": 0,
   "metadata": {
    "colab": {
     "base_uri": "https://localhost:8080/",
     "height": 331
    },
    "colab_type": "code",
    "executionInfo": {
     "elapsed": 518,
     "status": "error",
     "timestamp": 1562093642940,
     "user": {
      "displayName": "Gharib Gharibi",
      "photoUrl": "https://lh3.googleusercontent.com/-jKnQDkmhZKk/AAAAAAAAAAI/AAAAAAAAAPw/6ddzRde_d0Q/s64/photo.jpg",
      "userId": "12269101840630561007"
     },
     "user_tz": 300
    },
    "id": "Z2dnGe1V32as",
    "outputId": "c492842d-0fa2-4dac-c76e-a6a6446408c2"
   },
   "outputs": [
    {
     "ename": "TensorsNotCollocatedException",
     "evalue": "ignored",
     "output_type": "error",
     "traceback": [
      "\u001b[0;31m---------------------------------------------------------------------------\u001b[0m",
      "\u001b[0;31mTensorsNotCollocatedException\u001b[0m             Traceback (most recent call last)",
      "\u001b[0;32m<ipython-input-20-8c8f78e0676d>\u001b[0m in \u001b[0;36m<module>\u001b[0;34m()\u001b[0m\n\u001b[0;32m----> 1\u001b[0;31m \u001b[0mz\u001b[0m \u001b[0;34m=\u001b[0m \u001b[0mx\u001b[0m \u001b[0;34m+\u001b[0m \u001b[0my\u001b[0m\u001b[0;34m\u001b[0m\u001b[0;34m\u001b[0m\u001b[0m\n\u001b[0m",
      "\u001b[0;32m/usr/local/lib/python3.6/dist-packages/syft/frameworks/torch/hook/hook.py\u001b[0m in \u001b[0;36moverloaded_native_method\u001b[0;34m(self, *args, **kwargs)\u001b[0m\n\u001b[1;32m    672\u001b[0m                 \u001b[0;31m# Send the new command to the appropriate class and get the response\u001b[0m\u001b[0;34m\u001b[0m\u001b[0;34m\u001b[0m\u001b[0;34m\u001b[0m\u001b[0m\n\u001b[1;32m    673\u001b[0m                 \u001b[0mmethod\u001b[0m \u001b[0;34m=\u001b[0m \u001b[0mgetattr\u001b[0m\u001b[0;34m(\u001b[0m\u001b[0mnew_self\u001b[0m\u001b[0;34m,\u001b[0m \u001b[0mmethod_name\u001b[0m\u001b[0;34m)\u001b[0m\u001b[0;34m\u001b[0m\u001b[0;34m\u001b[0m\u001b[0m\n\u001b[0;32m--> 674\u001b[0;31m                 \u001b[0mresponse\u001b[0m \u001b[0;34m=\u001b[0m \u001b[0mmethod\u001b[0m\u001b[0;34m(\u001b[0m\u001b[0;34m*\u001b[0m\u001b[0mnew_args\u001b[0m\u001b[0;34m,\u001b[0m \u001b[0;34m**\u001b[0m\u001b[0mnew_kwargs\u001b[0m\u001b[0;34m)\u001b[0m\u001b[0;34m\u001b[0m\u001b[0;34m\u001b[0m\u001b[0m\n\u001b[0m\u001b[1;32m    675\u001b[0m \u001b[0;34m\u001b[0m\u001b[0m\n\u001b[1;32m    676\u001b[0m                 \u001b[0;31m# For inplace methods, just directly return self\u001b[0m\u001b[0;34m\u001b[0m\u001b[0;34m\u001b[0m\u001b[0;34m\u001b[0m\u001b[0m\n",
      "\u001b[0;32m/usr/local/lib/python3.6/dist-packages/syft/frameworks/torch/hook/hook.py\u001b[0m in \u001b[0;36moverloaded_pointer_method\u001b[0;34m(self, *args, **kwargs)\u001b[0m\n\u001b[1;32m    503\u001b[0m                 \u001b[0;32mif\u001b[0m \u001b[0misinstance\u001b[0m\u001b[0;34m(\u001b[0m\u001b[0margs\u001b[0m\u001b[0;34m[\u001b[0m\u001b[0;36m0\u001b[0m\u001b[0;34m]\u001b[0m\u001b[0;34m,\u001b[0m \u001b[0mPointerTensor\u001b[0m\u001b[0;34m)\u001b[0m\u001b[0;34m:\u001b[0m\u001b[0;34m\u001b[0m\u001b[0;34m\u001b[0m\u001b[0m\n\u001b[1;32m    504\u001b[0m                     \u001b[0;32mif\u001b[0m \u001b[0margs\u001b[0m\u001b[0;34m[\u001b[0m\u001b[0;36m0\u001b[0m\u001b[0;34m]\u001b[0m\u001b[0;34m.\u001b[0m\u001b[0mlocation\u001b[0m\u001b[0;34m.\u001b[0m\u001b[0mid\u001b[0m \u001b[0;34m!=\u001b[0m \u001b[0mlocation\u001b[0m\u001b[0;34m.\u001b[0m\u001b[0mid\u001b[0m\u001b[0;34m:\u001b[0m\u001b[0;34m\u001b[0m\u001b[0;34m\u001b[0m\u001b[0m\n\u001b[0;32m--> 505\u001b[0;31m                         \u001b[0;32mraise\u001b[0m \u001b[0mTensorsNotCollocatedException\u001b[0m\u001b[0;34m(\u001b[0m\u001b[0mpointer\u001b[0m\u001b[0;34m,\u001b[0m \u001b[0margs\u001b[0m\u001b[0;34m[\u001b[0m\u001b[0;36m0\u001b[0m\u001b[0;34m]\u001b[0m\u001b[0;34m,\u001b[0m \u001b[0mattr\u001b[0m\u001b[0;34m)\u001b[0m\u001b[0;34m\u001b[0m\u001b[0;34m\u001b[0m\u001b[0m\n\u001b[0m\u001b[1;32m    506\u001b[0m \u001b[0;34m\u001b[0m\u001b[0m\n\u001b[1;32m    507\u001b[0m             \u001b[0;31m# Send the command\u001b[0m\u001b[0;34m\u001b[0m\u001b[0;34m\u001b[0m\u001b[0;34m\u001b[0m\u001b[0m\n",
      "\u001b[0;31mTensorsNotCollocatedException\u001b[0m: You tried to call __add__ involving two tensors which are not on the same machine! One tensor is on <VirtualWorker id:alice #objects:1> while the other is on <VirtualWorker id:jon #objects:1>. Use a combination of .move(), .get(), and/or .send() to co-locate them to the same machine."
     ]
    }
   ],
   "source": [
    "z = x + y"
   ]
  },
  {
   "cell_type": "code",
   "execution_count": 0,
   "metadata": {
    "colab": {
     "base_uri": "https://localhost:8080/",
     "height": 35
    },
    "colab_type": "code",
    "executionInfo": {
     "elapsed": 255,
     "status": "ok",
     "timestamp": 1562093675925,
     "user": {
      "displayName": "Gharib Gharibi",
      "photoUrl": "https://lh3.googleusercontent.com/-jKnQDkmhZKk/AAAAAAAAAAI/AAAAAAAAAPw/6ddzRde_d0Q/s64/photo.jpg",
      "userId": "12269101840630561007"
     },
     "user_tz": 300
    },
    "id": "BZ1Axyhw32at",
    "outputId": "4f11f1b2-5d18-4f24-c1c3-f21f8bdaa507"
   },
   "outputs": [
    {
     "data": {
      "text/plain": [
       "(Wrapper)>[PointerTensor | me:59854104348 -> bob:36602545298]"
      ]
     },
     "execution_count": 21,
     "metadata": {
      "tags": []
     },
     "output_type": "execute_result"
    }
   ],
   "source": [
    "x = x.get() # to get the data back\n",
    "x"
   ]
  },
  {
   "cell_type": "code",
   "execution_count": 0,
   "metadata": {
    "colab": {
     "base_uri": "https://localhost:8080/",
     "height": 35
    },
    "colab_type": "code",
    "executionInfo": {
     "elapsed": 253,
     "status": "ok",
     "timestamp": 1562093733740,
     "user": {
      "displayName": "Gharib Gharibi",
      "photoUrl": "https://lh3.googleusercontent.com/-jKnQDkmhZKk/AAAAAAAAAAI/AAAAAAAAAPw/6ddzRde_d0Q/s64/photo.jpg",
      "userId": "12269101840630561007"
     },
     "user_tz": 300
    },
    "id": "20ZSwIvR32au",
    "outputId": "807b7632-b3d2-4a4f-9f1f-62e425ec8cd0"
   },
   "outputs": [
    {
     "data": {
      "text/plain": [
       "{36602545298: tensor([1, 2, 3, 4, 5]), 89784608003: tensor([1, 2, 3, 4, 5])}"
      ]
     },
     "execution_count": 22,
     "metadata": {
      "tags": []
     },
     "output_type": "execute_result"
    }
   ],
   "source": [
    "bob._objects"
   ]
  },
  {
   "cell_type": "code",
   "execution_count": 0,
   "metadata": {
    "colab": {
     "base_uri": "https://localhost:8080/",
     "height": 35
    },
    "colab_type": "code",
    "executionInfo": {
     "elapsed": 247,
     "status": "ok",
     "timestamp": 1562093735035,
     "user": {
      "displayName": "Gharib Gharibi",
      "photoUrl": "https://lh3.googleusercontent.com/-jKnQDkmhZKk/AAAAAAAAAAI/AAAAAAAAAPw/6ddzRde_d0Q/s64/photo.jpg",
      "userId": "12269101840630561007"
     },
     "user_tz": 300
    },
    "id": "h0SstbeB32av",
    "outputId": "995de1d3-05c5-4106-dd1c-bf7d1f5f1562"
   },
   "outputs": [
    {
     "data": {
      "text/plain": [
       "{}"
      ]
     },
     "execution_count": 23,
     "metadata": {
      "tags": []
     },
     "output_type": "execute_result"
    }
   ],
   "source": [
    "alice._objects"
   ]
  },
  {
   "cell_type": "code",
   "execution_count": 0,
   "metadata": {
    "colab": {
     "base_uri": "https://localhost:8080/",
     "height": 35
    },
    "colab_type": "code",
    "executionInfo": {
     "elapsed": 265,
     "status": "ok",
     "timestamp": 1562093739853,
     "user": {
      "displayName": "Gharib Gharibi",
      "photoUrl": "https://lh3.googleusercontent.com/-jKnQDkmhZKk/AAAAAAAAAAI/AAAAAAAAAPw/6ddzRde_d0Q/s64/photo.jpg",
      "userId": "12269101840630561007"
     },
     "user_tz": 300
    },
    "id": "ApKfwECK32aw",
    "outputId": "ad190fc5-afc5-458d-dbcf-b62690b37ed4"
   },
   "outputs": [
    {
     "data": {
      "text/plain": [
       "tensor([1, 2, 3, 4, 5])"
      ]
     },
     "execution_count": 24,
     "metadata": {
      "tags": []
     },
     "output_type": "execute_result"
    }
   ],
   "source": [
    "x = x.get()\n",
    "x"
   ]
  },
  {
   "cell_type": "code",
   "execution_count": 0,
   "metadata": {
    "colab": {},
    "colab_type": "code",
    "id": "dpy893Th32ax"
   },
   "outputs": [],
   "source": [
    "bob._objects"
   ]
  },
  {
   "cell_type": "markdown",
   "metadata": {
    "colab_type": "text",
    "id": "SJrXi6cD32a9"
   },
   "source": [
    "# Lesson: Pointer Chain Operations"
   ]
  },
  {
   "cell_type": "code",
   "execution_count": 0,
   "metadata": {
    "colab": {
     "base_uri": "https://localhost:8080/",
     "height": 35
    },
    "colab_type": "code",
    "executionInfo": {
     "elapsed": 257,
     "status": "ok",
     "timestamp": 1562094674843,
     "user": {
      "displayName": "Gharib Gharibi",
      "photoUrl": "https://lh3.googleusercontent.com/-jKnQDkmhZKk/AAAAAAAAAAI/AAAAAAAAAPw/6ddzRde_d0Q/s64/photo.jpg",
      "userId": "12269101840630561007"
     },
     "user_tz": 300
    },
    "id": "hSOoUqXc32a-",
    "outputId": "47504c06-e2e2-4cba-e3a0-1c82563625aa"
   },
   "outputs": [
    {
     "data": {
      "text/plain": [
       "<VirtualWorker id:alice #objects:0>"
      ]
     },
     "execution_count": 42,
     "metadata": {
      "tags": []
     },
     "output_type": "execute_result"
    }
   ],
   "source": [
    "bob.clear_objects()\n",
    "alice.clear_objects()"
   ]
  },
  {
   "cell_type": "code",
   "execution_count": 0,
   "metadata": {
    "colab": {},
    "colab_type": "code",
    "id": "mGdyPwMm32a_"
   },
   "outputs": [],
   "source": [
    "x = th.tensor([1,2,3,4,5]).send(bob)"
   ]
  },
  {
   "cell_type": "code",
   "execution_count": 0,
   "metadata": {
    "colab": {
     "base_uri": "https://localhost:8080/",
     "height": 35
    },
    "colab_type": "code",
    "executionInfo": {
     "elapsed": 247,
     "status": "ok",
     "timestamp": 1562094677875,
     "user": {
      "displayName": "Gharib Gharibi",
      "photoUrl": "https://lh3.googleusercontent.com/-jKnQDkmhZKk/AAAAAAAAAAI/AAAAAAAAAPw/6ddzRde_d0Q/s64/photo.jpg",
      "userId": "12269101840630561007"
     },
     "user_tz": 300
    },
    "id": "-3AbIHMB32bA",
    "outputId": "546fe037-23d1-47d5-a465-d7224733e056"
   },
   "outputs": [
    {
     "data": {
      "text/plain": [
       "{36597101211: tensor([1, 2, 3, 4, 5])}"
      ]
     },
     "execution_count": 44,
     "metadata": {
      "tags": []
     },
     "output_type": "execute_result"
    }
   ],
   "source": [
    "bob._objects"
   ]
  },
  {
   "cell_type": "code",
   "execution_count": 0,
   "metadata": {
    "colab": {
     "base_uri": "https://localhost:8080/",
     "height": 35
    },
    "colab_type": "code",
    "executionInfo": {
     "elapsed": 264,
     "status": "ok",
     "timestamp": 1562094679549,
     "user": {
      "displayName": "Gharib Gharibi",
      "photoUrl": "https://lh3.googleusercontent.com/-jKnQDkmhZKk/AAAAAAAAAAI/AAAAAAAAAPw/6ddzRde_d0Q/s64/photo.jpg",
      "userId": "12269101840630561007"
     },
     "user_tz": 300
    },
    "id": "nhAm1Sak32bB",
    "outputId": "e60b1b7e-a38e-4753-9f89-2764d750911f"
   },
   "outputs": [
    {
     "data": {
      "text/plain": [
       "{}"
      ]
     },
     "execution_count": 45,
     "metadata": {
      "tags": []
     },
     "output_type": "execute_result"
    }
   ],
   "source": [
    "alice._objects"
   ]
  },
  {
   "cell_type": "code",
   "execution_count": 0,
   "metadata": {
    "colab": {
     "base_uri": "https://localhost:8080/",
     "height": 35
    },
    "colab_type": "code",
    "executionInfo": {
     "elapsed": 253,
     "status": "ok",
     "timestamp": 1562094683004,
     "user": {
      "displayName": "Gharib Gharibi",
      "photoUrl": "https://lh3.googleusercontent.com/-jKnQDkmhZKk/AAAAAAAAAAI/AAAAAAAAAPw/6ddzRde_d0Q/s64/photo.jpg",
      "userId": "12269101840630561007"
     },
     "user_tz": 300
    },
    "id": "nZsh55YM32bG",
    "outputId": "c9462c2f-655a-4cfe-91b5-3cf1bd612d47"
   },
   "outputs": [
    {
     "data": {
      "text/plain": [
       "(Wrapper)>[PointerTensor | me:16851411436 -> alice:16851411436]"
      ]
     },
     "execution_count": 46,
     "metadata": {
      "tags": []
     },
     "output_type": "execute_result"
    }
   ],
   "source": [
    "x.move(alice)"
   ]
  },
  {
   "cell_type": "code",
   "execution_count": 0,
   "metadata": {
    "colab": {
     "base_uri": "https://localhost:8080/",
     "height": 35
    },
    "colab_type": "code",
    "executionInfo": {
     "elapsed": 265,
     "status": "ok",
     "timestamp": 1562094700155,
     "user": {
      "displayName": "Gharib Gharibi",
      "photoUrl": "https://lh3.googleusercontent.com/-jKnQDkmhZKk/AAAAAAAAAAI/AAAAAAAAAPw/6ddzRde_d0Q/s64/photo.jpg",
      "userId": "12269101840630561007"
     },
     "user_tz": 300
    },
    "id": "l1fVHFbqGXL1",
    "outputId": "c8312d6c-9185-490a-defd-1a91b1963b19"
   },
   "outputs": [
    {
     "data": {
      "text/plain": [
       "(Wrapper)>[PointerTensor | me:16851411436 -> alice:16851411436]"
      ]
     },
     "execution_count": 47,
     "metadata": {
      "tags": []
     },
     "output_type": "execute_result"
    }
   ],
   "source": [
    "x"
   ]
  },
  {
   "cell_type": "code",
   "execution_count": 0,
   "metadata": {
    "colab": {
     "base_uri": "https://localhost:8080/",
     "height": 35
    },
    "colab_type": "code",
    "executionInfo": {
     "elapsed": 328,
     "status": "ok",
     "timestamp": 1562094704604,
     "user": {
      "displayName": "Gharib Gharibi",
      "photoUrl": "https://lh3.googleusercontent.com/-jKnQDkmhZKk/AAAAAAAAAAI/AAAAAAAAAPw/6ddzRde_d0Q/s64/photo.jpg",
      "userId": "12269101840630561007"
     },
     "user_tz": 300
    },
    "id": "J4SvuZBz32bI",
    "outputId": "a25c3fb0-1c59-4c39-ecc4-b07058613c4e"
   },
   "outputs": [
    {
     "data": {
      "text/plain": [
       "{}"
      ]
     },
     "execution_count": 48,
     "metadata": {
      "tags": []
     },
     "output_type": "execute_result"
    }
   ],
   "source": [
    "bob._objects"
   ]
  },
  {
   "cell_type": "code",
   "execution_count": 0,
   "metadata": {
    "colab": {
     "base_uri": "https://localhost:8080/",
     "height": 35
    },
    "colab_type": "code",
    "executionInfo": {
     "elapsed": 245,
     "status": "ok",
     "timestamp": 1562094707320,
     "user": {
      "displayName": "Gharib Gharibi",
      "photoUrl": "https://lh3.googleusercontent.com/-jKnQDkmhZKk/AAAAAAAAAAI/AAAAAAAAAPw/6ddzRde_d0Q/s64/photo.jpg",
      "userId": "12269101840630561007"
     },
     "user_tz": 300
    },
    "id": "7cjB8Yz332bJ",
    "outputId": "21a1e8a4-1ea9-4f8c-c1fd-4ec77e2050aa"
   },
   "outputs": [
    {
     "data": {
      "text/plain": [
       "{16851411436: tensor([1, 2, 3, 4, 5])}"
      ]
     },
     "execution_count": 49,
     "metadata": {
      "tags": []
     },
     "output_type": "execute_result"
    }
   ],
   "source": [
    "alice._objects"
   ]
  },
  {
   "cell_type": "code",
   "execution_count": 0,
   "metadata": {
    "colab": {
     "base_uri": "https://localhost:8080/",
     "height": 35
    },
    "colab_type": "code",
    "executionInfo": {
     "elapsed": 247,
     "status": "ok",
     "timestamp": 1562094717225,
     "user": {
      "displayName": "Gharib Gharibi",
      "photoUrl": "https://lh3.googleusercontent.com/-jKnQDkmhZKk/AAAAAAAAAAI/AAAAAAAAAPw/6ddzRde_d0Q/s64/photo.jpg",
      "userId": "12269101840630561007"
     },
     "user_tz": 300
    },
    "id": "vPnBNI7Y32bL",
    "outputId": "2c3deb47-ce7d-48f8-f215-e2322a85172e"
   },
   "outputs": [
    {
     "data": {
      "text/plain": [
       "<VirtualWorker id:alice #objects:0>"
      ]
     },
     "execution_count": 50,
     "metadata": {
      "tags": []
     },
     "output_type": "execute_result"
    }
   ],
   "source": [
    "bob.clear_objects()\n",
    "alice.clear_objects()"
   ]
  },
  {
   "cell_type": "code",
   "execution_count": 0,
   "metadata": {
    "colab": {},
    "colab_type": "code",
    "id": "ieR9ahRF32bL"
   },
   "outputs": [],
   "source": [
    "x = th.tensor([1,2,3,4,5]).send(bob).send(alice)"
   ]
  },
  {
   "cell_type": "code",
   "execution_count": 0,
   "metadata": {
    "colab": {
     "base_uri": "https://localhost:8080/",
     "height": 35
    },
    "colab_type": "code",
    "executionInfo": {
     "elapsed": 268,
     "status": "ok",
     "timestamp": 1562094724461,
     "user": {
      "displayName": "Gharib Gharibi",
      "photoUrl": "https://lh3.googleusercontent.com/-jKnQDkmhZKk/AAAAAAAAAAI/AAAAAAAAAPw/6ddzRde_d0Q/s64/photo.jpg",
      "userId": "12269101840630561007"
     },
     "user_tz": 300
    },
    "id": "OIpjr1gX32bM",
    "outputId": "71a835bb-4e4b-44d0-ef16-d0ee7ea18a80"
   },
   "outputs": [
    {
     "data": {
      "text/plain": [
       "{81869613150: tensor([1, 2, 3, 4, 5])}"
      ]
     },
     "execution_count": 52,
     "metadata": {
      "tags": []
     },
     "output_type": "execute_result"
    }
   ],
   "source": [
    "bob._objects"
   ]
  },
  {
   "cell_type": "code",
   "execution_count": 0,
   "metadata": {
    "colab": {
     "base_uri": "https://localhost:8080/",
     "height": 35
    },
    "colab_type": "code",
    "executionInfo": {
     "elapsed": 261,
     "status": "ok",
     "timestamp": 1562094726401,
     "user": {
      "displayName": "Gharib Gharibi",
      "photoUrl": "https://lh3.googleusercontent.com/-jKnQDkmhZKk/AAAAAAAAAAI/AAAAAAAAAPw/6ddzRde_d0Q/s64/photo.jpg",
      "userId": "12269101840630561007"
     },
     "user_tz": 300
    },
    "id": "OU6dQO7P32bN",
    "outputId": "f2aa83d4-2f34-40cd-9b0c-da0f9e7639aa"
   },
   "outputs": [
    {
     "data": {
      "text/plain": [
       "{99685627431: (Wrapper)>[PointerTensor | alice:99685627431 -> bob:81869613150]}"
      ]
     },
     "execution_count": 53,
     "metadata": {
      "tags": []
     },
     "output_type": "execute_result"
    }
   ],
   "source": [
    "alice._objects"
   ]
  },
  {
   "cell_type": "code",
   "execution_count": 0,
   "metadata": {
    "colab": {
     "base_uri": "https://localhost:8080/",
     "height": 35
    },
    "colab_type": "code",
    "executionInfo": {
     "elapsed": 263,
     "status": "ok",
     "timestamp": 1562094761700,
     "user": {
      "displayName": "Gharib Gharibi",
      "photoUrl": "https://lh3.googleusercontent.com/-jKnQDkmhZKk/AAAAAAAAAAI/AAAAAAAAAPw/6ddzRde_d0Q/s64/photo.jpg",
      "userId": "12269101840630561007"
     },
     "user_tz": 300
    },
    "id": "6MX-JD_wGm7d",
    "outputId": "de495134-4f72-4d06-afaf-a9dee5043bbc"
   },
   "outputs": [
    {
     "data": {
      "text/plain": [
       "(Wrapper)>[PointerTensor | me:83688287202 -> alice:99685627431]"
      ]
     },
     "execution_count": 54,
     "metadata": {
      "tags": []
     },
     "output_type": "execute_result"
    }
   ],
   "source": [
    "x"
   ]
  },
  {
   "cell_type": "code",
   "execution_count": 0,
   "metadata": {
    "colab": {
     "base_uri": "https://localhost:8080/",
     "height": 35
    },
    "colab_type": "code",
    "executionInfo": {
     "elapsed": 259,
     "status": "ok",
     "timestamp": 1562094776886,
     "user": {
      "displayName": "Gharib Gharibi",
      "photoUrl": "https://lh3.googleusercontent.com/-jKnQDkmhZKk/AAAAAAAAAAI/AAAAAAAAAPw/6ddzRde_d0Q/s64/photo.jpg",
      "userId": "12269101840630561007"
     },
     "user_tz": 300
    },
    "id": "RPUMUbQM32bO",
    "outputId": "a4e7bc28-32af-488b-b9ce-3935ac319799"
   },
   "outputs": [
    {
     "data": {
      "text/plain": [
       "(Wrapper)>[PointerTensor | me:83688287202 -> alice:99685627431]"
      ]
     },
     "execution_count": 55,
     "metadata": {
      "tags": []
     },
     "output_type": "execute_result"
    }
   ],
   "source": [
    "x.remote_get() # inplace operation"
   ]
  },
  {
   "cell_type": "code",
   "execution_count": 0,
   "metadata": {
    "colab": {
     "base_uri": "https://localhost:8080/",
     "height": 35
    },
    "colab_type": "code",
    "executionInfo": {
     "elapsed": 249,
     "status": "ok",
     "timestamp": 1562094784144,
     "user": {
      "displayName": "Gharib Gharibi",
      "photoUrl": "https://lh3.googleusercontent.com/-jKnQDkmhZKk/AAAAAAAAAAI/AAAAAAAAAPw/6ddzRde_d0Q/s64/photo.jpg",
      "userId": "12269101840630561007"
     },
     "user_tz": 300
    },
    "id": "yHONHSod32bP",
    "outputId": "af076c6c-30ba-4c2c-a3e3-f9644d785832"
   },
   "outputs": [
    {
     "data": {
      "text/plain": [
       "{}"
      ]
     },
     "execution_count": 56,
     "metadata": {
      "tags": []
     },
     "output_type": "execute_result"
    }
   ],
   "source": [
    "bob._objects"
   ]
  },
  {
   "cell_type": "code",
   "execution_count": 0,
   "metadata": {
    "colab": {
     "base_uri": "https://localhost:8080/",
     "height": 35
    },
    "colab_type": "code",
    "executionInfo": {
     "elapsed": 265,
     "status": "ok",
     "timestamp": 1562094785999,
     "user": {
      "displayName": "Gharib Gharibi",
      "photoUrl": "https://lh3.googleusercontent.com/-jKnQDkmhZKk/AAAAAAAAAAI/AAAAAAAAAPw/6ddzRde_d0Q/s64/photo.jpg",
      "userId": "12269101840630561007"
     },
     "user_tz": 300
    },
    "id": "hGZvk6mu32bQ",
    "outputId": "e0d939d3-2780-47d1-dc2e-abfd2a6284d0"
   },
   "outputs": [
    {
     "data": {
      "text/plain": [
       "{99685627431: tensor([1, 2, 3, 4, 5])}"
      ]
     },
     "execution_count": 57,
     "metadata": {
      "tags": []
     },
     "output_type": "execute_result"
    }
   ],
   "source": [
    "alice._objects"
   ]
  },
  {
   "cell_type": "code",
   "execution_count": 0,
   "metadata": {
    "colab": {
     "base_uri": "https://localhost:8080/",
     "height": 35
    },
    "colab_type": "code",
    "executionInfo": {
     "elapsed": 255,
     "status": "ok",
     "timestamp": 1562094793371,
     "user": {
      "displayName": "Gharib Gharibi",
      "photoUrl": "https://lh3.googleusercontent.com/-jKnQDkmhZKk/AAAAAAAAAAI/AAAAAAAAAPw/6ddzRde_d0Q/s64/photo.jpg",
      "userId": "12269101840630561007"
     },
     "user_tz": 300
    },
    "id": "fYAdCLa-32bR",
    "outputId": "9284532e-6f81-43ae-d903-acae415f9955"
   },
   "outputs": [
    {
     "data": {
      "text/plain": [
       "(Wrapper)>[PointerTensor | me:83688287202 -> bob:83688287202]"
      ]
     },
     "execution_count": 58,
     "metadata": {
      "tags": []
     },
     "output_type": "execute_result"
    }
   ],
   "source": [
    "x.move(bob)"
   ]
  },
  {
   "cell_type": "code",
   "execution_count": 0,
   "metadata": {
    "colab": {
     "base_uri": "https://localhost:8080/",
     "height": 35
    },
    "colab_type": "code",
    "executionInfo": {
     "elapsed": 254,
     "status": "ok",
     "timestamp": 1562094795424,
     "user": {
      "displayName": "Gharib Gharibi",
      "photoUrl": "https://lh3.googleusercontent.com/-jKnQDkmhZKk/AAAAAAAAAAI/AAAAAAAAAPw/6ddzRde_d0Q/s64/photo.jpg",
      "userId": "12269101840630561007"
     },
     "user_tz": 300
    },
    "id": "TXMLZOo132bS",
    "outputId": "40172c4f-b34a-48b8-e9b6-eff794f42370"
   },
   "outputs": [
    {
     "data": {
      "text/plain": [
       "(Wrapper)>[PointerTensor | me:83688287202 -> bob:83688287202]"
      ]
     },
     "execution_count": 59,
     "metadata": {
      "tags": []
     },
     "output_type": "execute_result"
    }
   ],
   "source": [
    "x"
   ]
  },
  {
   "cell_type": "code",
   "execution_count": 0,
   "metadata": {
    "colab": {
     "base_uri": "https://localhost:8080/",
     "height": 35
    },
    "colab_type": "code",
    "executionInfo": {
     "elapsed": 242,
     "status": "ok",
     "timestamp": 1562094799180,
     "user": {
      "displayName": "Gharib Gharibi",
      "photoUrl": "https://lh3.googleusercontent.com/-jKnQDkmhZKk/AAAAAAAAAAI/AAAAAAAAAPw/6ddzRde_d0Q/s64/photo.jpg",
      "userId": "12269101840630561007"
     },
     "user_tz": 300
    },
    "id": "jCUBfUux32bT",
    "outputId": "e83ad26e-7880-4d61-8e3f-b8149d9ccc58"
   },
   "outputs": [
    {
     "data": {
      "text/plain": [
       "{83688287202: tensor([1, 2, 3, 4, 5])}"
      ]
     },
     "execution_count": 60,
     "metadata": {
      "tags": []
     },
     "output_type": "execute_result"
    }
   ],
   "source": [
    "bob._objects"
   ]
  },
  {
   "cell_type": "code",
   "execution_count": 0,
   "metadata": {
    "colab": {
     "base_uri": "https://localhost:8080/",
     "height": 35
    },
    "colab_type": "code",
    "executionInfo": {
     "elapsed": 259,
     "status": "ok",
     "timestamp": 1562094801038,
     "user": {
      "displayName": "Gharib Gharibi",
      "photoUrl": "https://lh3.googleusercontent.com/-jKnQDkmhZKk/AAAAAAAAAAI/AAAAAAAAAPw/6ddzRde_d0Q/s64/photo.jpg",
      "userId": "12269101840630561007"
     },
     "user_tz": 300
    },
    "id": "cDEkUxA132bT",
    "outputId": "d2990898-6672-4802-fcea-b472b4eecbd2"
   },
   "outputs": [
    {
     "data": {
      "text/plain": [
       "{}"
      ]
     },
     "execution_count": 61,
     "metadata": {
      "tags": []
     },
     "output_type": "execute_result"
    }
   ],
   "source": [
    "alice._objects"
   ]
  },
  {
   "cell_type": "markdown",
   "metadata": {
    "colab_type": "text",
    "id": "eIDu2kanHD7x"
   },
   "source": [
    "**Exercise 1:**\n",
    "\n",
    "- Create a toy dataset\n",
    "- Create a toy linear model\n",
    "- Train the dataset using Federated Learning, but do not share the gradiant with the main server, instead use the move function to send the gradients to one of the participating workers, aggregate the model, then send the final model to the main server (i.e., local worker).\n",
    "\n",
    "\n",
    "\n",
    "---\n",
    "\n",
    "\n",
    "**Exercise 2:**\n",
    "\n",
    "While exercise 1 illustrates a good example of preseving privacy in FL, we still had to expose the gradients to one of the participating workers. To avoid this limitation, you need to send the gradiants to a TRUSTED thirdparty (trusted aggregator) who will aggregate the models and then send the final model to the server (local worker). In this way, we assure that none of the participating workers can access the aggregated model!\n",
    "\n",
    "1. create a dataset for each worker (create two)\n",
    "2. create a model for each worker and train it remotely on each worker\n",
    "3. send those two models using the *move()* function to a third worker\n",
    "4. the third workers aggregates the two models (find their mean)\n",
    "5. send the aggregated model to the main server (local worker) using the *get()* function\n",
    "\n",
    "\n",
    "\n",
    "---\n",
    "\n",
    "To set the weights: `model.weight.set_()`\n",
    "\n"
   ]
  },
  {
   "cell_type": "code",
   "execution_count": 26,
   "metadata": {},
   "outputs": [
    {
     "data": {
      "text/plain": [
       "<VirtualWorker id:secureWorker #objects:0>"
      ]
     },
     "execution_count": 26,
     "metadata": {},
     "output_type": "execute_result"
    }
   ],
   "source": [
    "bob.clear_objects()\n",
    "alice.clear_objects()\n",
    "secureWorker.clear_objects()"
   ]
  },
  {
   "cell_type": "code",
   "execution_count": 1,
   "metadata": {
    "colab": {},
    "colab_type": "code",
    "id": "tFXjgbwIJMJP"
   },
   "outputs": [
    {
     "name": "stderr",
     "output_type": "stream",
     "text": [
      "WARNING: Logging before flag parsing goes to stderr.\n",
      "W0702 20:11:57.408961 12004 secure_random.py:22] Falling back to insecure randomness since the required custom op could not be found for the installed version of TensorFlow (1.14.0). Fix this by compiling custom ops.\n",
      "W0702 20:11:57.456983 12004 deprecation_wrapper.py:119] From C:\\Users\\tklinkenberg\\.conda\\envs\\CS490\\lib\\site-packages\\tf_encrypted\\session.py:28: The name tf.Session is deprecated. Please use tf.compat.v1.Session instead.\n",
      "\n"
     ]
    }
   ],
   "source": [
    "# Exercise 1\n",
    "import syft as sy\n",
    "import torch as th\n",
    "from torch import nn, optim"
   ]
  },
  {
   "cell_type": "code",
   "execution_count": 2,
   "metadata": {
    "colab": {
     "base_uri": "https://localhost:8080/",
     "height": 35
    },
    "colab_type": "code",
    "executionInfo": {
     "elapsed": 375,
     "status": "ok",
     "timestamp": 1562096535990,
     "user": {
      "displayName": "Gharib Gharibi",
      "photoUrl": "https://lh3.googleusercontent.com/-jKnQDkmhZKk/AAAAAAAAAAI/AAAAAAAAAPw/6ddzRde_d0Q/s64/photo.jpg",
      "userId": "12269101840630561007"
     },
     "user_tz": 300
    },
    "id": "JcqW6t-OJYz7",
    "outputId": "7101e9bc-ba4c-47de-df6a-b97976dc6a44"
   },
   "outputs": [],
   "source": [
    "hook = sy.TorchHook(th)"
   ]
  },
  {
   "cell_type": "code",
   "execution_count": 3,
   "metadata": {
    "colab": {},
    "colab_type": "code",
    "id": "VZ_F7YyTJehn"
   },
   "outputs": [],
   "source": [
    "# create workers\n",
    "bob = sy.VirtualWorker(hook, id=\"bob\")\n",
    "alice = sy.VirtualWorker(hook, id=\"alice\")\n",
    "secureWorker = sy.VirtualWorker(hook,id=\"secureWorker\")"
   ]
  },
  {
   "cell_type": "code",
   "execution_count": 4,
   "metadata": {
    "colab": {},
    "colab_type": "code",
    "id": "g3Xt28x8QYj4"
   },
   "outputs": [
    {
     "name": "stderr",
     "output_type": "stream",
     "text": [
      "W0702 20:11:59.096962 12004 base.py:628] Worker alice already exists. Replacing old worker which could cause                     unexpected behavior\n",
      "W0702 20:11:59.098974 12004 base.py:628] Worker secureWorker already exists. Replacing old worker which could cause                     unexpected behavior\n",
      "W0702 20:11:59.100963 12004 base.py:628] Worker bob already exists. Replacing old worker which could cause                     unexpected behavior\n",
      "W0702 20:11:59.103962 12004 base.py:628] Worker secureWorker already exists. Replacing old worker which could cause                     unexpected behavior\n",
      "W0702 20:11:59.105957 12004 base.py:628] Worker bob already exists. Replacing old worker which could cause                     unexpected behavior\n",
      "W0702 20:11:59.107956 12004 base.py:628] Worker alice already exists. Replacing old worker which could cause                     unexpected behavior\n"
     ]
    },
    {
     "data": {
      "text/plain": [
       "<VirtualWorker id:secureWorker #objects:0>"
      ]
     },
     "execution_count": 4,
     "metadata": {},
     "output_type": "execute_result"
    }
   ],
   "source": [
    "# Make each worker aware of the other workers\n",
    "bob.add_workers([alice,secureWorker])\n",
    "alice.add_workers([bob,secureWorker])\n",
    "secureWorker.add_workers([bob, alice])"
   ]
  },
  {
   "cell_type": "code",
   "execution_count": 5,
   "metadata": {
    "colab": {},
    "colab_type": "code",
    "id": "uo9uH_sbJow8"
   },
   "outputs": [],
   "source": [
    "# A Toy Dataset\n",
    "data = th.tensor([[1,0.1],[0,1],[1,0],[0,0]], requires_grad=True)\n",
    "target = th.tensor([[0.],[1.],[0],[0]], requires_grad=True)"
   ]
  },
  {
   "cell_type": "code",
   "execution_count": 6,
   "metadata": {
    "colab": {},
    "colab_type": "code",
    "id": "HC9UlOdiKHtJ"
   },
   "outputs": [],
   "source": [
    "# create local datasets at Bob and Alice\n",
    "data_bob = data[0:2].send(bob)\n",
    "data_alice = data[2:4].send(alice)\n",
    "target_bob = target[0:2].send(bob)\n",
    "target_alice = target[2:4].send(alice)\n",
    "dataset_bob = [(data_bob, target_bob)]\n",
    "dataset_alice = [(data_alice, target_alice)]"
   ]
  },
  {
   "cell_type": "code",
   "execution_count": 7,
   "metadata": {
    "colab": {},
    "colab_type": "code",
    "id": "KSVAYdhIRwX_"
   },
   "outputs": [],
   "source": [
    "# create a linear model at local worker\n",
    "#model = nn.Linear(2,1)"
   ]
  },
  {
   "cell_type": "code",
   "execution_count": 8,
   "metadata": {
    "colab": {},
    "colab_type": "code",
    "id": "P567LUOvM0Jv"
   },
   "outputs": [],
   "source": [
    "# Send copies of the linear model to alice and bob\n",
    "#model_bob = model.copy().send(data_bob.location)\n",
    "#model_alice = model.copy().send(data_alice.location)"
   ]
  },
  {
   "cell_type": "code",
   "execution_count": 9,
   "metadata": {},
   "outputs": [],
   "source": [
    "#print(model_bob)\n",
    "#print(model_alice)"
   ]
  },
  {
   "cell_type": "code",
   "execution_count": 10,
   "metadata": {
    "colab": {},
    "colab_type": "code",
    "id": "YlD49zIyR76Q"
   },
   "outputs": [],
   "source": [
    "# train the models at alice and bob\n",
    "def train(dataset,iterations=1):\n",
    "    model = nn.Linear(2,1)\n",
    "    opt = optim.SGD(params=model.parameters(), lr=0.1)\n",
    "    for iter in range(iterations):\n",
    "\n",
    "        for _data, _target in dataset:\n",
    "\n",
    "            # send model to the data\n",
    "            model = model.send(_data.location)\n",
    "\n",
    "            # do training on the remote machine\n",
    "            opt.zero_grad()\n",
    "            pred = model(_data)\n",
    "            loss = ((pred - _target)**2).mean()\n",
    "            loss.backward()\n",
    "            opt.step()\n",
    "\n",
    "            # get smarter model back\n",
    "            return model\n",
    "            # print(loss.get())\n",
    "\n"
   ]
  },
  {
   "cell_type": "code",
   "execution_count": 11,
   "metadata": {},
   "outputs": [
    {
     "name": "stdout",
     "output_type": "stream",
     "text": [
      "tensor([[ 0.2627, -0.4819]], requires_grad=True)\n",
      "{99940725144: Parameter containing:\n",
      "tensor([[ 0.5235, -0.5064]], requires_grad=True), 24706261009: Parameter containing:\n",
      "tensor([0.2746], requires_grad=True), 31552278743: Parameter containing:\n",
      "tensor([[ 0.0019, -0.4575]], requires_grad=True), 55759422011: Parameter containing:\n",
      "tensor([-0.3153], requires_grad=True)}\n"
     ]
    }
   ],
   "source": [
    "    # move the models to the third worker\n",
    "    x = train(dataset_bob,1)\n",
    "    x.move(secureWorker)\n",
    "    y = train(dataset_alice,1)\n",
    "    y.move(secureWorker)\n",
    "    # aggreegate the models\n",
    "    z = (x.weight+y.weight)/2\n",
    "# send the model back to the local worker\n",
    "trained_model = z.get()\n",
    "print(trained_model)\n",
    "print(secureWorker._objects)"
   ]
  },
  {
   "cell_type": "code",
   "execution_count": null,
   "metadata": {},
   "outputs": [],
   "source": []
  }
 ],
 "metadata": {
  "colab": {
   "collapsed_sections": [],
   "name": "L4 - Federated Learning_Solved.ipynb",
   "provenance": [
    {
     "file_id": "1oMl5bzok4eMI2tLvK0y1wqPrbrVtsl9y",
     "timestamp": 1561492495136
    }
   ],
   "version": "0.3.2"
  },
  "kernelspec": {
   "display_name": "Python 3",
   "language": "python",
   "name": "python3"
  },
  "language_info": {
   "codemirror_mode": {
    "name": "ipython",
    "version": 3
   },
   "file_extension": ".py",
   "mimetype": "text/x-python",
   "name": "python",
   "nbconvert_exporter": "python",
   "pygments_lexer": "ipython3",
   "version": "3.7.3"
  }
 },
 "nbformat": 4,
 "nbformat_minor": 1
}
